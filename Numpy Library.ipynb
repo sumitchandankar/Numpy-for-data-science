{
 "cells": [
  {
   "attachments": {
    "84bd13bb-4d00-492e-ab7e-07a0e240a773.webp": {
     "image/webp": "[encoded data removed]"
    }
   },
   "cell_type": "markdown",
   "id": "d7ebd7a6-3214-480c-a4bd-be58dc6c0369",
   "metadata": {},
   "source": [
    "### What is Numpy?\n",
    "\n",
    "**Numpy** is the fundamental package for scietific computing in python\n",
    "\n",
    "![1_QjsMCfrw4JyvsyWQA0SaHA.webp](attachment:84bd13bb-4d00-492e-ab7e-07a0e240a773.webp)\n",
    "\n"
   ]
  },
  {
   "cell_type": "markdown",
   "id": "4ad9f252-49eb-4843-b4e0-edb3da212543",
   "metadata": {},
   "source": [
    "It is a python libarary that provides a **multidimentional array object,** various derived objects (such as masked arrays and matrices) , and an assortment of routines for fast operations on arrays, including mathematical , logical , shape manipulation , sorting , selecting , I/O, discreate Fourier transforms , basic linear algebra , basic statistical operation , random simulation and much more .\n",
    "\n",
    "\n",
    "At the core of the Numpy package , is the ndarray object. this encapsulates n dimensional arrays of homogenous data types "
   ]
  },
  {
   "cell_type": "markdown",
   "id": "fe5cdaaa-a011-4642-b3d0-00d3a922e8af",
   "metadata": {},
   "source": [
    "#### Creating NUmpy array"
   ]
  },
  {
   "cell_type": "code",
   "execution_count": 4,
   "id": "8e83e7ca-3031-46ee-a36d-e8734e69bec2",
   "metadata": {},
   "outputs": [],
   "source": [
    "import numpy as np"
   ]
  },
  {
   "cell_type": "code",
   "execution_count": 5,
   "id": "76c21b01-9218-4ece-893e-acaf0d118929",
   "metadata": {},
   "outputs": [
    {
     "name": "stdout",
     "output_type": "stream",
     "text": [
      "[  2   4  56 422  32   1] <class 'numpy.ndarray'>\n"
     ]
    }
   ],
   "source": [
    "a = np.array([2,4,56,422,32,1]) \n",
    "print(a,type(a))"
   ]
  },
  {
   "cell_type": "code",
   "execution_count": 6,
   "id": "3e2a12ec-6e24-4ade-8a49-70d0b67f5cbf",
   "metadata": {},
   "outputs": [
    {
     "name": "stdout",
     "output_type": "stream",
     "text": [
      "[[ 45  32  32  54]\n",
      " [232 564  64  23]] <class 'numpy.ndarray'>\n",
      "dimension of the array= 2\n",
      "size of the array 8 in bytes\n"
     ]
    }
   ],
   "source": [
    "# 2d array\n",
    "new = np.array([[45,32,32,54],[232,564,64,23]]) \n",
    "print(new,type(new))\n",
    "print(\"dimension of the array=\",new.ndim)\n",
    "print(\"size of the array\",new.size,'in bytes')"
   ]
  },
  {
   "cell_type": "code",
   "execution_count": 7,
   "id": "08fbe895-603d-4698-abda-26ded85ff195",
   "metadata": {},
   "outputs": [
    {
     "name": "stdout",
     "output_type": "stream",
     "text": [
      "[[[   24    25   453   564    56    14]\n",
      "  [  234    45     3   546    22    24]\n",
      "  [    5 34653   663    24    24   254]]] <class 'numpy.ndarray'>\n",
      "dimension of array of array 3\n",
      "size of the array 18 in bytes\n"
     ]
    }
   ],
   "source": [
    "#3d array\n",
    "\n",
    "_3darray = np.array([[[24,25,453,564,56,14],[234,45,3,546,22,24],[5,34653,663,24,24,254]]])\n",
    "print(_3darray,type(_3darray))\n",
    "\n",
    "print(\"dimension of array of array\",_3darray.ndim)\n",
    "\n",
    "print(\"size of the array\",_3darray.size,'in bytes')"
   ]
  },
  {
   "cell_type": "markdown",
   "id": "c53a113c-0dea-4d47-98b3-796697008250",
   "metadata": {},
   "source": [
    "#### dtype\n",
    "\n",
    "The desired data type for the array .if not given then the type willbe determined as the minimum type required to hold the objects in the sequence"
   ]
  },
  {
   "cell_type": "code",
   "execution_count": 9,
   "id": "3c87dca9-a65d-4ca0-a7d6-a7e6497ac9e2",
   "metadata": {},
   "outputs": [
    {
     "data": {
      "text/plain": [
       "array([11, 22, 33])"
      ]
     },
     "execution_count": 9,
     "metadata": {},
     "output_type": "execute_result"
    }
   ],
   "source": [
    "np.array([11,22,33],dtype = int)"
   ]
  },
  {
   "cell_type": "code",
   "execution_count": 10,
   "id": "c8f3f1fc-8a5f-4caa-a7a5-f47a8661b38a",
   "metadata": {},
   "outputs": [
    {
     "data": {
      "text/plain": [
       "array([ True,  True,  True])"
      ]
     },
     "execution_count": 10,
     "metadata": {},
     "output_type": "execute_result"
    }
   ],
   "source": [
    "np.array([11,22,33],dtype = bool)"
   ]
  },
  {
   "cell_type": "code",
   "execution_count": 11,
   "id": "1c8d0ac4-3082-4965-add0-dc6d982dc80a",
   "metadata": {},
   "outputs": [
    {
     "data": {
      "text/plain": [
       "array([11.+0.j, 23.+0.j, 44.+0.j])"
      ]
     },
     "execution_count": 11,
     "metadata": {},
     "output_type": "execute_result"
    }
   ],
   "source": [
    "np.array([11,23,44] , dtype = complex)"
   ]
  },
  {
   "cell_type": "code",
   "execution_count": 12,
   "id": "505bb6cb-4644-4ba6-808f-f123c3563b4e",
   "metadata": {},
   "outputs": [
    {
     "data": {
      "text/plain": [
       "array([11, 23, 44])"
      ]
     },
     "execution_count": 12,
     "metadata": {},
     "output_type": "execute_result"
    }
   ],
   "source": [
    "np.array([11,23,44])"
   ]
  },
  {
   "cell_type": "markdown",
   "id": "de46a2d5-134b-4bb7-8140-4e8fac1d134a",
   "metadata": {},
   "source": [
    "#### Numpy arrays vs python sequences\n",
    "\n",
    "\n",
    "Numpy arrays have a fixed size at creation ,unlike python lists (which can grows dynamically).\n",
    "changing the size of an ndarray will create a new array and delete the original.\n",
    "\n",
    "The elements in a numpy array are all required to be of the same data type , and thus will be - the same size in memory.\n",
    "\n",
    "Numpy arrays facilitate advanced mathematical and other types of operations on large numbers of data .Typically ,such operations are executed more efficiently and with less code than is possible using python's built in sequences .\n",
    "\n",
    "A growing plethora of scientific and mathematical python based packages are using Numpy arrays ; though these typically support python sequences input, they convert such input to Numpy arrays prior to processing, and they often output Numpy arrays."
   ]
  },
  {
   "cell_type": "markdown",
   "id": "33e47943-13f2-4a7b-bfcf-1ffa3de49cae",
   "metadata": {},
   "source": [
    "####  arange \n",
    "\n",
    "arange can be called with a varying number of positional arguments "
   ]
  },
  {
   "cell_type": "code",
   "execution_count": 15,
   "id": "5aea38c3-b8fc-46db-99af-a3a9ea35819e",
   "metadata": {},
   "outputs": [
    {
     "data": {
      "text/plain": [
       "array([  1,   2,   3,   4,   5,   6,   7,   8,   9,  10,  11,  12,  13,\n",
       "        14,  15,  16,  17,  18,  19,  20,  21,  22,  23,  24,  25,  26,\n",
       "        27,  28,  29,  30,  31,  32,  33,  34,  35,  36,  37,  38,  39,\n",
       "        40,  41,  42,  43,  44,  45,  46,  47,  48,  49,  50,  51,  52,\n",
       "        53,  54,  55,  56,  57,  58,  59,  60,  61,  62,  63,  64,  65,\n",
       "        66,  67,  68,  69,  70,  71,  72,  73,  74,  75,  76,  77,  78,\n",
       "        79,  80,  81,  82,  83,  84,  85,  86,  87,  88,  89,  90,  91,\n",
       "        92,  93,  94,  95,  96,  97,  98,  99, 100, 101, 102, 103, 104,\n",
       "       105, 106, 107, 108, 109, 110, 111, 112, 113, 114, 115, 116, 117,\n",
       "       118, 119, 120, 121, 122, 123, 124])"
      ]
     },
     "execution_count": 15,
     "metadata": {},
     "output_type": "execute_result"
    }
   ],
   "source": [
    "np.arange(1,125) # 1 - included but 125 is not included"
   ]
  },
  {
   "cell_type": "code",
   "execution_count": 16,
   "id": "d277e490-92db-4450-aeb7-6cf6d1a3ed30",
   "metadata": {},
   "outputs": [
    {
     "data": {
      "text/plain": [
       "array([ 1,  3,  5,  7,  9, 11, 13, 15, 17, 19, 21, 23])"
      ]
     },
     "execution_count": 16,
     "metadata": {},
     "output_type": "execute_result"
    }
   ],
   "source": [
    "np.arange(1,25,2) "
   ]
  },
  {
   "cell_type": "markdown",
   "id": "ac631819-602e-4ab9-a50c-ee36341ac241",
   "metadata": {},
   "source": [
    "#### reshape\n",
    "\n",
    "Both of number products should  be equal to number of items present inside the array."
   ]
  },
  {
   "cell_type": "code",
   "execution_count": 18,
   "id": "8251c860-2f0a-44ea-b205-96e6cbfda876",
   "metadata": {},
   "outputs": [],
   "source": [
    "j = np.arange(1,11).reshape(5,2) # converted 5 rows and 2 columns "
   ]
  },
  {
   "cell_type": "code",
   "execution_count": 19,
   "id": "938a8777-91a3-43a7-985d-edc7c65dc164",
   "metadata": {},
   "outputs": [
    {
     "data": {
      "text/plain": [
       "array([[ 1,  2,  3,  4,  5],\n",
       "       [ 6,  7,  8,  9, 10]])"
      ]
     },
     "execution_count": 19,
     "metadata": {},
     "output_type": "execute_result"
    }
   ],
   "source": [
    "j.reshape(2,5)"
   ]
  },
  {
   "cell_type": "code",
   "execution_count": 20,
   "id": "73681d62-d172-4b34-b53a-401aa16ded20",
   "metadata": {},
   "outputs": [
    {
     "data": {
      "text/plain": [
       "array([[ 1,  2,  3,  4],\n",
       "       [ 5,  6,  7,  8],\n",
       "       [ 9, 10, 11, 12]])"
      ]
     },
     "execution_count": 20,
     "metadata": {},
     "output_type": "execute_result"
    }
   ],
   "source": [
    "np.arange(1,13).reshape(3,4) # converted 3 rows and 4 columns"
   ]
  },
  {
   "cell_type": "markdown",
   "id": "54ddc29b-1e91-4e8a-9a78-08bcd8af37e3",
   "metadata": {},
   "source": [
    "#### ones and zeros \n",
    "\n",
    "you can initialize the values . ex in deep  learning weight shape \n"
   ]
  },
  {
   "cell_type": "code",
   "execution_count": 22,
   "id": "bb9a2823-2237-43b1-9881-926d12f6f897",
   "metadata": {},
   "outputs": [
    {
     "data": {
      "text/plain": [
       "array([[1., 1., 1., 1.],\n",
       "       [1., 1., 1., 1.],\n",
       "       [1., 1., 1., 1.]])"
      ]
     },
     "execution_count": 22,
     "metadata": {},
     "output_type": "execute_result"
    }
   ],
   "source": [
    "np.ones((3,4)) # we have to mention inside tuple"
   ]
  },
  {
   "cell_type": "code",
   "execution_count": 23,
   "id": "76c0175f-c0b4-4366-a340-5e4d05647ba8",
   "metadata": {},
   "outputs": [
    {
     "data": {
      "text/plain": [
       "array([[0., 0., 0., 0.],\n",
       "       [0., 0., 0., 0.],\n",
       "       [0., 0., 0., 0.]])"
      ]
     },
     "execution_count": 23,
     "metadata": {},
     "output_type": "execute_result"
    }
   ],
   "source": [
    "np.zeros((3,4))"
   ]
  },
  {
   "cell_type": "code",
   "execution_count": 24,
   "id": "4e93f818-fd07-49c5-ade7-b4f70a2d68a8",
   "metadata": {},
   "outputs": [
    {
     "data": {
      "text/plain": [
       "array([[0.5793949 , 0.85299877, 0.23189361],\n",
       "       [0.98467846, 0.29756402, 0.02699302],\n",
       "       [0.65748221, 0.62172235, 0.91620167],\n",
       "       [0.43120194, 0.6184603 , 0.07552498]])"
      ]
     },
     "execution_count": 24,
     "metadata": {},
     "output_type": "execute_result"
    }
   ],
   "source": [
    "np.random.random((4,3))"
   ]
  },
  {
   "cell_type": "markdown",
   "id": "4fc7bc82-79c5-4b90-80c6-f8181087791e",
   "metadata": {},
   "source": [
    "#### linspace \n",
    "\n",
    "it is also called as linearly space linearly separable in a given range at equal distanve it creates points."
   ]
  },
  {
   "cell_type": "code",
   "execution_count": 26,
   "id": "d1f15d9a-51ba-48f8-aa0f-209f25e2977b",
   "metadata": {},
   "outputs": [
    {
     "data": {
      "text/plain": [
       "array([-10.,  -5.,   0.,   5.,  10.])"
      ]
     },
     "execution_count": 26,
     "metadata": {},
     "output_type": "execute_result"
    }
   ],
   "source": [
    "np.linspace(-10,10,5)"
   ]
  },
  {
   "cell_type": "code",
   "execution_count": 27,
   "id": "c624d275-ec6e-4402-bef5-f2597b489265",
   "metadata": {},
   "outputs": [
    {
     "data": {
      "text/plain": [
       "array([-2. ,  0.8,  3.6,  6.4,  9.2, 12. ])"
      ]
     },
     "execution_count": 27,
     "metadata": {},
     "output_type": "execute_result"
    }
   ],
   "source": [
    "np.linspace(-2,12,6)"
   ]
  },
  {
   "cell_type": "markdown",
   "id": "41a697c6-61e8-4326-acac-ff8bfda961a7",
   "metadata": {},
   "source": [
    "####  identity\n",
    "\n",
    "identity matrix is that diagonal items will be ones and everything will be zeros "
   ]
  },
  {
   "cell_type": "code",
   "execution_count": 29,
   "id": "28eea4fd-e8d9-4c11-97d3-8708550259e7",
   "metadata": {},
   "outputs": [
    {
     "data": {
      "text/plain": [
       "array([[1., 0., 0.],\n",
       "       [0., 1., 0.],\n",
       "       [0., 0., 1.]])"
      ]
     },
     "execution_count": 29,
     "metadata": {},
     "output_type": "execute_result"
    }
   ],
   "source": [
    "np.identity(3)"
   ]
  },
  {
   "cell_type": "code",
   "execution_count": 30,
   "id": "8702a6f8-1a2f-462e-8f6a-38ae648fdc0f",
   "metadata": {},
   "outputs": [
    {
     "data": {
      "text/plain": [
       "array([[1., 0., 0., 0., 0., 0., 0.],\n",
       "       [0., 1., 0., 0., 0., 0., 0.],\n",
       "       [0., 0., 1., 0., 0., 0., 0.],\n",
       "       [0., 0., 0., 1., 0., 0., 0.],\n",
       "       [0., 0., 0., 0., 1., 0., 0.],\n",
       "       [0., 0., 0., 0., 0., 1., 0.],\n",
       "       [0., 0., 0., 0., 0., 0., 1.]])"
      ]
     },
     "execution_count": 30,
     "metadata": {},
     "output_type": "execute_result"
    }
   ],
   "source": [
    "np.identity(7)"
   ]
  },
  {
   "cell_type": "markdown",
   "id": "37a4d62f-f280-4381-864a-e5203a9e111e",
   "metadata": {},
   "source": [
    "####  array attributes \n"
   ]
  },
  {
   "cell_type": "code",
   "execution_count": 32,
   "id": "92906a63-a959-4983-9e3e-bef4789451f0",
   "metadata": {},
   "outputs": [
    {
     "data": {
      "text/plain": [
       "array([0, 1, 2, 3, 4, 5, 6, 7, 8, 9])"
      ]
     },
     "execution_count": 32,
     "metadata": {},
     "output_type": "execute_result"
    }
   ],
   "source": [
    "a1 = np.arange(10)\n",
    "a1"
   ]
  },
  {
   "cell_type": "code",
   "execution_count": 33,
   "id": "4b9f1ba0-c7e9-425d-9aab-4235e0f29c41",
   "metadata": {},
   "outputs": [
    {
     "data": {
      "text/plain": [
       "array([[ 0.,  1.,  2.,  3.],\n",
       "       [ 4.,  5.,  6.,  7.],\n",
       "       [ 8.,  9., 10., 11.]])"
      ]
     },
     "execution_count": 33,
     "metadata": {},
     "output_type": "execute_result"
    }
   ],
   "source": [
    "a2 = np.arange(12,dtype = float).reshape(3,4)\n",
    "a2"
   ]
  },
  {
   "cell_type": "code",
   "execution_count": 34,
   "id": "b4e0c73c-aa3b-471f-953a-e886dbc8642d",
   "metadata": {},
   "outputs": [
    {
     "data": {
      "text/plain": [
       "array([[[0, 1],\n",
       "        [2, 3]],\n",
       "\n",
       "       [[4, 5],\n",
       "        [6, 7]]])"
      ]
     },
     "execution_count": 34,
     "metadata": {},
     "output_type": "execute_result"
    }
   ],
   "source": [
    "a3 = np.arange(8) .reshape(2,2,2)\n",
    "a3"
   ]
  },
  {
   "cell_type": "markdown",
   "id": "c7ee9543-f923-4dd0-8a73-c3873dd82bef",
   "metadata": {},
   "source": [
    "#### ndim\n",
    "\n",
    "to findout given arrays number of dimensions "
   ]
  },
  {
   "cell_type": "code",
   "execution_count": 36,
   "id": "dd0313cd-1a7e-4426-8250-51f0f1b2bc1d",
   "metadata": {},
   "outputs": [
    {
     "data": {
      "text/plain": [
       "1"
      ]
     },
     "execution_count": 36,
     "metadata": {},
     "output_type": "execute_result"
    }
   ],
   "source": [
    "a1.ndim"
   ]
  },
  {
   "cell_type": "code",
   "execution_count": 37,
   "id": "1f9a1b96-fe8f-4065-ba0d-4402d28a859b",
   "metadata": {},
   "outputs": [
    {
     "data": {
      "text/plain": [
       "2"
      ]
     },
     "execution_count": 37,
     "metadata": {},
     "output_type": "execute_result"
    }
   ],
   "source": [
    "a2.ndim"
   ]
  },
  {
   "cell_type": "code",
   "execution_count": 38,
   "id": "9d3fe5c3-1f03-4174-9059-4f195242640f",
   "metadata": {},
   "outputs": [
    {
     "data": {
      "text/plain": [
       "3"
      ]
     },
     "execution_count": 38,
     "metadata": {},
     "output_type": "execute_result"
    }
   ],
   "source": [
    "a3.ndim"
   ]
  },
  {
   "cell_type": "markdown",
   "id": "cbd60ff2-cdd5-4407-ba0c-d950358affd6",
   "metadata": {},
   "source": [
    "#### shape \n",
    "\n",
    "gives each item consist of no of rows and column"
   ]
  },
  {
   "cell_type": "code",
   "execution_count": 40,
   "id": "47071b16-b2b7-43b5-aa6e-58de6ed890e7",
   "metadata": {},
   "outputs": [
    {
     "data": {
      "text/plain": [
       "(10,)"
      ]
     },
     "execution_count": 40,
     "metadata": {},
     "output_type": "execute_result"
    }
   ],
   "source": [
    "a1.shape"
   ]
  },
  {
   "cell_type": "code",
   "execution_count": 41,
   "id": "954c3952-fb44-4756-b3bd-699d4bc965f5",
   "metadata": {},
   "outputs": [
    {
     "data": {
      "text/plain": [
       "(3, 4)"
      ]
     },
     "execution_count": 41,
     "metadata": {},
     "output_type": "execute_result"
    }
   ],
   "source": [
    "a2.shape"
   ]
  },
  {
   "cell_type": "code",
   "execution_count": 42,
   "id": "b5dccc2f-7025-4292-b170-bbf032ac2146",
   "metadata": {},
   "outputs": [
    {
     "data": {
      "text/plain": [
       "(2, 2, 2)"
      ]
     },
     "execution_count": 42,
     "metadata": {},
     "output_type": "execute_result"
    }
   ],
   "source": [
    "a3.shape"
   ]
  },
  {
   "cell_type": "markdown",
   "id": "4d15be34-61a3-48ac-9656-259c8fa87f5f",
   "metadata": {},
   "source": [
    "#### size \n",
    "\n",
    "gives number of items"
   ]
  },
  {
   "cell_type": "code",
   "execution_count": 44,
   "id": "8ac6cb14-e962-461d-9b35-3baac597c457",
   "metadata": {},
   "outputs": [
    {
     "data": {
      "text/plain": [
       "array([[[0, 1],\n",
       "        [2, 3]],\n",
       "\n",
       "       [[4, 5],\n",
       "        [6, 7]]])"
      ]
     },
     "execution_count": 44,
     "metadata": {},
     "output_type": "execute_result"
    }
   ],
   "source": [
    "a3"
   ]
  },
  {
   "cell_type": "code",
   "execution_count": 45,
   "id": "a8445c04-c271-497b-b09d-e673d6a6bd11",
   "metadata": {},
   "outputs": [
    {
     "data": {
      "text/plain": [
       "8"
      ]
     },
     "execution_count": 45,
     "metadata": {},
     "output_type": "execute_result"
    }
   ],
   "source": [
    "a3.size"
   ]
  },
  {
   "cell_type": "code",
   "execution_count": 46,
   "id": "78db0d1b-f79c-414c-84c1-ca6c62747434",
   "metadata": {},
   "outputs": [
    {
     "data": {
      "text/plain": [
       "12"
      ]
     },
     "execution_count": 46,
     "metadata": {},
     "output_type": "execute_result"
    }
   ],
   "source": [
    "a2.size"
   ]
  },
  {
   "cell_type": "code",
   "execution_count": 47,
   "id": "3aba28c3-9978-4f6e-aa16-6f9d0b1d6472",
   "metadata": {},
   "outputs": [
    {
     "data": {
      "text/plain": [
       "10"
      ]
     },
     "execution_count": 47,
     "metadata": {},
     "output_type": "execute_result"
    }
   ],
   "source": [
    "a1.size"
   ]
  },
  {
   "cell_type": "markdown",
   "id": "44ae199e-19c5-43a3-ad9b-57a212fc5328",
   "metadata": {},
   "source": [
    "#### item size \n",
    "\n",
    "Memory occupied by the item"
   ]
  },
  {
   "cell_type": "code",
   "execution_count": 49,
   "id": "85306e90-ab7e-46ed-bad0-0fe7eef7cf95",
   "metadata": {},
   "outputs": [
    {
     "data": {
      "text/plain": [
       "array([0, 1, 2, 3, 4, 5, 6, 7, 8, 9])"
      ]
     },
     "execution_count": 49,
     "metadata": {},
     "output_type": "execute_result"
    }
   ],
   "source": [
    "a1"
   ]
  },
  {
   "cell_type": "code",
   "execution_count": 50,
   "id": "9d474533-a7a0-4bf4-a704-2174968aa96d",
   "metadata": {},
   "outputs": [
    {
     "data": {
      "text/plain": [
       "4"
      ]
     },
     "execution_count": 50,
     "metadata": {},
     "output_type": "execute_result"
    }
   ],
   "source": [
    "a1.itemsize"
   ]
  },
  {
   "cell_type": "code",
   "execution_count": 51,
   "id": "f4f5ed74-8387-4d58-8e02-e65855d146c9",
   "metadata": {},
   "outputs": [
    {
     "data": {
      "text/plain": [
       "8"
      ]
     },
     "execution_count": 51,
     "metadata": {},
     "output_type": "execute_result"
    }
   ],
   "source": [
    "a2.itemsize"
   ]
  },
  {
   "cell_type": "code",
   "execution_count": 52,
   "id": "903edb95-a7f4-4793-a9d7-47407dad289d",
   "metadata": {},
   "outputs": [
    {
     "data": {
      "text/plain": [
       "4"
      ]
     },
     "execution_count": 52,
     "metadata": {},
     "output_type": "execute_result"
    }
   ],
   "source": [
    "a3.itemsize"
   ]
  },
  {
   "cell_type": "markdown",
   "id": "2f4428b0-9235-49fd-813a-64cd0bbb03d3",
   "metadata": {},
   "source": [
    "####  dtype\n",
    "\n",
    "gives data type of the item"
   ]
  },
  {
   "cell_type": "code",
   "execution_count": 54,
   "id": "91fc1d0b-188e-470d-905d-a18cdea5e3e6",
   "metadata": {},
   "outputs": [
    {
     "data": {
      "text/plain": [
       "dtype('int32')"
      ]
     },
     "execution_count": 54,
     "metadata": {},
     "output_type": "execute_result"
    }
   ],
   "source": [
    "a1.dtype"
   ]
  },
  {
   "cell_type": "code",
   "execution_count": 55,
   "id": "5d678390-1752-4c86-8f79-e97277631401",
   "metadata": {},
   "outputs": [
    {
     "data": {
      "text/plain": [
       "dtype('float64')"
      ]
     },
     "execution_count": 55,
     "metadata": {},
     "output_type": "execute_result"
    }
   ],
   "source": [
    "a2.dtype"
   ]
  },
  {
   "cell_type": "code",
   "execution_count": 56,
   "id": "f83f669f-b969-4f2d-9e15-9c8c2553fe87",
   "metadata": {},
   "outputs": [
    {
     "data": {
      "text/plain": [
       "dtype('int32')"
      ]
     },
     "execution_count": 56,
     "metadata": {},
     "output_type": "execute_result"
    }
   ],
   "source": [
    "a3.dtype"
   ]
  },
  {
   "cell_type": "markdown",
   "id": "fbd2469c-61cd-415b-9a27-cbcf375bb613",
   "metadata": {},
   "source": [
    "#### Changing data types "
   ]
  },
  {
   "cell_type": "code",
   "execution_count": 58,
   "id": "f6642840-85b7-44c2-92c1-c0eb88440b71",
   "metadata": {},
   "outputs": [
    {
     "data": {
      "text/plain": [
       "dtype('float64')"
      ]
     },
     "execution_count": 58,
     "metadata": {},
     "output_type": "execute_result"
    }
   ],
   "source": [
    "x = np.array([33,22,2.5])\n",
    "x.dtype"
   ]
  },
  {
   "cell_type": "code",
   "execution_count": 59,
   "id": "7ee73bac-da6f-4a66-925c-b6fa7e55cf30",
   "metadata": {},
   "outputs": [
    {
     "data": {
      "text/plain": [
       "dtype('int32')"
      ]
     },
     "execution_count": 59,
     "metadata": {},
     "output_type": "execute_result"
    }
   ],
   "source": [
    "x = x.astype(int)\n",
    "x.dtype"
   ]
  },
  {
   "cell_type": "markdown",
   "id": "b0a1520d-e879-4190-bcb1-2f9f5bc6fa95",
   "metadata": {},
   "source": [
    "####  Array operations \n"
   ]
  },
  {
   "cell_type": "code",
   "execution_count": 61,
   "id": "83eb6618-fd1d-45b8-a252-d3c228c0098c",
   "metadata": {},
   "outputs": [],
   "source": [
    "z1 = np.arange(12).reshape(3,4)\n",
    "z2 = np.arange(12,24).reshape(3,4)"
   ]
  },
  {
   "cell_type": "code",
   "execution_count": 62,
   "id": "3ccfaa7e-e4a6-433e-a3af-49913706978c",
   "metadata": {},
   "outputs": [
    {
     "data": {
      "text/plain": [
       "array([[ 0,  1,  2,  3],\n",
       "       [ 4,  5,  6,  7],\n",
       "       [ 8,  9, 10, 11]])"
      ]
     },
     "execution_count": 62,
     "metadata": {},
     "output_type": "execute_result"
    }
   ],
   "source": [
    "z1"
   ]
  },
  {
   "cell_type": "code",
   "execution_count": 63,
   "id": "87138f83-a377-468c-b7ba-2ad61afb16e1",
   "metadata": {},
   "outputs": [
    {
     "data": {
      "text/plain": [
       "array([[12, 13, 14, 15],\n",
       "       [16, 17, 18, 19],\n",
       "       [20, 21, 22, 23]])"
      ]
     },
     "execution_count": 63,
     "metadata": {},
     "output_type": "execute_result"
    }
   ],
   "source": [
    "z2"
   ]
  },
  {
   "cell_type": "markdown",
   "id": "078ae76a-9e3c-4c13-9474-6860f111d7fb",
   "metadata": {},
   "source": [
    "####  scalar operations \n",
    "\n",
    "scaler operations on numpy arrays include performing addition or substraction or multiplication on each element of a numpy array."
   ]
  },
  {
   "cell_type": "code",
   "execution_count": 65,
   "id": "866a7970-3426-40e8-aaad-6bf23497e639",
   "metadata": {},
   "outputs": [
    {
     "data": {
      "text/plain": [
       "array([[ 2,  3,  4,  5],\n",
       "       [ 6,  7,  8,  9],\n",
       "       [10, 11, 12, 13]])"
      ]
     },
     "execution_count": 65,
     "metadata": {},
     "output_type": "execute_result"
    }
   ],
   "source": [
    "z1 +2"
   ]
  },
  {
   "cell_type": "code",
   "execution_count": 66,
   "id": "fd9af79e-e402-426d-8765-8eba2f603140",
   "metadata": {},
   "outputs": [
    {
     "data": {
      "text/plain": [
       "array([[-2, -1,  0,  1],\n",
       "       [ 2,  3,  4,  5],\n",
       "       [ 6,  7,  8,  9]])"
      ]
     },
     "execution_count": 66,
     "metadata": {},
     "output_type": "execute_result"
    }
   ],
   "source": [
    "z1 - 2"
   ]
  },
  {
   "cell_type": "code",
   "execution_count": 67,
   "id": "9972077f-1833-4c75-9da9-2fdba48cf276",
   "metadata": {},
   "outputs": [
    {
     "data": {
      "text/plain": [
       "array([[ 0,  4,  8, 12],\n",
       "       [16, 20, 24, 28],\n",
       "       [32, 36, 40, 44]])"
      ]
     },
     "execution_count": 67,
     "metadata": {},
     "output_type": "execute_result"
    }
   ],
   "source": [
    "z1 * 4"
   ]
  },
  {
   "cell_type": "code",
   "execution_count": 68,
   "id": "41e575c6-362d-46db-b722-1b90321ed6b9",
   "metadata": {},
   "outputs": [
    {
     "data": {
      "text/plain": [
       "array([[  0,   1,   4,   9],\n",
       "       [ 16,  25,  36,  49],\n",
       "       [ 64,  81, 100, 121]])"
      ]
     },
     "execution_count": 68,
     "metadata": {},
     "output_type": "execute_result"
    }
   ],
   "source": [
    "z1 ** 2"
   ]
  },
  {
   "cell_type": "code",
   "execution_count": 69,
   "id": "efd810dc-82cd-4ff0-98fe-1261b288ece9",
   "metadata": {},
   "outputs": [
    {
     "data": {
      "text/plain": [
       "array([[0, 1, 0, 1],\n",
       "       [0, 1, 0, 1],\n",
       "       [0, 1, 0, 1]], dtype=int32)"
      ]
     },
     "execution_count": 69,
     "metadata": {},
     "output_type": "execute_result"
    }
   ],
   "source": [
    "z1%2"
   ]
  },
  {
   "cell_type": "markdown",
   "id": "9b644116-102a-46c8-8419-fc539d47b3e8",
   "metadata": {},
   "source": [
    "####  relational operators \n",
    "\n",
    "the relational operators also known as comparison operators ,their main function is to return either true or false based on the value of operands."
   ]
  },
  {
   "cell_type": "code",
   "execution_count": 71,
   "id": "c479b1d8-19ef-4176-ab96-99a271f443e5",
   "metadata": {},
   "outputs": [
    {
     "data": {
      "text/plain": [
       "array([[12, 13, 14, 15],\n",
       "       [16, 17, 18, 19],\n",
       "       [20, 21, 22, 23]])"
      ]
     },
     "execution_count": 71,
     "metadata": {},
     "output_type": "execute_result"
    }
   ],
   "source": [
    "z2"
   ]
  },
  {
   "cell_type": "code",
   "execution_count": 72,
   "id": "ca3c7098-9c79-471e-8964-5a7a9bddf7ae",
   "metadata": {},
   "outputs": [
    {
     "data": {
      "text/plain": [
       "array([[ True,  True,  True,  True],\n",
       "       [ True,  True,  True,  True],\n",
       "       [ True,  True,  True,  True]])"
      ]
     },
     "execution_count": 72,
     "metadata": {},
     "output_type": "execute_result"
    }
   ],
   "source": [
    "z2>2"
   ]
  },
  {
   "cell_type": "code",
   "execution_count": 73,
   "id": "7ea8aeb6-f69b-457b-852b-147b4ad0242d",
   "metadata": {},
   "outputs": [
    {
     "data": {
      "text/plain": [
       "array([[ True,  True,  True,  True],\n",
       "       [ True,  True,  True,  True],\n",
       "       [ True,  True,  True,  True]])"
      ]
     },
     "execution_count": 73,
     "metadata": {},
     "output_type": "execute_result"
    }
   ],
   "source": [
    "z2>10"
   ]
  },
  {
   "cell_type": "code",
   "execution_count": 74,
   "id": "4a787d3f-96c6-4915-98de-46386c1c2282",
   "metadata": {},
   "outputs": [
    {
     "data": {
      "text/plain": [
       "array([[False, False, False, False],\n",
       "       [False, False, False, False],\n",
       "       [False,  True,  True,  True]])"
      ]
     },
     "execution_count": 74,
     "metadata": {},
     "output_type": "execute_result"
    }
   ],
   "source": [
    "z2>20"
   ]
  },
  {
   "cell_type": "markdown",
   "id": "91a68260-ffb4-4f9a-9c00-69bf963357d0",
   "metadata": {},
   "source": [
    "#### Vector operations\n",
    "\n",
    "we can apply on both numpy array"
   ]
  },
  {
   "cell_type": "code",
   "execution_count": 76,
   "id": "70587f48-4512-475c-80d5-900bfa4961d1",
   "metadata": {},
   "outputs": [
    {
     "data": {
      "text/plain": [
       "array([[ 0,  1,  2,  3],\n",
       "       [ 4,  5,  6,  7],\n",
       "       [ 8,  9, 10, 11]])"
      ]
     },
     "execution_count": 76,
     "metadata": {},
     "output_type": "execute_result"
    }
   ],
   "source": [
    "z1"
   ]
  },
  {
   "cell_type": "code",
   "execution_count": 77,
   "id": "7ce01697-c093-4b97-8919-6c7c71d83aac",
   "metadata": {},
   "outputs": [
    {
     "data": {
      "text/plain": [
       "array([[12, 13, 14, 15],\n",
       "       [16, 17, 18, 19],\n",
       "       [20, 21, 22, 23]])"
      ]
     },
     "execution_count": 77,
     "metadata": {},
     "output_type": "execute_result"
    }
   ],
   "source": [
    "z2"
   ]
  },
  {
   "cell_type": "code",
   "execution_count": 78,
   "id": "c107e13f-2cdf-4f47-8ca1-cae5c9a6349b",
   "metadata": {},
   "outputs": [
    {
     "data": {
      "text/plain": [
       "array([[12, 14, 16, 18],\n",
       "       [20, 22, 24, 26],\n",
       "       [28, 30, 32, 34]])"
      ]
     },
     "execution_count": 78,
     "metadata": {},
     "output_type": "execute_result"
    }
   ],
   "source": [
    "z1+z2"
   ]
  },
  {
   "cell_type": "code",
   "execution_count": 79,
   "id": "c03dd207-aea9-4ea6-9960-c0576f8e8fa8",
   "metadata": {},
   "outputs": [
    {
     "data": {
      "text/plain": [
       "array([[  0,  13,  28,  45],\n",
       "       [ 64,  85, 108, 133],\n",
       "       [160, 189, 220, 253]])"
      ]
     },
     "execution_count": 79,
     "metadata": {},
     "output_type": "execute_result"
    }
   ],
   "source": [
    "z1*z2"
   ]
  },
  {
   "cell_type": "code",
   "execution_count": 80,
   "id": "e2b0a7a4-44dc-4c76-9612-d814fba90563",
   "metadata": {},
   "outputs": [
    {
     "data": {
      "text/plain": [
       "array([[-12, -12, -12, -12],\n",
       "       [-12, -12, -12, -12],\n",
       "       [-12, -12, -12, -12]])"
      ]
     },
     "execution_count": 80,
     "metadata": {},
     "output_type": "execute_result"
    }
   ],
   "source": [
    "z1-z2"
   ]
  },
  {
   "cell_type": "code",
   "execution_count": 81,
   "id": "dbeef016-7be3-4546-8242-7fe1b703defd",
   "metadata": {},
   "outputs": [
    {
     "data": {
      "text/plain": [
       "array([[0.        , 0.07692308, 0.14285714, 0.2       ],\n",
       "       [0.25      , 0.29411765, 0.33333333, 0.36842105],\n",
       "       [0.4       , 0.42857143, 0.45454545, 0.47826087]])"
      ]
     },
     "execution_count": 81,
     "metadata": {},
     "output_type": "execute_result"
    }
   ],
   "source": [
    "z1/z2"
   ]
  },
  {
   "cell_type": "markdown",
   "id": "48c72401-1090-4254-b5c1-2bed2853268e",
   "metadata": {},
   "source": [
    "#### Array function"
   ]
  },
  {
   "cell_type": "code",
   "execution_count": 83,
   "id": "8a0d7911-ae81-4b03-9a94-a94a72b7a68a",
   "metadata": {},
   "outputs": [
    {
     "data": {
      "text/plain": [
       "array([[54., 43., 93.],\n",
       "       [91., 18., 11.],\n",
       "       [72., 70.,  8.]])"
      ]
     },
     "execution_count": 83,
     "metadata": {},
     "output_type": "execute_result"
    }
   ],
   "source": [
    "k1 = np.random.random((3,3))\n",
    "k1 = np.round(k1*100)\n",
    "k1"
   ]
  },
  {
   "cell_type": "code",
   "execution_count": 84,
   "id": "9161a204-8e7a-4acb-ad49-6f5e0d82b19e",
   "metadata": {},
   "outputs": [
    {
     "data": {
      "text/plain": [
       "93.0"
      ]
     },
     "execution_count": 84,
     "metadata": {},
     "output_type": "execute_result"
    }
   ],
   "source": [
    "np.max(k1)"
   ]
  },
  {
   "cell_type": "code",
   "execution_count": 85,
   "id": "cb84a52b-252a-4f56-942c-837f91e56ed3",
   "metadata": {},
   "outputs": [
    {
     "data": {
      "text/plain": [
       "8.0"
      ]
     },
     "execution_count": 85,
     "metadata": {},
     "output_type": "execute_result"
    }
   ],
   "source": [
    "np.min(k1)"
   ]
  },
  {
   "cell_type": "code",
   "execution_count": 86,
   "id": "9e412cde-807d-43f4-886c-4f1522e31b84",
   "metadata": {},
   "outputs": [
    {
     "data": {
      "text/plain": [
       "460.0"
      ]
     },
     "execution_count": 86,
     "metadata": {},
     "output_type": "execute_result"
    }
   ],
   "source": [
    "np.sum(k1)"
   ]
  },
  {
   "cell_type": "code",
   "execution_count": 87,
   "id": "dd955834-27cb-441d-9170-dc7658e97683",
   "metadata": {},
   "outputs": [
    {
     "data": {
      "text/plain": [
       "156881693928960.0"
      ]
     },
     "execution_count": 87,
     "metadata": {},
     "output_type": "execute_result"
    }
   ],
   "source": [
    "np.prod(k1)"
   ]
  },
  {
   "cell_type": "code",
   "execution_count": 88,
   "id": "cab6c178-2d9b-4515-8b52-69eb78d08844",
   "metadata": {},
   "outputs": [
    {
     "data": {
      "text/plain": [
       "array([93., 91., 72.])"
      ]
     },
     "execution_count": 88,
     "metadata": {},
     "output_type": "execute_result"
    }
   ],
   "source": [
    "np.max(k1,axis = 1)"
   ]
  },
  {
   "cell_type": "code",
   "execution_count": 89,
   "id": "2cc53d55-6168-4d19-8a5b-4b2529c1afe8",
   "metadata": {},
   "outputs": [
    {
     "data": {
      "text/plain": [
       "array([54., 18.,  8.])"
      ]
     },
     "execution_count": 89,
     "metadata": {},
     "output_type": "execute_result"
    }
   ],
   "source": [
    "np.min(k1,axis = 0)"
   ]
  },
  {
   "cell_type": "code",
   "execution_count": 90,
   "id": "5cce384f-dafa-4566-899d-77830d2c4e4d",
   "metadata": {},
   "outputs": [
    {
     "data": {
      "text/plain": [
       "array([353808.,  54180.,   8184.])"
      ]
     },
     "execution_count": 90,
     "metadata": {},
     "output_type": "execute_result"
    }
   ],
   "source": [
    "np.prod(k1,axis = 0)"
   ]
  },
  {
   "cell_type": "markdown",
   "id": "61c457bb-32c0-479c-adda-864b554b5689",
   "metadata": {},
   "source": [
    "#### statistics related funnctions"
   ]
  },
  {
   "cell_type": "code",
   "execution_count": 92,
   "id": "866c5f45-de2c-43d5-8b99-ed6fffbacded",
   "metadata": {},
   "outputs": [
    {
     "data": {
      "text/plain": [
       "array([[54., 43., 93.],\n",
       "       [91., 18., 11.],\n",
       "       [72., 70.,  8.]])"
      ]
     },
     "execution_count": 92,
     "metadata": {},
     "output_type": "execute_result"
    }
   ],
   "source": [
    "k1"
   ]
  },
  {
   "cell_type": "code",
   "execution_count": 93,
   "id": "b8eb6859-801c-4274-a759-cf48a460b330",
   "metadata": {},
   "outputs": [
    {
     "data": {
      "text/plain": [
       "51.111111111111114"
      ]
     },
     "execution_count": 93,
     "metadata": {},
     "output_type": "execute_result"
    }
   ],
   "source": [
    "np.mean(k1)"
   ]
  },
  {
   "cell_type": "code",
   "execution_count": 94,
   "id": "31e30af6-1498-4b70-9053-bb6ebbdcbd4a",
   "metadata": {},
   "outputs": [
    {
     "data": {
      "text/plain": [
       "array([72.33333333, 43.66666667, 37.33333333])"
      ]
     },
     "execution_count": 94,
     "metadata": {},
     "output_type": "execute_result"
    }
   ],
   "source": [
    "k1.mean(axis = 0)"
   ]
  },
  {
   "cell_type": "code",
   "execution_count": 95,
   "id": "b8a58f75-c411-4a85-b75e-f8cbcf927791",
   "metadata": {},
   "outputs": [
    {
     "data": {
      "text/plain": [
       "54.0"
      ]
     },
     "execution_count": 95,
     "metadata": {},
     "output_type": "execute_result"
    }
   ],
   "source": [
    "np.median(k1)"
   ]
  },
  {
   "cell_type": "code",
   "execution_count": 96,
   "id": "1f88f377-157b-462e-9b06-347b4d433546",
   "metadata": {},
   "outputs": [
    {
     "data": {
      "text/plain": [
       "array([54., 18., 70.])"
      ]
     },
     "execution_count": 96,
     "metadata": {},
     "output_type": "execute_result"
    }
   ],
   "source": [
    "np.median(k1,axis =1)"
   ]
  },
  {
   "cell_type": "code",
   "execution_count": 97,
   "id": "4393d452-88a8-46ef-9b88-9dc7cb758aa1",
   "metadata": {},
   "outputs": [
    {
     "data": {
      "text/plain": [
       "31.228350525495415"
      ]
     },
     "execution_count": 97,
     "metadata": {},
     "output_type": "execute_result"
    }
   ],
   "source": [
    "np.std(k1)"
   ]
  },
  {
   "cell_type": "code",
   "execution_count": 98,
   "id": "0cde7740-44b2-49c2-8c92-131760bd6b5a",
   "metadata": {},
   "outputs": [
    {
     "data": {
      "text/plain": [
       "975.2098765432098"
      ]
     },
     "execution_count": 98,
     "metadata": {},
     "output_type": "execute_result"
    }
   ],
   "source": [
    "np.var(k1)"
   ]
  },
  {
   "cell_type": "code",
   "execution_count": 99,
   "id": "0634ee1e-1ea8-4cae-8d60-a96b0c1d4df7",
   "metadata": {},
   "outputs": [
    {
     "data": {
      "text/plain": [
       "array([15.10702559, 21.23414441, 39.38132665])"
      ]
     },
     "execution_count": 99,
     "metadata": {},
     "output_type": "execute_result"
    }
   ],
   "source": [
    "np.std(k1,axis = 0)"
   ]
  },
  {
   "cell_type": "markdown",
   "id": "726c8ea3-ca05-4034-b478-7fab3ec6d6b9",
   "metadata": {},
   "source": [
    "#### Trignometry functions"
   ]
  },
  {
   "cell_type": "code",
   "execution_count": 101,
   "id": "fcd3bcb6-ae33-49de-9815-cca94033a9e0",
   "metadata": {},
   "outputs": [
    {
     "data": {
      "text/plain": [
       "array([[-0.55878905, -0.83177474, -0.94828214],\n",
       "       [ 0.10598751, -0.75098725, -0.99999021],\n",
       "       [ 0.25382336,  0.77389068,  0.98935825]])"
      ]
     },
     "execution_count": 101,
     "metadata": {},
     "output_type": "execute_result"
    }
   ],
   "source": [
    "np.sin(k1)"
   ]
  },
  {
   "cell_type": "code",
   "execution_count": 102,
   "id": "3b88738c-8323-4093-85dd-358f7986cdb1",
   "metadata": {},
   "outputs": [
    {
     "data": {
      "text/plain": [
       "array([[-0.82930983,  0.5551133 ,  0.3174287 ],\n",
       "       [-0.99436746,  0.66031671,  0.0044257 ],\n",
       "       [-0.96725059,  0.6333192 , -0.14550003]])"
      ]
     },
     "execution_count": 102,
     "metadata": {},
     "output_type": "execute_result"
    }
   ],
   "source": [
    "np.cos(k1)"
   ]
  },
  {
   "cell_type": "code",
   "execution_count": 103,
   "id": "d1204ba7-3f3d-42df-8d60-6b493a641ac2",
   "metadata": {},
   "outputs": [
    {
     "data": {
      "text/plain": [
       "array([[ 6.73800101e-01, -1.49838734e+00, -2.98738626e+00],\n",
       "       [-1.06587872e-01, -1.13731371e+00, -2.25950846e+02],\n",
       "       [-2.62417378e-01,  1.22195992e+00, -6.79971146e+00]])"
      ]
     },
     "execution_count": 103,
     "metadata": {},
     "output_type": "execute_result"
    }
   ],
   "source": [
    "np.tan(k1)"
   ]
  },
  {
   "cell_type": "markdown",
   "id": "6e28045f-8ce7-4a05-a0e4-3a6caf12d673",
   "metadata": {},
   "source": [
    "####  dot product \n",
    "\n",
    "the numpy module of python provides a function to perform the dot product of two arrays .\n"
   ]
  },
  {
   "cell_type": "code",
   "execution_count": 105,
   "id": "347fda3e-ee57-4ea3-bc05-39756e69c179",
   "metadata": {},
   "outputs": [],
   "source": [
    "s2 = np.arange(12).reshape(3,4)\n",
    "s3 = np.arange(12,24).reshape(4,3)"
   ]
  },
  {
   "cell_type": "code",
   "execution_count": 106,
   "id": "4578ceff-563f-45a4-ac73-cfe6769f28c2",
   "metadata": {},
   "outputs": [
    {
     "data": {
      "text/plain": [
       "array([[ 0,  1,  2,  3],\n",
       "       [ 4,  5,  6,  7],\n",
       "       [ 8,  9, 10, 11]])"
      ]
     },
     "execution_count": 106,
     "metadata": {},
     "output_type": "execute_result"
    }
   ],
   "source": [
    "s2"
   ]
  },
  {
   "cell_type": "code",
   "execution_count": 107,
   "id": "038b7f50-a410-4067-8df2-74d57eb318ee",
   "metadata": {},
   "outputs": [
    {
     "data": {
      "text/plain": [
       "array([[12, 13, 14],\n",
       "       [15, 16, 17],\n",
       "       [18, 19, 20],\n",
       "       [21, 22, 23]])"
      ]
     },
     "execution_count": 107,
     "metadata": {},
     "output_type": "execute_result"
    }
   ],
   "source": [
    "s3"
   ]
  },
  {
   "cell_type": "code",
   "execution_count": 108,
   "id": "90a36761-946d-46d3-99ef-71e586d2abdb",
   "metadata": {},
   "outputs": [
    {
     "data": {
      "text/plain": [
       "array([[114, 120, 126],\n",
       "       [378, 400, 422],\n",
       "       [642, 680, 718]])"
      ]
     },
     "execution_count": 108,
     "metadata": {},
     "output_type": "execute_result"
    }
   ],
   "source": [
    "np.dot(s2,s3)"
   ]
  },
  {
   "cell_type": "markdown",
   "id": "1ac3e5dc-bd36-4f17-9931-4fd82eaa895d",
   "metadata": {},
   "source": [
    "#### Log and Exponents"
   ]
  },
  {
   "cell_type": "code",
   "execution_count": 110,
   "id": "36970aca-7782-4164-aa1a-f9a0e8cb7fdd",
   "metadata": {},
   "outputs": [
    {
     "data": {
      "text/plain": [
       "array([[1.00000000e+00, 2.71828183e+00, 7.38905610e+00, 2.00855369e+01],\n",
       "       [5.45981500e+01, 1.48413159e+02, 4.03428793e+02, 1.09663316e+03],\n",
       "       [2.98095799e+03, 8.10308393e+03, 2.20264658e+04, 5.98741417e+04]])"
      ]
     },
     "execution_count": 110,
     "metadata": {},
     "output_type": "execute_result"
    }
   ],
   "source": [
    "np.exp(s2)"
   ]
  },
  {
   "cell_type": "markdown",
   "id": "33712430-fec1-4bb1-8079-d0af3e9b28f5",
   "metadata": {},
   "source": [
    "#### Round and floor ceil\n",
    "\n",
    "##### 1.round \n",
    "\n",
    "The numpy.round() function rounds the elements of an array to the nearest integer or to the speciffied number of decimals.\n",
    "\n",
    "\n"
   ]
  },
  {
   "cell_type": "code",
   "execution_count": 112,
   "id": "102baeb9-9010-40b3-be50-144237cb8545",
   "metadata": {},
   "outputs": [
    {
     "name": "stdout",
     "output_type": "stream",
     "text": [
      "[1. 3. 4. 5.]\n"
     ]
    }
   ],
   "source": [
    "# round to the nearest integer \n",
    "\n",
    "arr = np.array([1.2,2.7,3.5,4.8])\n",
    "rounded_arr = np.round(arr)\n",
    "print(rounded_arr)"
   ]
  },
  {
   "cell_type": "code",
   "execution_count": 113,
   "id": "8890c86a-c69f-428c-85cb-12e405b93beb",
   "metadata": {},
   "outputs": [
    {
     "name": "stdout",
     "output_type": "stream",
     "text": [
      "[1.23 2.57 3.89]\n"
     ]
    }
   ],
   "source": [
    "# round to two decimals \n",
    "\n",
    "arr = np.array([1.234, 2.567, 3.891])\n",
    "rounded_arr = np.round(arr , decimals = 2)\n",
    "print(rounded_arr)"
   ]
  },
  {
   "cell_type": "code",
   "execution_count": 114,
   "id": "f3f88f79-ca55-48ff-a9bd-6eb9b0d866ed",
   "metadata": {},
   "outputs": [
    {
     "data": {
      "text/plain": [
       "array([[ 29.,  87.,   8.],\n",
       "       [100.,  68.,  71.]])"
      ]
     },
     "execution_count": 114,
     "metadata": {},
     "output_type": "execute_result"
    }
   ],
   "source": [
    "np.round(np.random.random((2,3))*100)"
   ]
  },
  {
   "cell_type": "markdown",
   "id": "5f9c12a1-7088-4878-b011-5009870a4c15",
   "metadata": {},
   "source": [
    "#### 2.floor\n",
    "\n",
    "The numpy.floor() function return largest integer less than or equal to each element of an array.\n"
   ]
  },
  {
   "cell_type": "code",
   "execution_count": 116,
   "id": "ae0394cb-8f4a-47a9-95e0-b4eb9bad76e4",
   "metadata": {},
   "outputs": [
    {
     "name": "stdout",
     "output_type": "stream",
     "text": [
      "[1. 2. 3. 4.]\n"
     ]
    }
   ],
   "source": [
    "arr = np.array([1.2,2.7,3.5,4.9])\n",
    "\n",
    "floored_arr = np.floor(arr)\n",
    "print(floored_arr)"
   ]
  },
  {
   "cell_type": "code",
   "execution_count": 117,
   "id": "5dc35ac3-df04-483b-87bd-4d9e58af1817",
   "metadata": {},
   "outputs": [
    {
     "data": {
      "text/plain": [
       "array([[ 0., 96., 43.],\n",
       "       [80., 76., 55.]])"
      ]
     },
     "execution_count": 117,
     "metadata": {},
     "output_type": "execute_result"
    }
   ],
   "source": [
    "np.floor(np.random.random((2,3))*100)"
   ]
  },
  {
   "cell_type": "markdown",
   "id": "313ad1e4-17e7-48ed-a371-1f7cdf7fd694",
   "metadata": {},
   "source": [
    "#### 3. ceil\n",
    "\n",
    "The numpy.ceil() function return the smallest integer greater than or equal to each element of an array.\n"
   ]
  },
  {
   "cell_type": "code",
   "execution_count": 119,
   "id": "36997640-9c9a-449e-a62d-bf6ff4306c22",
   "metadata": {},
   "outputs": [
    {
     "name": "stdout",
     "output_type": "stream",
     "text": [
      "[2. 3. 4. 5.]\n"
     ]
    }
   ],
   "source": [
    "arr = np.array([1.2,2.7,3.5,4.9])\n",
    "ceiled_arr = np.ceil(arr)\n",
    "print(ceiled_arr)"
   ]
  },
  {
   "cell_type": "code",
   "execution_count": 120,
   "id": "8194f79d-2d77-4468-9575-971a6748c135",
   "metadata": {},
   "outputs": [
    {
     "data": {
      "text/plain": [
       "array([[42.,  4., 92.],\n",
       "       [15., 64., 58.]])"
      ]
     },
     "execution_count": 120,
     "metadata": {},
     "output_type": "execute_result"
    }
   ],
   "source": [
    "np.ceil(np.random.random((2,3))*100)"
   ]
  },
  {
   "cell_type": "markdown",
   "id": "680f134d-d724-4bb5-a23c-4ab9ec9acfb1",
   "metadata": {},
   "source": [
    "#### Indexing and slicing "
   ]
  },
  {
   "cell_type": "code",
   "execution_count": 122,
   "id": "7d6cfd65-004f-4d36-b41d-99502e9d92ed",
   "metadata": {},
   "outputs": [],
   "source": [
    "p1 = np.arange(10)\n",
    "p2 = np.arange(12).reshape(3,4)\n",
    "p3 = np.arange(8).reshape(2,2,2)"
   ]
  },
  {
   "cell_type": "code",
   "execution_count": 123,
   "id": "3547e0d5-e14f-423f-bd04-c82efc704219",
   "metadata": {},
   "outputs": [
    {
     "data": {
      "text/plain": [
       "array([0, 1, 2, 3, 4, 5, 6, 7, 8, 9])"
      ]
     },
     "execution_count": 123,
     "metadata": {},
     "output_type": "execute_result"
    }
   ],
   "source": [
    "p1"
   ]
  },
  {
   "cell_type": "code",
   "execution_count": 124,
   "id": "cd4bbd66-a5bd-485a-b583-b67638beb306",
   "metadata": {},
   "outputs": [
    {
     "data": {
      "text/plain": [
       "array([[ 0,  1,  2,  3],\n",
       "       [ 4,  5,  6,  7],\n",
       "       [ 8,  9, 10, 11]])"
      ]
     },
     "execution_count": 124,
     "metadata": {},
     "output_type": "execute_result"
    }
   ],
   "source": [
    "p2"
   ]
  },
  {
   "cell_type": "code",
   "execution_count": 125,
   "id": "6560e448-0389-4c79-b50c-9c135c5bcf6c",
   "metadata": {},
   "outputs": [
    {
     "data": {
      "text/plain": [
       "array([[[0, 1],\n",
       "        [2, 3]],\n",
       "\n",
       "       [[4, 5],\n",
       "        [6, 7]]])"
      ]
     },
     "execution_count": 125,
     "metadata": {},
     "output_type": "execute_result"
    }
   ],
   "source": [
    "p3"
   ]
  },
  {
   "cell_type": "markdown",
   "id": "18bbe9d4-ac04-4db9-86a8-5c1e4a06e90a",
   "metadata": {},
   "source": [
    "#### indexing on 1d array"
   ]
  },
  {
   "cell_type": "code",
   "execution_count": 127,
   "id": "84178046-8798-4460-aa70-451a4abe2ad1",
   "metadata": {},
   "outputs": [
    {
     "data": {
      "text/plain": [
       "array([0, 1, 2, 3, 4, 5, 6, 7, 8, 9])"
      ]
     },
     "execution_count": 127,
     "metadata": {},
     "output_type": "execute_result"
    }
   ],
   "source": [
    "p1"
   ]
  },
  {
   "cell_type": "code",
   "execution_count": 128,
   "id": "20ab8c3f-d2af-447f-8912-ea411e652aa0",
   "metadata": {},
   "outputs": [
    {
     "data": {
      "text/plain": [
       "9"
      ]
     },
     "execution_count": 128,
     "metadata": {},
     "output_type": "execute_result"
    }
   ],
   "source": [
    "# fetching last item\n",
    "\n",
    "p1[-1]\n",
    "\n"
   ]
  },
  {
   "cell_type": "code",
   "execution_count": 129,
   "id": "e46eb53d-ef3f-42bf-995e-f5a1be6a6593",
   "metadata": {},
   "outputs": [
    {
     "data": {
      "text/plain": [
       "0"
      ]
     },
     "execution_count": 129,
     "metadata": {},
     "output_type": "execute_result"
    }
   ],
   "source": [
    "p1[0]"
   ]
  },
  {
   "cell_type": "markdown",
   "id": "dbc23b48-e096-4444-bace-9be536f5550e",
   "metadata": {},
   "source": [
    " #### indexing on 2d"
   ]
  },
  {
   "cell_type": "code",
   "execution_count": 131,
   "id": "3d8354ba-8d54-4f0e-867f-8af3735cef19",
   "metadata": {},
   "outputs": [
    {
     "data": {
      "text/plain": [
       "array([[ 0,  1,  2,  3],\n",
       "       [ 4,  5,  6,  7],\n",
       "       [ 8,  9, 10, 11]])"
      ]
     },
     "execution_count": 131,
     "metadata": {},
     "output_type": "execute_result"
    }
   ],
   "source": [
    "p2"
   ]
  },
  {
   "cell_type": "code",
   "execution_count": 132,
   "id": "e86285cf-22be-4525-a6e1-8c5e7b1d60ef",
   "metadata": {},
   "outputs": [
    {
     "data": {
      "text/plain": [
       "6"
      ]
     },
     "execution_count": 132,
     "metadata": {},
     "output_type": "execute_result"
    }
   ],
   "source": [
    "p2[1,2]"
   ]
  },
  {
   "cell_type": "code",
   "execution_count": 133,
   "id": "10f9701e-c44f-41d4-ab96-86e333dcf43e",
   "metadata": {},
   "outputs": [
    {
     "data": {
      "text/plain": [
       "11"
      ]
     },
     "execution_count": 133,
     "metadata": {},
     "output_type": "execute_result"
    }
   ],
   "source": [
    "# fetching desired element :11\n",
    "p2[2,-1]"
   ]
  },
  {
   "cell_type": "code",
   "execution_count": 134,
   "id": "02247fd7-ed5f-40fb-8af9-55995625a8f9",
   "metadata": {},
   "outputs": [
    {
     "data": {
      "text/plain": [
       "11"
      ]
     },
     "execution_count": 134,
     "metadata": {},
     "output_type": "execute_result"
    }
   ],
   "source": [
    "p2[2,3]"
   ]
  },
  {
   "cell_type": "code",
   "execution_count": 135,
   "id": "3e80d345-4b91-4c0e-99fd-b798c4ebf8f6",
   "metadata": {},
   "outputs": [
    {
     "data": {
      "text/plain": [
       "4"
      ]
     },
     "execution_count": 135,
     "metadata": {},
     "output_type": "execute_result"
    }
   ],
   "source": [
    "p2[1,0]"
   ]
  },
  {
   "cell_type": "markdown",
   "id": "42cce576-aa90-41a5-a0a4-93add267f38d",
   "metadata": {},
   "source": [
    "####  indexing on 3d (tensors)"
   ]
  },
  {
   "cell_type": "code",
   "execution_count": 137,
   "id": "22dc9d98-27e2-4e3d-a13e-85c08ce04bba",
   "metadata": {},
   "outputs": [
    {
     "data": {
      "text/plain": [
       "array([[[0, 1],\n",
       "        [2, 3]],\n",
       "\n",
       "       [[4, 5],\n",
       "        [6, 7]]])"
      ]
     },
     "execution_count": 137,
     "metadata": {},
     "output_type": "execute_result"
    }
   ],
   "source": [
    "p3"
   ]
  },
  {
   "cell_type": "code",
   "execution_count": 138,
   "id": "ac9d13e6-3984-4082-a1e7-f3369d21dbd7",
   "metadata": {},
   "outputs": [
    {
     "data": {
      "text/plain": [
       "5"
      ]
     },
     "execution_count": 138,
     "metadata": {},
     "output_type": "execute_result"
    }
   ],
   "source": [
    "# fetching desired element :5\n",
    "p3[1,0,1]"
   ]
  },
  {
   "cell_type": "code",
   "execution_count": 139,
   "id": "560bc487-f005-477b-b4cb-1130575b921d",
   "metadata": {},
   "outputs": [
    {
     "data": {
      "text/plain": [
       "0"
      ]
     },
     "execution_count": 139,
     "metadata": {},
     "output_type": "execute_result"
    }
   ],
   "source": [
    "p3[0,0,0]\n",
    "\n"
   ]
  },
  {
   "cell_type": "code",
   "execution_count": 140,
   "id": "73a1bf1a-c25f-4d23-bbde-cd2a21843d93",
   "metadata": {},
   "outputs": [
    {
     "data": {
      "text/plain": [
       "7"
      ]
     },
     "execution_count": 140,
     "metadata": {},
     "output_type": "execute_result"
    }
   ],
   "source": [
    "p3[1,1,1]"
   ]
  },
  {
   "cell_type": "markdown",
   "id": "ac1732b0-5800-44ac-b013-29a6d15ffa5a",
   "metadata": {},
   "source": [
    "#####  slicing\n",
    "\n",
    "fetching multiple items \n",
    "\n",
    "##### slicing on 1d"
   ]
  },
  {
   "cell_type": "code",
   "execution_count": 142,
   "id": "6aad2ad1-4820-4460-a574-56e359fbe85c",
   "metadata": {},
   "outputs": [
    {
     "data": {
      "text/plain": [
       "array([0, 1, 2, 3, 4, 5, 6, 7, 8, 9])"
      ]
     },
     "execution_count": 142,
     "metadata": {},
     "output_type": "execute_result"
    }
   ],
   "source": [
    "p1 "
   ]
  },
  {
   "cell_type": "code",
   "execution_count": 143,
   "id": "612ca0a0-fa4c-4dba-99f4-7a8fe6599d7e",
   "metadata": {},
   "outputs": [
    {
     "data": {
      "text/plain": [
       "array([2, 3, 4])"
      ]
     },
     "execution_count": 143,
     "metadata": {},
     "output_type": "execute_result"
    }
   ],
   "source": [
    "# fetching desired elements are:2,3,4\n",
    "\n",
    "p1[2:5]\n"
   ]
  },
  {
   "cell_type": "code",
   "execution_count": 144,
   "id": "44cf6c3d-f049-4dd5-9631-9f204971addc",
   "metadata": {},
   "outputs": [
    {
     "data": {
      "text/plain": [
       "array([2, 4])"
      ]
     },
     "execution_count": 144,
     "metadata": {},
     "output_type": "execute_result"
    }
   ],
   "source": [
    "# alternate(same as python str\n",
    "\n",
    "\n",
    "p1[2:5:2]"
   ]
  },
  {
   "cell_type": "markdown",
   "id": "553a7b10-14f6-446a-8cd7-c5e9a00cf94f",
   "metadata": {},
   "source": [
    "##### slicing on 2d "
   ]
  },
  {
   "cell_type": "code",
   "execution_count": 146,
   "id": "3e7bb66c-39b1-4d8f-843f-b9f8fd6a4921",
   "metadata": {},
   "outputs": [
    {
     "data": {
      "text/plain": [
       "array([[ 0,  1,  2,  3],\n",
       "       [ 4,  5,  6,  7],\n",
       "       [ 8,  9, 10, 11]])"
      ]
     },
     "execution_count": 146,
     "metadata": {},
     "output_type": "execute_result"
    }
   ],
   "source": [
    "p2"
   ]
  },
  {
   "cell_type": "code",
   "execution_count": 147,
   "id": "aa16d245-db0e-4121-8d08-36f16d7dc70d",
   "metadata": {},
   "outputs": [
    {
     "data": {
      "text/plain": [
       "array([0, 1, 2, 3])"
      ]
     },
     "execution_count": 147,
     "metadata": {},
     "output_type": "execute_result"
    }
   ],
   "source": [
    "p2[0,:]\n"
   ]
  },
  {
   "cell_type": "code",
   "execution_count": 148,
   "id": "36129480-9883-48f8-a2eb-6a454a0d8c23",
   "metadata": {},
   "outputs": [
    {
     "data": {
      "text/plain": [
       "array([ 2,  6, 10])"
      ]
     },
     "execution_count": 148,
     "metadata": {},
     "output_type": "execute_result"
    }
   ],
   "source": [
    "p2[:,2]"
   ]
  },
  {
   "cell_type": "code",
   "execution_count": 149,
   "id": "1ecdc82d-7c5d-4c8b-893e-1737ea3dba21",
   "metadata": {},
   "outputs": [
    {
     "data": {
      "text/plain": [
       "array([[ 4,  5,  6,  7],\n",
       "       [ 8,  9, 10, 11]])"
      ]
     },
     "execution_count": 149,
     "metadata": {},
     "output_type": "execute_result"
    }
   ],
   "source": [
    "p2[1:3]"
   ]
  },
  {
   "cell_type": "code",
   "execution_count": 150,
   "id": "6753a52f-7d28-4571-910e-d05e1fdc5731",
   "metadata": {},
   "outputs": [
    {
     "data": {
      "text/plain": [
       "array([[ 5,  6],\n",
       "       [ 9, 10]])"
      ]
     },
     "execution_count": 150,
     "metadata": {},
     "output_type": "execute_result"
    }
   ],
   "source": [
    "p2[1:3 , 1:3]\n"
   ]
  },
  {
   "cell_type": "code",
   "execution_count": 151,
   "id": "b51a5ce5-a424-46bc-8142-3db90697350a",
   "metadata": {},
   "outputs": [
    {
     "data": {
      "text/plain": [
       "array([[ 0,  1,  2,  3],\n",
       "       [ 4,  5,  6,  7],\n",
       "       [ 8,  9, 10, 11]])"
      ]
     },
     "execution_count": 151,
     "metadata": {},
     "output_type": "execute_result"
    }
   ],
   "source": [
    "# fetch 0,3 and 8,11\n",
    "\n",
    "p2"
   ]
  },
  {
   "cell_type": "code",
   "execution_count": 152,
   "id": "de19599d-61da-40bf-bc4b-4c3d09893561",
   "metadata": {},
   "outputs": [
    {
     "data": {
      "text/plain": [
       "array([[ 0,  3],\n",
       "       [ 8, 11]])"
      ]
     },
     "execution_count": 152,
     "metadata": {},
     "output_type": "execute_result"
    }
   ],
   "source": [
    "p2[0:3:2 , 0:4:3]"
   ]
  },
  {
   "cell_type": "code",
   "execution_count": 153,
   "id": "19c2c481-9b23-41a2-bcce-8ba8e36ccdb7",
   "metadata": {},
   "outputs": [
    {
     "data": {
      "text/plain": [
       "array([[ 0,  1,  2,  3],\n",
       "       [ 4,  5,  6,  7],\n",
       "       [ 8,  9, 10, 11]])"
      ]
     },
     "execution_count": 153,
     "metadata": {},
     "output_type": "execute_result"
    }
   ],
   "source": [
    "# fetch 1,3 and 9,11\n",
    "\n",
    "p2"
   ]
  },
  {
   "cell_type": "code",
   "execution_count": 154,
   "id": "517783e5-a2ae-4b28-b485-6558dc9ecdae",
   "metadata": {},
   "outputs": [
    {
     "data": {
      "text/plain": [
       "array([[ 0,  1,  2,  3],\n",
       "       [ 8,  9, 10, 11]])"
      ]
     },
     "execution_count": 154,
     "metadata": {},
     "output_type": "execute_result"
    }
   ],
   "source": [
    "p2[::2]# for rows\n"
   ]
  },
  {
   "cell_type": "code",
   "execution_count": 155,
   "id": "6c443f67-0def-470c-a86a-bcc66285aaa4",
   "metadata": {},
   "outputs": [
    {
     "data": {
      "text/plain": [
       "array([[ 1,  3],\n",
       "       [ 9, 11]])"
      ]
     },
     "execution_count": 155,
     "metadata": {},
     "output_type": "execute_result"
    }
   ],
   "source": [
    "p2[::2, 1::2] # colums"
   ]
  },
  {
   "cell_type": "code",
   "execution_count": 156,
   "id": "52d6f9be-51ec-42af-b13e-a8f7a13fc1d3",
   "metadata": {},
   "outputs": [
    {
     "data": {
      "text/plain": [
       "array([[ 0,  1,  2,  3],\n",
       "       [ 4,  5,  6,  7],\n",
       "       [ 8,  9, 10, 11]])"
      ]
     },
     "execution_count": 156,
     "metadata": {},
     "output_type": "execute_result"
    }
   ],
   "source": [
    "p2"
   ]
  },
  {
   "cell_type": "code",
   "execution_count": 157,
   "id": "647dc0e5-f399-4522-8278-4d96372a5c5a",
   "metadata": {},
   "outputs": [
    {
     "data": {
      "text/plain": [
       "array([4, 5, 6, 7])"
      ]
     },
     "execution_count": 157,
     "metadata": {},
     "output_type": "execute_result"
    }
   ],
   "source": [
    "p2[1]"
   ]
  },
  {
   "cell_type": "code",
   "execution_count": 158,
   "id": "d2578b7f-e555-4667-9f95-c214d577520e",
   "metadata": {},
   "outputs": [
    {
     "data": {
      "text/plain": [
       "array([4, 7])"
      ]
     },
     "execution_count": 158,
     "metadata": {},
     "output_type": "execute_result"
    }
   ],
   "source": [
    "p2[1,::3]"
   ]
  },
  {
   "cell_type": "code",
   "execution_count": 159,
   "id": "f81ecb0f-6ad4-4f7b-8cf0-51b4f16b033f",
   "metadata": {},
   "outputs": [
    {
     "data": {
      "text/plain": [
       "array([[ 0,  1,  2,  3],\n",
       "       [ 4,  5,  6,  7],\n",
       "       [ 8,  9, 10, 11]])"
      ]
     },
     "execution_count": 159,
     "metadata": {},
     "output_type": "execute_result"
    }
   ],
   "source": [
    "p2"
   ]
  },
  {
   "cell_type": "code",
   "execution_count": 160,
   "id": "86a35fa8-cb0a-4256-a79b-091d5da41dd4",
   "metadata": {},
   "outputs": [
    {
     "data": {
      "text/plain": [
       "array([[1, 2, 3],\n",
       "       [5, 6, 7]])"
      ]
     },
     "execution_count": 160,
     "metadata": {},
     "output_type": "execute_result"
    }
   ],
   "source": [
    "p2[0:2,1:]\n"
   ]
  },
  {
   "cell_type": "code",
   "execution_count": 161,
   "id": "908995d5-c42d-4180-9502-744845decd39",
   "metadata": {},
   "outputs": [
    {
     "data": {
      "text/plain": [
       "array([[ 0,  1,  2,  3],\n",
       "       [ 4,  5,  6,  7],\n",
       "       [ 8,  9, 10, 11]])"
      ]
     },
     "execution_count": 161,
     "metadata": {},
     "output_type": "execute_result"
    }
   ],
   "source": [
    "p2"
   ]
  },
  {
   "cell_type": "code",
   "execution_count": 162,
   "id": "d21fc74b-1112-42e6-8751-e421f8fd617e",
   "metadata": {},
   "outputs": [
    {
     "data": {
      "text/plain": [
       "array([[0, 1, 2, 3],\n",
       "       [4, 5, 6, 7]])"
      ]
     },
     "execution_count": 162,
     "metadata": {},
     "output_type": "execute_result"
    }
   ],
   "source": [
    "p2[0:2]"
   ]
  },
  {
   "cell_type": "code",
   "execution_count": 163,
   "id": "d24973f2-9d83-4cd3-850c-418b97dfbb54",
   "metadata": {},
   "outputs": [
    {
     "data": {
      "text/plain": [
       "array([[1, 3],\n",
       "       [5, 7]])"
      ]
     },
     "execution_count": 163,
     "metadata": {},
     "output_type": "execute_result"
    }
   ],
   "source": [
    "p2[0:2 , 1::2]"
   ]
  },
  {
   "cell_type": "markdown",
   "id": "3a2175b0-9548-47f5-ba5e-bc1162a08c6b",
   "metadata": {},
   "source": [
    "#### slicing in 3d"
   ]
  },
  {
   "cell_type": "code",
   "execution_count": 165,
   "id": "0d4fa253-e549-42c3-aa5b-945a077af5c8",
   "metadata": {},
   "outputs": [
    {
     "data": {
      "text/plain": [
       "array([[[ 0,  1,  2],\n",
       "        [ 3,  4,  5],\n",
       "        [ 6,  7,  8]],\n",
       "\n",
       "       [[ 9, 10, 11],\n",
       "        [12, 13, 14],\n",
       "        [15, 16, 17]],\n",
       "\n",
       "       [[18, 19, 20],\n",
       "        [21, 22, 23],\n",
       "        [24, 25, 26]]])"
      ]
     },
     "execution_count": 165,
     "metadata": {},
     "output_type": "execute_result"
    }
   ],
   "source": [
    "p3 = np.arange(27).reshape(3,3,3)\n",
    "p3"
   ]
  },
  {
   "cell_type": "code",
   "execution_count": 166,
   "id": "3467271d-ad3d-4f40-9bb0-15d876b2cd81",
   "metadata": {},
   "outputs": [
    {
     "data": {
      "text/plain": [
       "array([[ 9, 10, 11],\n",
       "       [12, 13, 14],\n",
       "       [15, 16, 17]])"
      ]
     },
     "execution_count": 166,
     "metadata": {},
     "output_type": "execute_result"
    }
   ],
   "source": [
    "# fetch second matrix\n",
    "p3[1]"
   ]
  },
  {
   "cell_type": "code",
   "execution_count": 167,
   "id": "6bd7aa19-58fb-4df5-8522-663f7151e136",
   "metadata": {},
   "outputs": [
    {
     "data": {
      "text/plain": [
       "array([[[ 0,  1,  2],\n",
       "        [ 3,  4,  5],\n",
       "        [ 6,  7,  8]],\n",
       "\n",
       "       [[18, 19, 20],\n",
       "        [21, 22, 23],\n",
       "        [24, 25, 26]]])"
      ]
     },
     "execution_count": 167,
     "metadata": {},
     "output_type": "execute_result"
    }
   ],
   "source": [
    "p3[ : :2]"
   ]
  },
  {
   "cell_type": "code",
   "execution_count": 168,
   "id": "12cfe2ad-1050-4809-94d1-af4b6c0e2df5",
   "metadata": {},
   "outputs": [
    {
     "data": {
      "text/plain": [
       "array([[[ 0,  1,  2],\n",
       "        [ 3,  4,  5],\n",
       "        [ 6,  7,  8]],\n",
       "\n",
       "       [[ 9, 10, 11],\n",
       "        [12, 13, 14],\n",
       "        [15, 16, 17]],\n",
       "\n",
       "       [[18, 19, 20],\n",
       "        [21, 22, 23],\n",
       "        [24, 25, 26]]])"
      ]
     },
     "execution_count": 168,
     "metadata": {},
     "output_type": "execute_result"
    }
   ],
   "source": [
    "p3"
   ]
  },
  {
   "cell_type": "code",
   "execution_count": 169,
   "id": "1d5e5325-540a-4122-8246-ef0822e0cf12",
   "metadata": {},
   "outputs": [
    {
     "data": {
      "text/plain": [
       "array([[0, 1, 2],\n",
       "       [3, 4, 5],\n",
       "       [6, 7, 8]])"
      ]
     },
     "execution_count": 169,
     "metadata": {},
     "output_type": "execute_result"
    }
   ],
   "source": [
    "p3[0]"
   ]
  },
  {
   "cell_type": "code",
   "execution_count": 170,
   "id": "6f079fa7-c830-4f04-bba9-fd383d65545b",
   "metadata": {},
   "outputs": [
    {
     "data": {
      "text/plain": [
       "array([3, 4, 5])"
      ]
     },
     "execution_count": 170,
     "metadata": {},
     "output_type": "execute_result"
    }
   ],
   "source": [
    "p3[0,1,:]\n"
   ]
  },
  {
   "cell_type": "code",
   "execution_count": 171,
   "id": "0e9e3b44-7556-4ffd-b0ec-e99fbcf59acb",
   "metadata": {},
   "outputs": [
    {
     "data": {
      "text/plain": [
       "array([[[ 0,  1,  2],\n",
       "        [ 3,  4,  5],\n",
       "        [ 6,  7,  8]],\n",
       "\n",
       "       [[ 9, 10, 11],\n",
       "        [12, 13, 14],\n",
       "        [15, 16, 17]],\n",
       "\n",
       "       [[18, 19, 20],\n",
       "        [21, 22, 23],\n",
       "        [24, 25, 26]]])"
      ]
     },
     "execution_count": 171,
     "metadata": {},
     "output_type": "execute_result"
    }
   ],
   "source": [
    "p3"
   ]
  },
  {
   "cell_type": "code",
   "execution_count": 172,
   "id": "fa3b27f0-ab67-45b6-ab76-b69106bee572",
   "metadata": {},
   "outputs": [
    {
     "data": {
      "text/plain": [
       "array([[ 9, 10, 11],\n",
       "       [12, 13, 14],\n",
       "       [15, 16, 17]])"
      ]
     },
     "execution_count": 172,
     "metadata": {},
     "output_type": "execute_result"
    }
   ],
   "source": [
    "p3[1]"
   ]
  },
  {
   "cell_type": "code",
   "execution_count": 173,
   "id": "1d10d308-8497-483a-b5ea-d20dca538d0c",
   "metadata": {},
   "outputs": [
    {
     "data": {
      "text/plain": [
       "array([[18, 19, 20],\n",
       "       [21, 22, 23],\n",
       "       [24, 25, 26]])"
      ]
     },
     "execution_count": 173,
     "metadata": {},
     "output_type": "execute_result"
    }
   ],
   "source": [
    "p3[2]"
   ]
  },
  {
   "cell_type": "code",
   "execution_count": 174,
   "id": "6efe144b-c79b-46bb-94ed-df458ebb5340",
   "metadata": {},
   "outputs": [
    {
     "data": {
      "text/plain": [
       "array([[21, 22, 23],\n",
       "       [24, 25, 26]])"
      ]
     },
     "execution_count": 174,
     "metadata": {},
     "output_type": "execute_result"
    }
   ],
   "source": [
    "p3[2,1:]"
   ]
  },
  {
   "cell_type": "code",
   "execution_count": 175,
   "id": "840e92ea-92f6-440e-b98b-a271bc5085e1",
   "metadata": {},
   "outputs": [
    {
     "data": {
      "text/plain": [
       "array([[22, 23],\n",
       "       [25, 26]])"
      ]
     },
     "execution_count": 175,
     "metadata": {},
     "output_type": "execute_result"
    }
   ],
   "source": [
    "p3[2,1:,1:]"
   ]
  },
  {
   "cell_type": "code",
   "execution_count": 176,
   "id": "d6d6d586-276d-4d27-a220-514ac2e67e8b",
   "metadata": {},
   "outputs": [
    {
     "data": {
      "text/plain": [
       "array([[[ 0,  1,  2],\n",
       "        [ 3,  4,  5],\n",
       "        [ 6,  7,  8]],\n",
       "\n",
       "       [[ 9, 10, 11],\n",
       "        [12, 13, 14],\n",
       "        [15, 16, 17]],\n",
       "\n",
       "       [[18, 19, 20],\n",
       "        [21, 22, 23],\n",
       "        [24, 25, 26]]])"
      ]
     },
     "execution_count": 176,
     "metadata": {},
     "output_type": "execute_result"
    }
   ],
   "source": [
    "p3"
   ]
  },
  {
   "cell_type": "code",
   "execution_count": 177,
   "id": "364e8aab-498f-4d11-8a2e-ee4f1e796bbd",
   "metadata": {},
   "outputs": [
    {
     "data": {
      "text/plain": [
       "array([[[ 0,  1,  2],\n",
       "        [ 3,  4,  5],\n",
       "        [ 6,  7,  8]],\n",
       "\n",
       "       [[18, 19, 20],\n",
       "        [21, 22, 23],\n",
       "        [24, 25, 26]]])"
      ]
     },
     "execution_count": 177,
     "metadata": {},
     "output_type": "execute_result"
    }
   ],
   "source": [
    "p3[0::2]"
   ]
  },
  {
   "cell_type": "code",
   "execution_count": 178,
   "id": "056ce73c-60b5-4590-9393-d1f7fab3b672",
   "metadata": {},
   "outputs": [
    {
     "data": {
      "text/plain": [
       "array([[ 0,  1,  2],\n",
       "       [18, 19, 20]])"
      ]
     },
     "execution_count": 178,
     "metadata": {},
     "output_type": "execute_result"
    }
   ],
   "source": [
    "p3[0::2,0]"
   ]
  },
  {
   "cell_type": "code",
   "execution_count": 179,
   "id": "e1c7e06b-a23c-4fb4-8649-b2a3c6d6975d",
   "metadata": {},
   "outputs": [
    {
     "data": {
      "text/plain": [
       "array([[[ 0,  1,  2],\n",
       "        [ 6,  7,  8]],\n",
       "\n",
       "       [[18, 19, 20],\n",
       "        [24, 25, 26]]])"
      ]
     },
     "execution_count": 179,
     "metadata": {},
     "output_type": "execute_result"
    }
   ],
   "source": [
    "p3[0::2,::2]"
   ]
  },
  {
   "cell_type": "markdown",
   "id": "a9aac4d9-a22d-4043-a65c-983dc4983cfb",
   "metadata": {},
   "source": [
    "####  Iterating "
   ]
  },
  {
   "cell_type": "code",
   "execution_count": 181,
   "id": "760f57d1-5810-41bc-96bb-7cb462febc69",
   "metadata": {},
   "outputs": [
    {
     "data": {
      "text/plain": [
       "array([0, 1, 2, 3, 4, 5, 6, 7, 8, 9])"
      ]
     },
     "execution_count": 181,
     "metadata": {},
     "output_type": "execute_result"
    }
   ],
   "source": [
    "p1"
   ]
  },
  {
   "cell_type": "code",
   "execution_count": 182,
   "id": "92d47cd6-0023-4c39-b1ce-fc1eb11b9e36",
   "metadata": {},
   "outputs": [
    {
     "name": "stdout",
     "output_type": "stream",
     "text": [
      "0\n",
      "1\n",
      "2\n",
      "3\n",
      "4\n",
      "5\n",
      "6\n",
      "7\n",
      "8\n",
      "9\n"
     ]
    }
   ],
   "source": [
    "for i in p1:\n",
    "    print(i)"
   ]
  },
  {
   "cell_type": "code",
   "execution_count": 183,
   "id": "d909958a-7d40-424a-9335-2fef71c8c4d0",
   "metadata": {},
   "outputs": [
    {
     "data": {
      "text/plain": [
       "array([[ 0,  1,  2,  3],\n",
       "       [ 4,  5,  6,  7],\n",
       "       [ 8,  9, 10, 11]])"
      ]
     },
     "execution_count": 183,
     "metadata": {},
     "output_type": "execute_result"
    }
   ],
   "source": [
    "p2"
   ]
  },
  {
   "cell_type": "code",
   "execution_count": 184,
   "id": "0c74a624-2523-49c8-ab64-a2880fa6b95f",
   "metadata": {},
   "outputs": [
    {
     "name": "stdout",
     "output_type": "stream",
     "text": [
      "[0 1 2 3]\n",
      "[4 5 6 7]\n",
      "[ 8  9 10 11]\n"
     ]
    }
   ],
   "source": [
    "for i in p2:\n",
    "    print(i)"
   ]
  },
  {
   "cell_type": "code",
   "execution_count": 185,
   "id": "1fc2b9ef-f0d0-429c-8bcb-86453d83c8b7",
   "metadata": {},
   "outputs": [
    {
     "data": {
      "text/plain": [
       "array([[[ 0,  1,  2],\n",
       "        [ 3,  4,  5],\n",
       "        [ 6,  7,  8]],\n",
       "\n",
       "       [[ 9, 10, 11],\n",
       "        [12, 13, 14],\n",
       "        [15, 16, 17]],\n",
       "\n",
       "       [[18, 19, 20],\n",
       "        [21, 22, 23],\n",
       "        [24, 25, 26]]])"
      ]
     },
     "execution_count": 185,
     "metadata": {},
     "output_type": "execute_result"
    }
   ],
   "source": [
    "p3"
   ]
  },
  {
   "cell_type": "code",
   "execution_count": 186,
   "id": "bfa3f610-7930-4435-bf93-48c5425c906d",
   "metadata": {},
   "outputs": [
    {
     "name": "stdout",
     "output_type": "stream",
     "text": [
      "[[0 1 2]\n",
      " [3 4 5]\n",
      " [6 7 8]]\n",
      "[[ 9 10 11]\n",
      " [12 13 14]\n",
      " [15 16 17]]\n",
      "[[18 19 20]\n",
      " [21 22 23]\n",
      " [24 25 26]]\n"
     ]
    }
   ],
   "source": [
    "for i in p3:\n",
    "    print(i)"
   ]
  },
  {
   "cell_type": "code",
   "execution_count": 187,
   "id": "738146d0-dccd-4b35-9df4-86fde4e5c654",
   "metadata": {},
   "outputs": [
    {
     "name": "stdout",
     "output_type": "stream",
     "text": [
      "0\n",
      "1\n",
      "2\n",
      "3\n",
      "4\n",
      "5\n",
      "6\n",
      "7\n",
      "8\n",
      "9\n",
      "10\n",
      "11\n",
      "12\n",
      "13\n",
      "14\n",
      "15\n",
      "16\n",
      "17\n",
      "18\n",
      "19\n",
      "20\n",
      "21\n",
      "22\n",
      "23\n",
      "24\n",
      "25\n",
      "26\n"
     ]
    }
   ],
   "source": [
    "for i in np.nditer(p3):\n",
    "    print(i)"
   ]
  },
  {
   "cell_type": "markdown",
   "id": "bb29d214-5676-4216-a65e-1b621912e1b2",
   "metadata": {},
   "source": [
    "#### Reshaping\n",
    "\n",
    "##### Transpose ----> converts rows in columns nd columns into rows \n",
    "\n"
   ]
  },
  {
   "cell_type": "code",
   "execution_count": 189,
   "id": "c00d0ab8-3659-4d11-b8be-aeadf2020912",
   "metadata": {},
   "outputs": [
    {
     "data": {
      "text/plain": [
       "array([[ 0,  1,  2,  3],\n",
       "       [ 4,  5,  6,  7],\n",
       "       [ 8,  9, 10, 11]])"
      ]
     },
     "execution_count": 189,
     "metadata": {},
     "output_type": "execute_result"
    }
   ],
   "source": [
    "p2"
   ]
  },
  {
   "cell_type": "code",
   "execution_count": 190,
   "id": "7be79429-4952-491c-a3d7-34c3063c7721",
   "metadata": {},
   "outputs": [
    {
     "data": {
      "text/plain": [
       "array([[ 0,  4,  8],\n",
       "       [ 1,  5,  9],\n",
       "       [ 2,  6, 10],\n",
       "       [ 3,  7, 11]])"
      ]
     },
     "execution_count": 190,
     "metadata": {},
     "output_type": "execute_result"
    }
   ],
   "source": [
    "np.transpose(p2)"
   ]
  },
  {
   "cell_type": "code",
   "execution_count": 191,
   "id": "66182fa2-259f-40bd-b8a6-26f2ec14a4d3",
   "metadata": {},
   "outputs": [
    {
     "data": {
      "text/plain": [
       "array([[ 0,  4,  8],\n",
       "       [ 1,  5,  9],\n",
       "       [ 2,  6, 10],\n",
       "       [ 3,  7, 11]])"
      ]
     },
     "execution_count": 191,
     "metadata": {},
     "output_type": "execute_result"
    }
   ],
   "source": [
    "p2.T"
   ]
  },
  {
   "cell_type": "code",
   "execution_count": 192,
   "id": "8015f4fe-ba74-4aae-af9b-c23130747e35",
   "metadata": {},
   "outputs": [
    {
     "data": {
      "text/plain": [
       "array([[[ 0,  1,  2],\n",
       "        [ 3,  4,  5],\n",
       "        [ 6,  7,  8]],\n",
       "\n",
       "       [[ 9, 10, 11],\n",
       "        [12, 13, 14],\n",
       "        [15, 16, 17]],\n",
       "\n",
       "       [[18, 19, 20],\n",
       "        [21, 22, 23],\n",
       "        [24, 25, 26]]])"
      ]
     },
     "execution_count": 192,
     "metadata": {},
     "output_type": "execute_result"
    }
   ],
   "source": [
    "p3"
   ]
  },
  {
   "cell_type": "code",
   "execution_count": 193,
   "id": "aec27ae0-d4c3-4238-838d-197ada75f839",
   "metadata": {},
   "outputs": [
    {
     "data": {
      "text/plain": [
       "array([[[ 0,  9, 18],\n",
       "        [ 3, 12, 21],\n",
       "        [ 6, 15, 24]],\n",
       "\n",
       "       [[ 1, 10, 19],\n",
       "        [ 4, 13, 22],\n",
       "        [ 7, 16, 25]],\n",
       "\n",
       "       [[ 2, 11, 20],\n",
       "        [ 5, 14, 23],\n",
       "        [ 8, 17, 26]]])"
      ]
     },
     "execution_count": 193,
     "metadata": {},
     "output_type": "execute_result"
    }
   ],
   "source": [
    "p3.T"
   ]
  },
  {
   "cell_type": "markdown",
   "id": "24f06f13-7094-47cf-b41f-7be8b16c7216",
   "metadata": {},
   "source": [
    "#### Ravel\n",
    "\n",
    "converting any dimensions to 1d"
   ]
  },
  {
   "cell_type": "code",
   "execution_count": 195,
   "id": "a784f944-468d-498a-abf0-69374f20eba8",
   "metadata": {},
   "outputs": [
    {
     "data": {
      "text/plain": [
       "array([[ 0,  1,  2,  3],\n",
       "       [ 4,  5,  6,  7],\n",
       "       [ 8,  9, 10, 11]])"
      ]
     },
     "execution_count": 195,
     "metadata": {},
     "output_type": "execute_result"
    }
   ],
   "source": [
    "p2"
   ]
  },
  {
   "cell_type": "code",
   "execution_count": 196,
   "id": "9b759015-fff6-4d52-aac1-f0989634b7df",
   "metadata": {},
   "outputs": [
    {
     "data": {
      "text/plain": [
       "array([ 0,  1,  2,  3,  4,  5,  6,  7,  8,  9, 10, 11])"
      ]
     },
     "execution_count": 196,
     "metadata": {},
     "output_type": "execute_result"
    }
   ],
   "source": [
    "p2.ravel()"
   ]
  },
  {
   "cell_type": "markdown",
   "id": "e0a754c3-d288-4213-8180-3438bfbd01a6",
   "metadata": {},
   "source": [
    "####  Stacking\n",
    "\n",
    "stacking is the concept of joining arrays in numpy . arrays having the same dimensions can be stacked"
   ]
  },
  {
   "cell_type": "code",
   "execution_count": 198,
   "id": "73fbdcab-eab9-47ef-97d7-b8f2ff645c4e",
   "metadata": {},
   "outputs": [],
   "source": [
    "# horizontal stacking \n",
    "\n",
    "w1 = np.arange(12).reshape(3,4)\n",
    "w2 = np.arange(12,24).reshape(3,4)"
   ]
  },
  {
   "cell_type": "code",
   "execution_count": 199,
   "id": "b84002a3-6313-4a49-a9c3-e9bf93ccd209",
   "metadata": {},
   "outputs": [
    {
     "data": {
      "text/plain": [
       "array([[ 0,  1,  2,  3],\n",
       "       [ 4,  5,  6,  7],\n",
       "       [ 8,  9, 10, 11]])"
      ]
     },
     "execution_count": 199,
     "metadata": {},
     "output_type": "execute_result"
    }
   ],
   "source": [
    "w1 "
   ]
  },
  {
   "cell_type": "code",
   "execution_count": 200,
   "id": "2408131f-88a2-4e23-bdcb-b52e9927381a",
   "metadata": {},
   "outputs": [
    {
     "data": {
      "text/plain": [
       "array([[12, 13, 14, 15],\n",
       "       [16, 17, 18, 19],\n",
       "       [20, 21, 22, 23]])"
      ]
     },
     "execution_count": 200,
     "metadata": {},
     "output_type": "execute_result"
    }
   ],
   "source": [
    "w2"
   ]
  },
  {
   "cell_type": "markdown",
   "id": "8885ca8b-1552-48e3-b79c-20b05e2b5fe6",
   "metadata": {},
   "source": [
    "using **hstack** for horizontal stacking "
   ]
  },
  {
   "cell_type": "code",
   "execution_count": 202,
   "id": "cf104fd2-893b-4459-bde0-c4edb837b2ac",
   "metadata": {},
   "outputs": [
    {
     "data": {
      "text/plain": [
       "array([[ 0,  1,  2,  3, 12, 13, 14, 15],\n",
       "       [ 4,  5,  6,  7, 16, 17, 18, 19],\n",
       "       [ 8,  9, 10, 11, 20, 21, 22, 23]])"
      ]
     },
     "execution_count": 202,
     "metadata": {},
     "output_type": "execute_result"
    }
   ],
   "source": [
    "np.hstack((w1,w2))"
   ]
  },
  {
   "cell_type": "code",
   "execution_count": 203,
   "id": "097e7709-a651-4ccc-9ebb-f6d7a443e1a0",
   "metadata": {},
   "outputs": [
    {
     "data": {
      "text/plain": [
       "array([[ 0,  1,  2,  3],\n",
       "       [ 4,  5,  6,  7],\n",
       "       [ 8,  9, 10, 11]])"
      ]
     },
     "execution_count": 203,
     "metadata": {},
     "output_type": "execute_result"
    }
   ],
   "source": [
    "w1"
   ]
  },
  {
   "cell_type": "code",
   "execution_count": 204,
   "id": "c7c07c39-6c1c-4942-898f-6945fd8c5d7f",
   "metadata": {},
   "outputs": [
    {
     "data": {
      "text/plain": [
       "array([[12, 13, 14, 15],\n",
       "       [16, 17, 18, 19],\n",
       "       [20, 21, 22, 23]])"
      ]
     },
     "execution_count": 204,
     "metadata": {},
     "output_type": "execute_result"
    }
   ],
   "source": [
    "w2"
   ]
  },
  {
   "cell_type": "markdown",
   "id": "e54a15f8-4327-42cb-ada6-50a672cca025",
   "metadata": {},
   "source": [
    "using **vstack** for vertical stacking"
   ]
  },
  {
   "cell_type": "code",
   "execution_count": 206,
   "id": "5930f9ca-6e6a-4b13-aead-65c6f175d46d",
   "metadata": {},
   "outputs": [
    {
     "data": {
      "text/plain": [
       "array([[ 0,  1,  2,  3],\n",
       "       [ 4,  5,  6,  7],\n",
       "       [ 8,  9, 10, 11],\n",
       "       [12, 13, 14, 15],\n",
       "       [16, 17, 18, 19],\n",
       "       [20, 21, 22, 23]])"
      ]
     },
     "execution_count": 206,
     "metadata": {},
     "output_type": "execute_result"
    }
   ],
   "source": [
    "np.vstack((w1,w2))"
   ]
  },
  {
   "cell_type": "markdown",
   "id": "c768ac91-8cb2-4a20-8605-d8b40e1f331a",
   "metadata": {},
   "source": [
    "#### splitting \n",
    "\n",
    "its opposite of staking"
   ]
  },
  {
   "cell_type": "code",
   "execution_count": 208,
   "id": "f07908e8-b82e-4874-b88d-545668072836",
   "metadata": {},
   "outputs": [
    {
     "data": {
      "text/plain": [
       "array([[ 0,  1,  2,  3],\n",
       "       [ 4,  5,  6,  7],\n",
       "       [ 8,  9, 10, 11]])"
      ]
     },
     "execution_count": 208,
     "metadata": {},
     "output_type": "execute_result"
    }
   ],
   "source": [
    "# horizontal splitting\n",
    "w1"
   ]
  },
  {
   "cell_type": "code",
   "execution_count": 209,
   "id": "89831bb9-0108-4c3d-897e-aa386f6d4202",
   "metadata": {},
   "outputs": [
    {
     "data": {
      "text/plain": [
       "[array([[0],\n",
       "        [4],\n",
       "        [8]]),\n",
       " array([[1],\n",
       "        [5],\n",
       "        [9]]),\n",
       " array([[ 2],\n",
       "        [ 6],\n",
       "        [10]]),\n",
       " array([[ 3],\n",
       "        [ 7],\n",
       "        [11]])]"
      ]
     },
     "execution_count": 209,
     "metadata": {},
     "output_type": "execute_result"
    }
   ],
   "source": [
    "np.hsplit(w1,4) # splitting by 4\n"
   ]
  },
  {
   "cell_type": "code",
   "execution_count": 210,
   "id": "3ba3ad86-950e-42fe-9e4d-047a0455a850",
   "metadata": {},
   "outputs": [
    {
     "data": {
      "text/plain": [
       "array([[12, 13, 14, 15],\n",
       "       [16, 17, 18, 19],\n",
       "       [20, 21, 22, 23]])"
      ]
     },
     "execution_count": 210,
     "metadata": {},
     "output_type": "execute_result"
    }
   ],
   "source": [
    "w2"
   ]
  },
  {
   "cell_type": "code",
   "execution_count": 211,
   "id": "3658f95d-e16f-4acd-a75d-6b15d58447d4",
   "metadata": {},
   "outputs": [
    {
     "data": {
      "text/plain": [
       "[array([[12, 13, 14, 15]]),\n",
       " array([[16, 17, 18, 19]]),\n",
       " array([[20, 21, 22, 23]])]"
      ]
     },
     "execution_count": 211,
     "metadata": {},
     "output_type": "execute_result"
    }
   ],
   "source": [
    "np.vsplit(w2,3)"
   ]
  },
  {
   "cell_type": "code",
   "execution_count": 212,
   "id": "8553846f-67f1-4102-b0ee-15f392926448",
   "metadata": {},
   "outputs": [
    {
     "name": "stdout",
     "output_type": "stream",
     "text": [
      "2.3166346549987793\n"
     ]
    }
   ],
   "source": [
    "# element wise addtion \n",
    "import time\n",
    "\n",
    "a = [ i for i in range(10000000)]\n",
    "b = [i for i in range(10000000,20000000)]\n",
    "c = []\n",
    "\n",
    "import time \n",
    "\n",
    "start = time.time()\n",
    "\n",
    "for i in range(len(a)):\n",
    "    c.append(a[i] +b[i])\n",
    "\n",
    "print(time.time()-start)\n",
    "              "
   ]
  },
  {
   "cell_type": "markdown",
   "id": "f7a31469-ca66-4899-a4a4-c8aec52df95f",
   "metadata": {},
   "source": [
    "#### numpy"
   ]
  },
  {
   "cell_type": "code",
   "execution_count": 214,
   "id": "f4224411-c9f2-46a4-95a2-45ec61ee9710",
   "metadata": {},
   "outputs": [
    {
     "name": "stdout",
     "output_type": "stream",
     "text": [
      "0.15135598182678223\n"
     ]
    }
   ],
   "source": [
    "import numpy as np\n",
    "import time\n",
    "a = np.arange(10000000)\n",
    "b = np.arange(10000000,20000000)\n",
    "\n",
    "start = time.time()\n",
    "\n",
    "c = a+b\n",
    "print(time.time()-start)"
   ]
  },
  {
   "cell_type": "markdown",
   "id": "2188a7d3-0c6b-4956-8581-0c7bf130641e",
   "metadata": {},
   "source": [
    "so **Numpy**  is faster than normal python programming we can see in above "
   ]
  },
  {
   "cell_type": "code",
   "execution_count": 216,
   "id": "8e2d116a-3af9-496b-96c5-4ef9aa5089a1",
   "metadata": {},
   "outputs": [
    {
     "data": {
      "text/plain": [
       "15.652123400177949"
      ]
     },
     "execution_count": 216,
     "metadata": {},
     "output_type": "execute_result"
    }
   ],
   "source": [
    "2.180988073348999/0.1393413543701172"
   ]
  },
  {
   "cell_type": "markdown",
   "id": "8932b2f9-f687-4e40-9306-e08afcf78f8f",
   "metadata": {},
   "source": [
    "##### Memory use for list vs NUmpy\n",
    "\n",
    "LISt\n",
    "\n",
    "\n"
   ]
  },
  {
   "cell_type": "code",
   "execution_count": 218,
   "id": "ed2448a9-9d60-4432-b4d6-70438d6b551b",
   "metadata": {},
   "outputs": [
    {
     "data": {
      "text/plain": [
       "20000112"
      ]
     },
     "execution_count": 218,
     "metadata": {},
     "output_type": "execute_result"
    }
   ],
   "source": [
    "\n",
    "import sys\n",
    "R  = np.arange(10000000,dtype = np.int16)\n",
    "sys.getsizeof(R)"
   ]
  },
  {
   "cell_type": "markdown",
   "id": "ac8cbe78-0eb4-4500-9def-a5509cd6821d",
   "metadata": {},
   "source": [
    "####  Advance indexing and slicing \n"
   ]
  },
  {
   "cell_type": "code",
   "execution_count": 220,
   "id": "16f149c7-42ee-4a5b-87bd-fddae87822f4",
   "metadata": {},
   "outputs": [
    {
     "data": {
      "text/plain": [
       "array([[ 0,  1,  2],\n",
       "       [ 3,  4,  5],\n",
       "       [ 6,  7,  8],\n",
       "       [ 9, 10, 11]])"
      ]
     },
     "execution_count": 220,
     "metadata": {},
     "output_type": "execute_result"
    }
   ],
   "source": [
    "# normak indexing and slicing \n",
    "\n",
    "w = np.arange(12).reshape(4,3)\n",
    "w"
   ]
  },
  {
   "cell_type": "code",
   "execution_count": 221,
   "id": "d9412fcf-9792-4502-91db-561e52b08b09",
   "metadata": {},
   "outputs": [
    {
     "data": {
      "text/plain": [
       "5"
      ]
     },
     "execution_count": 221,
     "metadata": {},
     "output_type": "execute_result"
    }
   ],
   "source": [
    "# fetching 5 from array\n",
    "\n",
    "w[1,2]"
   ]
  },
  {
   "cell_type": "code",
   "execution_count": 222,
   "id": "6478909e-78bd-48d4-9fac-20d49dcc877a",
   "metadata": {},
   "outputs": [
    {
     "data": {
      "text/plain": [
       "array([[3, 4, 5],\n",
       "       [6, 7, 8]])"
      ]
     },
     "execution_count": 222,
     "metadata": {},
     "output_type": "execute_result"
    }
   ],
   "source": [
    "# fetching 4,5,6,7\n",
    "w[1:3]"
   ]
  },
  {
   "cell_type": "code",
   "execution_count": 223,
   "id": "aefb5be2-3c23-492c-bbfb-6f45bffa489e",
   "metadata": {},
   "outputs": [
    {
     "data": {
      "text/plain": [
       "array([[4, 5],\n",
       "       [7, 8]])"
      ]
     },
     "execution_count": 223,
     "metadata": {},
     "output_type": "execute_result"
    }
   ],
   "source": [
    "w[1:3 , 1:3]"
   ]
  },
  {
   "cell_type": "markdown",
   "id": "c7e06a76-d500-4ab2-a67c-0381c77c9d45",
   "metadata": {},
   "source": [
    "#### Fancy indexing \n",
    "\n",
    "fancy indexing allows you to select or modify specific elements based on complex condition or combinations of indces .it provides a powerful way to manipulate array data in numpy"
   ]
  },
  {
   "cell_type": "code",
   "execution_count": 225,
   "id": "6a2f44a3-ef9e-4080-9c55-758ada8ca1e4",
   "metadata": {},
   "outputs": [
    {
     "data": {
      "text/plain": [
       "array([[ 0,  1,  2],\n",
       "       [ 3,  4,  5],\n",
       "       [ 6,  7,  8],\n",
       "       [ 9, 10, 11]])"
      ]
     },
     "execution_count": 225,
     "metadata": {},
     "output_type": "execute_result"
    }
   ],
   "source": [
    "w"
   ]
  },
  {
   "cell_type": "code",
   "execution_count": 226,
   "id": "e1efb621-1778-43d1-9178-067bf0068a7d",
   "metadata": {},
   "outputs": [
    {
     "data": {
      "text/plain": [
       "array([[ 0,  1,  2],\n",
       "       [ 6,  7,  8],\n",
       "       [ 9, 10, 11]])"
      ]
     },
     "execution_count": 226,
     "metadata": {},
     "output_type": "execute_result"
    }
   ],
   "source": [
    "w[[0,2,3]]"
   ]
  },
  {
   "cell_type": "code",
   "execution_count": 227,
   "id": "bbd02f29-ecf1-42d0-afbd-1fc6f4c9cf65",
   "metadata": {},
   "outputs": [
    {
     "name": "stdout",
     "output_type": "stream",
     "text": [
      "[[ 0  1  2  3]\n",
      " [ 4  5  6  7]\n",
      " [ 8  9 10 11]\n",
      " [12 13 14 15]\n",
      " [16 17 18 19]\n",
      " [20 21 22 23]]\n"
     ]
    }
   ],
   "source": [
    "# new array\n",
    "\n",
    "z = np.arange(24).reshape(6,4)\n",
    "print(z)"
   ]
  },
  {
   "cell_type": "code",
   "execution_count": 228,
   "id": "00c38142-81c1-499f-aaf1-ad01b41e2a12",
   "metadata": {},
   "outputs": [
    {
     "data": {
      "text/plain": [
       "array([[ 0,  1,  2,  3],\n",
       "       [ 8,  9, 10, 11],\n",
       "       [12, 13, 14, 15],\n",
       "       [20, 21, 22, 23]])"
      ]
     },
     "execution_count": 228,
     "metadata": {},
     "output_type": "execute_result"
    }
   ],
   "source": [
    "z[[0,2,3,5]]"
   ]
  },
  {
   "cell_type": "code",
   "execution_count": 229,
   "id": "84324343-8de3-4419-b670-7b325c6d48da",
   "metadata": {},
   "outputs": [
    {
     "data": {
      "text/plain": [
       "array([[ 0,  2,  3],\n",
       "       [ 4,  6,  7],\n",
       "       [ 8, 10, 11],\n",
       "       [12, 14, 15],\n",
       "       [16, 18, 19],\n",
       "       [20, 22, 23]])"
      ]
     },
     "execution_count": 229,
     "metadata": {},
     "output_type": "execute_result"
    }
   ],
   "source": [
    "z[:,[0,2,3]]"
   ]
  },
  {
   "cell_type": "markdown",
   "id": "5e673481-2d13-4bcc-aacb-38b4f37cd2d8",
   "metadata": {},
   "source": [
    "#### Boolean indexing\n",
    "\n",
    "it allows you to select elements from an array based on a boolean condition this allows you to extract only the elements of an array that meet a certain condition, making it easy to perform operation on specific subsets of datat\n"
   ]
  },
  {
   "cell_type": "code",
   "execution_count": 231,
   "id": "64019f62-4921-457b-8379-03a011c22069",
   "metadata": {},
   "outputs": [
    {
     "data": {
      "text/plain": [
       "array([[74, 13, 12, 54],\n",
       "       [81,  9, 83, 43],\n",
       "       [43, 13, 84, 62],\n",
       "       [36, 25, 36, 46],\n",
       "       [42, 39, 46, 32],\n",
       "       [ 3,  5, 23, 85]])"
      ]
     },
     "execution_count": 231,
     "metadata": {},
     "output_type": "execute_result"
    }
   ],
   "source": [
    "G = np.random.randint(1,100,24).reshape(6,4)\n",
    "G"
   ]
  },
  {
   "cell_type": "code",
   "execution_count": 232,
   "id": "0aa88862-defe-45ac-b635-4d6b69f29f0c",
   "metadata": {},
   "outputs": [
    {
     "data": {
      "text/plain": [
       "array([74, 54, 81, 83, 84, 62, 85])"
      ]
     },
     "execution_count": 232,
     "metadata": {},
     "output_type": "execute_result"
    }
   ],
   "source": [
    "# find all numbers greater than 50\n",
    "\n",
    "G[G>50]"
   ]
  },
  {
   "cell_type": "code",
   "execution_count": 233,
   "id": "a9796516-c9e4-4094-a15d-692e543f8d39",
   "metadata": {},
   "outputs": [
    {
     "data": {
      "text/plain": [
       "array([[ True, False, False,  True],\n",
       "       [ True, False,  True, False],\n",
       "       [False, False,  True,  True],\n",
       "       [False, False, False, False],\n",
       "       [False, False, False, False],\n",
       "       [False, False, False,  True]])"
      ]
     },
     "execution_count": 233,
     "metadata": {},
     "output_type": "execute_result"
    }
   ],
   "source": [
    "G>50"
   ]
  },
  {
   "cell_type": "markdown",
   "id": "a4f586e8-4a9f-4afa-9262-5988839f7669",
   "metadata": {},
   "source": [
    "It is best Technique to filter the data in given condition"
   ]
  },
  {
   "cell_type": "code",
   "execution_count": 235,
   "id": "e8eed083-974c-4ec8-a678-bb46a94ec4d3",
   "metadata": {},
   "outputs": [],
   "source": [
    "# find out even numbers "
   ]
  },
  {
   "cell_type": "code",
   "execution_count": 236,
   "id": "78b2356b-0acb-4b2b-a891-5d7178b65f9b",
   "metadata": {},
   "outputs": [
    {
     "data": {
      "text/plain": [
       "array([74, 12, 54, 84, 62, 36, 36, 46, 42, 46, 32])"
      ]
     },
     "execution_count": 236,
     "metadata": {},
     "output_type": "execute_result"
    }
   ],
   "source": [
    "G[G%2==0]\n"
   ]
  },
  {
   "cell_type": "code",
   "execution_count": 237,
   "id": "b8fbc98f-f808-41c0-a913-fa9f6fe47351",
   "metadata": {},
   "outputs": [
    {
     "data": {
      "text/plain": [
       "array([74, 54, 84, 62])"
      ]
     },
     "execution_count": 237,
     "metadata": {},
     "output_type": "execute_result"
    }
   ],
   "source": [
    "# find all numbers greater than 50 and are even\n",
    "\n",
    "G [(G % 2 == 0) & (G>50)]"
   ]
  },
  {
   "cell_type": "code",
   "execution_count": 238,
   "id": "8f4fffba-02a4-4d74-9ea5-471dc43e2171",
   "metadata": {},
   "outputs": [
    {
     "data": {
      "text/plain": [
       "array([[False, False, False, False],\n",
       "       [False, False, False, False],\n",
       "       [False, False,  True, False],\n",
       "       [False, False, False, False],\n",
       "       [ True, False, False, False],\n",
       "       [False, False, False, False]])"
      ]
     },
     "execution_count": 238,
     "metadata": {},
     "output_type": "execute_result"
    }
   ],
   "source": [
    "G%7==0"
   ]
  },
  {
   "cell_type": "code",
   "execution_count": 239,
   "id": "a5b9bec3-a6ec-4f88-9eba-d22e1813f511",
   "metadata": {},
   "outputs": [
    {
     "data": {
      "text/plain": [
       "array([74, 13, 12, 54, 81,  9, 83, 43, 43, 13, 62, 36, 25, 36, 46, 39, 46,\n",
       "       32,  3,  5, 23, 85])"
      ]
     },
     "execution_count": 239,
     "metadata": {},
     "output_type": "execute_result"
    }
   ],
   "source": [
    "G[~(G%7==0)]"
   ]
  },
  {
   "cell_type": "markdown",
   "id": "9483546f-779a-4f06-bf62-184dd303db47",
   "metadata": {},
   "source": [
    "#### Broadcasting \n",
    "\n",
    "* used in vectorization\n",
    "\n",
    "* the term broadcasting describes how numpy treats arrays with different shapes during arithmetic operations.\n",
    "\n",
    "* The smaller array is \"broadcast\" across the larger array so that they have compatible shapes "
   ]
  },
  {
   "cell_type": "code",
   "execution_count": 241,
   "id": "4e51f70c-3b19-40f6-995f-b37744b9c42e",
   "metadata": {},
   "outputs": [
    {
     "name": "stdout",
     "output_type": "stream",
     "text": [
      "[[0 1 2]\n",
      " [3 4 5]]\n",
      "[[ 6  7  8]\n",
      " [ 9 10 11]]\n",
      "[[ 6  8 10]\n",
      " [12 14 16]]\n"
     ]
    }
   ],
   "source": [
    "a = np.arange(6).reshape(2,3)\n",
    "b= np.arange(6,12).reshape(2,3)\n",
    "print(a)\n",
    "print(b)\n",
    "\n",
    "print(a+b)\n"
   ]
  },
  {
   "cell_type": "code",
   "execution_count": 242,
   "id": "fa58cdf7-56d3-4399-bdbb-8e1da4acf7d2",
   "metadata": {},
   "outputs": [
    {
     "name": "stdout",
     "output_type": "stream",
     "text": [
      "[[0 1 2]\n",
      " [3 4 5]]\n",
      "[[0 1 2]]\n",
      "[[0 2 4]\n",
      " [3 5 7]]\n"
     ]
    }
   ],
   "source": [
    "a = np.arange(6).reshape(2,3)\n",
    "b = np.arange(3).reshape(1,3)\n",
    "\n",
    "print(a)\n",
    "print(b)\n",
    "\n",
    "print(a+b)\n"
   ]
  },
  {
   "cell_type": "code",
   "execution_count": 243,
   "id": "dac73aea-141e-46e9-98cd-a92a489f9f1b",
   "metadata": {},
   "outputs": [
    {
     "data": {
      "text/plain": [
       "array([[0, 1, 2],\n",
       "       [3, 4, 5]])"
      ]
     },
     "execution_count": 243,
     "metadata": {},
     "output_type": "execute_result"
    }
   ],
   "source": [
    "np.vstack(a)"
   ]
  },
  {
   "cell_type": "code",
   "execution_count": 244,
   "id": "19473cce-7553-4fe5-a23b-5e862bca59df",
   "metadata": {},
   "outputs": [
    {
     "data": {
      "text/plain": [
       "array([[0, 1, 2]])"
      ]
     },
     "execution_count": 244,
     "metadata": {},
     "output_type": "execute_result"
    }
   ],
   "source": [
    "b"
   ]
  },
  {
   "cell_type": "code",
   "execution_count": 245,
   "id": "465443b8-9115-4a21-8be5-54368bcc7b2c",
   "metadata": {},
   "outputs": [
    {
     "data": {
      "text/plain": [
       "array([[0, 2, 4],\n",
       "       [3, 5, 7]])"
      ]
     },
     "execution_count": 245,
     "metadata": {},
     "output_type": "execute_result"
    }
   ],
   "source": [
    "a+b"
   ]
  },
  {
   "cell_type": "markdown",
   "id": "93174044-c404-4f2a-bd73-247e98ed7416",
   "metadata": {},
   "source": [
    "#### Broadcasting rules\n",
    "\n",
    "1. Make the two arrays have the same number of dimensions.\n",
    "\n",
    "   * if the numbes of dimensions of the two arrays are differernt , add new dimensions with size 1 to head of the array with the smaller dimension.\n",
    "  \n",
    "     Ex: (3,2) = 2d , (3) = 1d ----> convert into (1,3)\n",
    "     (3,3,3) = 3d ,(3) = 1d --------> convert into (1,1,3)\n",
    "\n",
    "     2. Make each dimension of the two arrays the same size.\n",
    "    \n",
    "        * if the sizes of each dimensions of the two arrays do not match ,dimension with size 1 are streched to the size of the other array.\n",
    "       \n",
    "        * ex : (3,3) = 2d ,(3) = 1d ----> converted (1,3) than strech to (3,3)\n",
    "       \n",
    "     3. if there is a dimension whose size is not 1 in either of two arrays , it cannot be broadcasted and an error is raised "
   ]
  },
  {
   "cell_type": "code",
   "execution_count": 247,
   "id": "0e6f32a0-d205-4147-9cd1-d3e84dac4d9b",
   "metadata": {},
   "outputs": [],
   "source": [
    "a= np.arange (12).reshape(4,3)\n",
    "b = np.arange(3)"
   ]
  },
  {
   "cell_type": "code",
   "execution_count": 248,
   "id": "33492b05-9e12-4427-847b-f1e0966814a5",
   "metadata": {},
   "outputs": [
    {
     "name": "stdout",
     "output_type": "stream",
     "text": [
      "[[ 0  1  2]\n",
      " [ 3  4  5]\n",
      " [ 6  7  8]\n",
      " [ 9 10 11]]\n"
     ]
    }
   ],
   "source": [
    "print(a)"
   ]
  },
  {
   "cell_type": "code",
   "execution_count": 249,
   "id": "8adcd9f9-4ae9-4990-91df-86961cba2929",
   "metadata": {},
   "outputs": [
    {
     "name": "stdout",
     "output_type": "stream",
     "text": [
      "[0 1 2]\n"
     ]
    }
   ],
   "source": [
    "print(b)"
   ]
  },
  {
   "cell_type": "code",
   "execution_count": 250,
   "id": "be6fefb4-1fc9-4545-bc9d-2c42af600d0a",
   "metadata": {},
   "outputs": [
    {
     "name": "stdout",
     "output_type": "stream",
     "text": [
      "[[ 0  2  4]\n",
      " [ 3  5  7]\n",
      " [ 6  8 10]\n",
      " [ 9 11 13]]\n"
     ]
    }
   ],
   "source": [
    "print(a+b)"
   ]
  },
  {
   "cell_type": "markdown",
   "id": "27408fba-173d-4be7-ab7a-75403aacea5d",
   "metadata": {},
   "source": [
    "Explanation: Arithmetic operation possible because , here a = (4,3) is 2d and b = (3) is 1d so did converted (3) to (1,3) and streched to (4,3)"
   ]
  },
  {
   "cell_type": "code",
   "execution_count": 252,
   "id": "979efd15-a2b1-462b-9de4-f3b24ba7da36",
   "metadata": {},
   "outputs": [
    {
     "name": "stdout",
     "output_type": "stream",
     "text": [
      "[[ 0  1  2  3]\n",
      " [ 4  5  6  7]\n",
      " [ 8  9 10 11]]\n",
      "-------------------------------------------------------\n",
      "[0 1 2]\n"
     ]
    }
   ],
   "source": [
    "# could not broadcast\n",
    "\n",
    "a = np.arange(12).reshape(3,4)\n",
    "b= np.arange(3)\n",
    "\n",
    "print(a)\n",
    "\n",
    "print(\"-------------------------------------------------------\")\n",
    "print(b)\n"
   ]
  },
  {
   "cell_type": "code",
   "execution_count": 253,
   "id": "5764c130-980f-470f-a11b-67fb8dbed39e",
   "metadata": {},
   "outputs": [
    {
     "ename": "ValueError",
     "evalue": "operands could not be broadcast together with shapes (3,4) (3,) ",
     "output_type": "error",
     "traceback": [
      "\u001b[1;31m---------------------------------------------------------------------------\u001b[0m",
      "\u001b[1;31mValueError\u001b[0m                                Traceback (most recent call last)",
      "Cell \u001b[1;32mIn[253], line 1\u001b[0m\n\u001b[1;32m----> 1\u001b[0m \u001b[38;5;28mprint\u001b[39m(a\u001b[38;5;241m+\u001b[39mb)\n",
      "\u001b[1;31mValueError\u001b[0m: operands could not be broadcast together with shapes (3,4) (3,) "
     ]
    }
   ],
   "source": [
    "print(a+b)"
   ]
  },
  {
   "cell_type": "markdown",
   "id": "e0a5ad63-7a10-40a8-8d0d-9b7362090396",
   "metadata": {},
   "source": [
    "Explanation : Arithmetic operation not possible because , Here a = (3,4) is 2d and b =(3) \n",
    "is 1d so did converted (3) to (1,3) and streched to (3,3) but a , is not equls to b.so it got failed "
   ]
  },
  {
   "cell_type": "code",
   "execution_count": 261,
   "id": "3a4ad53c-5125-4c13-8649-bc885f250674",
   "metadata": {},
   "outputs": [
    {
     "name": "stdout",
     "output_type": "stream",
     "text": [
      "[[0 1 2]]\n"
     ]
    }
   ],
   "source": [
    "a = np.arange(3).reshape(1,3)\n",
    "b = np.arange(3).reshape(3,1)\n",
    "\n",
    "print(a)"
   ]
  },
  {
   "cell_type": "code",
   "execution_count": 263,
   "id": "84f0a010-ee15-4f65-9a80-0f6443feb206",
   "metadata": {},
   "outputs": [
    {
     "name": "stdout",
     "output_type": "stream",
     "text": [
      "[[0]\n",
      " [1]\n",
      " [2]]\n"
     ]
    }
   ],
   "source": [
    "print(b)"
   ]
  },
  {
   "cell_type": "code",
   "execution_count": 265,
   "id": "4e17341f-40e2-4dd3-97cf-7125579338b9",
   "metadata": {},
   "outputs": [
    {
     "name": "stdout",
     "output_type": "stream",
     "text": [
      "[[0 1 2]\n",
      " [1 2 3]\n",
      " [2 3 4]]\n"
     ]
    }
   ],
   "source": [
    "print(a+b)"
   ]
  },
  {
   "cell_type": "markdown",
   "id": "6fc435f1-ad1f-464c-9a0b-49f127063cc0",
   "metadata": {},
   "source": [
    "Explanation :Arithmetic Operation possible because ,Here a = (1,3) is 2D and b = (3,1) is 2d soc did converted(1,3) to (3,3) and b(3,1) convert (1) to 3 than (3,3) finally it equally."
   ]
  },
  {
   "cell_type": "code",
   "execution_count": 268,
   "id": "97b69a74-38cf-41f6-94bd-11d32badf35f",
   "metadata": {},
   "outputs": [
    {
     "name": "stdout",
     "output_type": "stream",
     "text": [
      "[[0 1 2]]\n",
      "[[0]\n",
      " [1]\n",
      " [2]\n",
      " [3]]\n",
      "[[0 1 2]\n",
      " [1 2 3]\n",
      " [2 3 4]\n",
      " [3 4 5]]\n"
     ]
    }
   ],
   "source": [
    "a = np.arange (3).reshape(1,3)\n",
    "b = np.arange(4).reshape(4,1)\n",
    "print(a)\n",
    "print(b)\n",
    "\n",
    "print(a+b)"
   ]
  },
  {
   "cell_type": "code",
   "execution_count": 270,
   "id": "5a74c3ee-6269-4667-9cdb-b991116c8e5a",
   "metadata": {},
   "outputs": [
    {
     "name": "stdout",
     "output_type": "stream",
     "text": [
      "[1]\n",
      "[[0 1]\n",
      " [2 3]]\n",
      "[[1 2]\n",
      " [3 4]]\n"
     ]
    }
   ],
   "source": [
    "a = np.array([1])\n",
    "# shape -> (1,1) streched to 2,2\n",
    "b= np.arange (4).reshape(2,2)\n",
    "\n",
    "# shape - > (2,2)\n",
    "\n",
    "print(a) \n",
    "print(b)\n",
    "print(a+b)\n",
    "\n"
   ]
  },
  {
   "cell_type": "code",
   "execution_count": 275,
   "id": "c1066dff-b73d-4f7c-acbe-d03974ef5e65",
   "metadata": {},
   "outputs": [
    {
     "name": "stdout",
     "output_type": "stream",
     "text": [
      "[[ 0  1  2  3]\n",
      " [ 4  5  6  7]\n",
      " [ 8  9 10 11]]\n",
      "[[ 0  1  2]\n",
      " [ 3  4  5]\n",
      " [ 6  7  8]\n",
      " [ 9 10 11]]\n"
     ]
    },
    {
     "ename": "ValueError",
     "evalue": "operands could not be broadcast together with shapes (3,4) (4,3) ",
     "output_type": "error",
     "traceback": [
      "\u001b[1;31m---------------------------------------------------------------------------\u001b[0m",
      "\u001b[1;31mValueError\u001b[0m                                Traceback (most recent call last)",
      "Cell \u001b[1;32mIn[275], line 8\u001b[0m\n\u001b[0;32m      4\u001b[0m \u001b[38;5;28mprint\u001b[39m(a)\n\u001b[0;32m      5\u001b[0m \u001b[38;5;28mprint\u001b[39m(b)\n\u001b[1;32m----> 8\u001b[0m \u001b[38;5;28mprint\u001b[39m(a\u001b[38;5;241m+\u001b[39mb)\n",
      "\u001b[1;31mValueError\u001b[0m: operands could not be broadcast together with shapes (3,4) (4,3) "
     ]
    }
   ],
   "source": [
    "a = np.arange(12).reshape(3,4)\n",
    "b = np.arange(12).reshape(4,3)\n",
    "\n",
    "print(a)\n",
    "print(b)\n",
    "\n",
    "\n",
    "print(a+b)\n"
   ]
  },
  {
   "cell_type": "code",
   "execution_count": 277,
   "id": "1d89039a-af83-47da-8c5a-729add44377c",
   "metadata": {},
   "outputs": [
    {
     "name": "stdout",
     "output_type": "stream",
     "text": [
      "[[ 0  1  2  3]\n",
      " [ 4  5  6  7]\n",
      " [ 8  9 10 11]\n",
      " [12 13 14 15]]\n",
      "[[0 1]\n",
      " [2 3]]\n"
     ]
    },
    {
     "ename": "ValueError",
     "evalue": "operands could not be broadcast together with shapes (4,4) (2,2) ",
     "output_type": "error",
     "traceback": [
      "\u001b[1;31m---------------------------------------------------------------------------\u001b[0m",
      "\u001b[1;31mValueError\u001b[0m                                Traceback (most recent call last)",
      "Cell \u001b[1;32mIn[277], line 7\u001b[0m\n\u001b[0;32m      4\u001b[0m \u001b[38;5;28mprint\u001b[39m(a)\n\u001b[0;32m      5\u001b[0m \u001b[38;5;28mprint\u001b[39m(b)\n\u001b[1;32m----> 7\u001b[0m \u001b[38;5;28mprint\u001b[39m(a\u001b[38;5;241m+\u001b[39mb)\n",
      "\u001b[1;31mValueError\u001b[0m: operands could not be broadcast together with shapes (4,4) (2,2) "
     ]
    }
   ],
   "source": [
    "a = np.arange(16).reshape(4,4)\n",
    "b = np.arange(4).reshape(2,2)\n",
    "\n",
    "print(a)\n",
    "print(b)\n",
    "\n",
    "print(a+b)"
   ]
  },
  {
   "cell_type": "code",
   "execution_count": null,
   "id": "4379c876-0347-4aeb-84c6-545f9fb6dcc5",
   "metadata": {},
   "outputs": [],
   "source": []
  },
  {
   "cell_type": "raw",
   "id": "0ac3be78-2489-4cd1-be02-98cdfe36fe46",
   "metadata": {},
   "source": []
  },
  {
   "cell_type": "markdown",
   "id": "737b67e3-366c-45c1-a189-e099a8cd8312",
   "metadata": {},
   "source": [
    "#### Working with mathematical formulas "
   ]
  },
  {
   "cell_type": "code",
   "execution_count": 280,
   "id": "4e49f89b-5f38-4530-ac33-28a846e7f552",
   "metadata": {},
   "outputs": [
    {
     "data": {
      "text/plain": [
       "array([0, 1, 2, 3, 4, 5, 6, 7, 8, 9])"
      ]
     },
     "execution_count": 280,
     "metadata": {},
     "output_type": "execute_result"
    }
   ],
   "source": [
    "k = np.arange(10)\n",
    "k"
   ]
  },
  {
   "cell_type": "code",
   "execution_count": 282,
   "id": "4d33cb25-ffcf-4fa1-bc32-d3f18a65a89d",
   "metadata": {},
   "outputs": [
    {
     "data": {
      "text/plain": [
       "45"
      ]
     },
     "execution_count": 282,
     "metadata": {},
     "output_type": "execute_result"
    }
   ],
   "source": [
    "np.sum(k)"
   ]
  },
  {
   "cell_type": "code",
   "execution_count": 284,
   "id": "f64fa86f-4ec4-49ef-a7ae-e070a86f21bf",
   "metadata": {},
   "outputs": [
    {
     "data": {
      "text/plain": [
       "array([ 0.        ,  0.84147098,  0.90929743,  0.14112001, -0.7568025 ,\n",
       "       -0.95892427, -0.2794155 ,  0.6569866 ,  0.98935825,  0.41211849])"
      ]
     },
     "execution_count": 284,
     "metadata": {},
     "output_type": "execute_result"
    }
   ],
   "source": [
    "np.sin(k)"
   ]
  },
  {
   "cell_type": "markdown",
   "id": "38fc9aee-cd57-495a-b413-ff12087a07f4",
   "metadata": {},
   "source": [
    "#### sigmoid"
   ]
  },
  {
   "cell_type": "code",
   "execution_count": 287,
   "id": "fe62a7e5-3659-4b4a-b944-d7bfa7d0f69f",
   "metadata": {},
   "outputs": [
    {
     "data": {
      "text/plain": [
       "array([0.5       , 0.73105858, 0.88079708, 0.95257413, 0.98201379,\n",
       "       0.99330715, 0.99752738, 0.99908895, 0.99966465, 0.99987661])"
      ]
     },
     "execution_count": 287,
     "metadata": {},
     "output_type": "execute_result"
    }
   ],
   "source": [
    "def sigmoid(array):\n",
    "    return 1/(1+np.exp(-(array)))\n",
    "k = np.arange(10)\n",
    "sigmoid(k)"
   ]
  },
  {
   "cell_type": "code",
   "execution_count": 289,
   "id": "7260f950-faec-4bcd-8800-ef63063aa778",
   "metadata": {},
   "outputs": [
    {
     "data": {
      "text/plain": [
       "array([0.5       , 0.73105858, 0.88079708, 0.95257413, 0.98201379,\n",
       "       0.99330715, 0.99752738, 0.99908895, 0.99966465, 0.99987661,\n",
       "       0.9999546 , 0.9999833 , 0.99999386, 0.99999774, 0.99999917,\n",
       "       0.99999969, 0.99999989, 0.99999996, 0.99999998, 0.99999999,\n",
       "       1.        , 1.        , 1.        , 1.        , 1.        ,\n",
       "       1.        , 1.        , 1.        , 1.        , 1.        ,\n",
       "       1.        , 1.        , 1.        , 1.        , 1.        ,\n",
       "       1.        , 1.        , 1.        , 1.        , 1.        ,\n",
       "       1.        , 1.        , 1.        , 1.        , 1.        ,\n",
       "       1.        , 1.        , 1.        , 1.        , 1.        ,\n",
       "       1.        , 1.        , 1.        , 1.        , 1.        ,\n",
       "       1.        , 1.        , 1.        , 1.        , 1.        ,\n",
       "       1.        , 1.        , 1.        , 1.        , 1.        ,\n",
       "       1.        , 1.        , 1.        , 1.        , 1.        ,\n",
       "       1.        , 1.        , 1.        , 1.        , 1.        ,\n",
       "       1.        , 1.        , 1.        , 1.        , 1.        ,\n",
       "       1.        , 1.        , 1.        , 1.        , 1.        ,\n",
       "       1.        , 1.        , 1.        , 1.        , 1.        ,\n",
       "       1.        , 1.        , 1.        , 1.        , 1.        ,\n",
       "       1.        , 1.        , 1.        , 1.        , 1.        ])"
      ]
     },
     "execution_count": 289,
     "metadata": {},
     "output_type": "execute_result"
    }
   ],
   "source": [
    "k = np.arange(100)\n",
    "sigmoid(k)"
   ]
  },
  {
   "cell_type": "markdown",
   "id": "08d12119-93e0-4b80-bc0e-06ca9c6b76a2",
   "metadata": {},
   "source": [
    "#### mean squared error\n"
   ]
  },
  {
   "cell_type": "code",
   "execution_count": 292,
   "id": "67ef5a8b-ff8c-40d7-90c9-2cd3357a4c01",
   "metadata": {},
   "outputs": [],
   "source": [
    "actual = np.random.randint(1,50,25)\n",
    "predicted = np.random.randint(1,50,25)"
   ]
  },
  {
   "cell_type": "code",
   "execution_count": 294,
   "id": "d8c78084-9fb2-4067-b6c2-ceca5f9b1157",
   "metadata": {},
   "outputs": [
    {
     "data": {
      "text/plain": [
       "array([ 9, 39, 26,  9, 23, 15,  1, 16,  2,  4, 34, 43, 32, 26, 30, 36, 10,\n",
       "       35, 27, 35, 36, 20, 20, 35, 13])"
      ]
     },
     "execution_count": 294,
     "metadata": {},
     "output_type": "execute_result"
    }
   ],
   "source": [
    "actual"
   ]
  },
  {
   "cell_type": "code",
   "execution_count": 296,
   "id": "0b55f78f-6a1c-43c0-b8d5-4071d0074000",
   "metadata": {},
   "outputs": [
    {
     "data": {
      "text/plain": [
       "array([39, 21, 30, 16, 11, 43, 38,  2, 36, 18, 33, 47, 40, 29, 27, 27, 49,\n",
       "       28, 39,  1,  5, 12,  5, 25,  8])"
      ]
     },
     "execution_count": 296,
     "metadata": {},
     "output_type": "execute_result"
    }
   ],
   "source": [
    "predicted"
   ]
  },
  {
   "cell_type": "code",
   "execution_count": 298,
   "id": "471bd655-0353-48a0-b723-ecd72184aa0f",
   "metadata": {},
   "outputs": [
    {
     "data": {
      "text/plain": [
       "array([False, False, False, False, False, False, False, False, False,\n",
       "       False, False, False, False, False, False, False, False, False,\n",
       "       False, False, False, False, False, False, False])"
      ]
     },
     "execution_count": 298,
     "metadata": {},
     "output_type": "execute_result"
    }
   ],
   "source": [
    "actual == predicted"
   ]
  },
  {
   "cell_type": "code",
   "execution_count": 300,
   "id": "54eb2248-9bae-4fa7-94b5-97f163551c0a",
   "metadata": {},
   "outputs": [
    {
     "data": {
      "text/plain": [
       "False"
      ]
     },
     "execution_count": 300,
     "metadata": {},
     "output_type": "execute_result"
    }
   ],
   "source": [
    "actual is predicted"
   ]
  },
  {
   "cell_type": "code",
   "execution_count": 306,
   "id": "e8c17692-f20d-46a6-9b16-4923290f23ca",
   "metadata": {},
   "outputs": [
    {
     "name": "stdout",
     "output_type": "stream",
     "text": [
      "382.36\n"
     ]
    }
   ],
   "source": [
    "def mse(actual , predicted):\n",
    "    print(np.mean((actual - predicted)**2))\n",
    "\n",
    "mse(actual,predicted)"
   ]
  },
  {
   "cell_type": "code",
   "execution_count": 308,
   "id": "f6693d73-faa6-43be-87ca-06d77abb4eaa",
   "metadata": {},
   "outputs": [
    {
     "data": {
      "text/plain": [
       "array([-30,  18,  -4,  -7,  12, -28, -37,  14, -34, -14,   1,  -4,  -8,\n",
       "        -3,   3,   9, -39,   7, -12,  34,  31,   8,  15,  10,   5])"
      ]
     },
     "execution_count": 308,
     "metadata": {},
     "output_type": "execute_result"
    }
   ],
   "source": [
    "actual - predicted"
   ]
  },
  {
   "cell_type": "code",
   "execution_count": 310,
   "id": "1fc92649-ea74-4225-a6e9-78546de16279",
   "metadata": {},
   "outputs": [
    {
     "data": {
      "text/plain": [
       "array([ 900,  324,   16,   49,  144,  784, 1369,  196, 1156,  196,    1,\n",
       "         16,   64,    9,    9,   81, 1521,   49,  144, 1156,  961,   64,\n",
       "        225,  100,   25])"
      ]
     },
     "execution_count": 310,
     "metadata": {},
     "output_type": "execute_result"
    }
   ],
   "source": [
    "(actual - predicted)**2"
   ]
  },
  {
   "cell_type": "markdown",
   "id": "3e1c44a8-15db-4ec4-8da0-157027f4a0e7",
   "metadata": {},
   "source": [
    "#### Working with missing values \n"
   ]
  },
  {
   "cell_type": "code",
   "execution_count": 313,
   "id": "25acc728-13d6-45be-a070-9a1f9ca16d27",
   "metadata": {},
   "outputs": [
    {
     "name": "stdout",
     "output_type": "stream",
     "text": [
      "[ 1.  2.  3.  4. nan  6.]\n"
     ]
    }
   ],
   "source": [
    "s = np.array([1,2,3,4,np.nan,6])\n",
    "print(s)"
   ]
  },
  {
   "cell_type": "code",
   "execution_count": 323,
   "id": "262118e5-cb30-4f8b-b7fd-618cbe43b7f7",
   "metadata": {},
   "outputs": [
    {
     "data": {
      "text/plain": [
       "array([False, False, False, False,  True, False])"
      ]
     },
     "execution_count": 323,
     "metadata": {},
     "output_type": "execute_result"
    }
   ],
   "source": [
    "np.isnan(s)"
   ]
  },
  {
   "cell_type": "code",
   "execution_count": 325,
   "id": "127d9c3e-38e9-49f6-bee5-715ecd718255",
   "metadata": {},
   "outputs": [
    {
     "data": {
      "text/plain": [
       "array([nan])"
      ]
     },
     "execution_count": 325,
     "metadata": {},
     "output_type": "execute_result"
    }
   ],
   "source": [
    "s[np.isnan(s)]# nan values"
   ]
  },
  {
   "cell_type": "code",
   "execution_count": 327,
   "id": "744c2767-d39e-49d9-9335-b20e589c0b09",
   "metadata": {},
   "outputs": [
    {
     "data": {
      "text/plain": [
       "array([1., 2., 3., 4., 6.])"
      ]
     },
     "execution_count": 327,
     "metadata": {},
     "output_type": "execute_result"
    }
   ],
   "source": [
    "s[~np.isnan(s)] "
   ]
  },
  {
   "cell_type": "markdown",
   "id": "de3246f4-3990-40ae-bad9-dbfa21393e60",
   "metadata": {},
   "source": [
    "#### Plotting Graphs "
   ]
  },
  {
   "cell_type": "code",
   "execution_count": 330,
   "id": "2aca449f-466e-4bdc-bff5-3e910ae73949",
   "metadata": {},
   "outputs": [
    {
     "data": {
      "text/plain": [
       "array([-10.        ,  -9.7979798 ,  -9.5959596 ,  -9.39393939,\n",
       "        -9.19191919,  -8.98989899,  -8.78787879,  -8.58585859,\n",
       "        -8.38383838,  -8.18181818,  -7.97979798,  -7.77777778,\n",
       "        -7.57575758,  -7.37373737,  -7.17171717,  -6.96969697,\n",
       "        -6.76767677,  -6.56565657,  -6.36363636,  -6.16161616,\n",
       "        -5.95959596,  -5.75757576,  -5.55555556,  -5.35353535,\n",
       "        -5.15151515,  -4.94949495,  -4.74747475,  -4.54545455,\n",
       "        -4.34343434,  -4.14141414,  -3.93939394,  -3.73737374,\n",
       "        -3.53535354,  -3.33333333,  -3.13131313,  -2.92929293,\n",
       "        -2.72727273,  -2.52525253,  -2.32323232,  -2.12121212,\n",
       "        -1.91919192,  -1.71717172,  -1.51515152,  -1.31313131,\n",
       "        -1.11111111,  -0.90909091,  -0.70707071,  -0.50505051,\n",
       "        -0.3030303 ,  -0.1010101 ,   0.1010101 ,   0.3030303 ,\n",
       "         0.50505051,   0.70707071,   0.90909091,   1.11111111,\n",
       "         1.31313131,   1.51515152,   1.71717172,   1.91919192,\n",
       "         2.12121212,   2.32323232,   2.52525253,   2.72727273,\n",
       "         2.92929293,   3.13131313,   3.33333333,   3.53535354,\n",
       "         3.73737374,   3.93939394,   4.14141414,   4.34343434,\n",
       "         4.54545455,   4.74747475,   4.94949495,   5.15151515,\n",
       "         5.35353535,   5.55555556,   5.75757576,   5.95959596,\n",
       "         6.16161616,   6.36363636,   6.56565657,   6.76767677,\n",
       "         6.96969697,   7.17171717,   7.37373737,   7.57575758,\n",
       "         7.77777778,   7.97979798,   8.18181818,   8.38383838,\n",
       "         8.58585859,   8.78787879,   8.98989899,   9.19191919,\n",
       "         9.39393939,   9.5959596 ,   9.7979798 ,  10.        ])"
      ]
     },
     "execution_count": 330,
     "metadata": {},
     "output_type": "execute_result"
    }
   ],
   "source": [
    "# plotting a 2d plot\n",
    "#x = y\n",
    "\n",
    "x = np.linspace(-10,10,100)\n",
    "x"
   ]
  },
  {
   "cell_type": "code",
   "execution_count": 332,
   "id": "137f764a-9f03-4df9-8189-b149dfb5b68b",
   "metadata": {},
   "outputs": [],
   "source": [
    "y = x"
   ]
  },
  {
   "cell_type": "code",
   "execution_count": 334,
   "id": "261b5919-fb6b-4527-af16-c447750536ad",
   "metadata": {},
   "outputs": [
    {
     "data": {
      "text/plain": [
       "array([-10.        ,  -9.7979798 ,  -9.5959596 ,  -9.39393939,\n",
       "        -9.19191919,  -8.98989899,  -8.78787879,  -8.58585859,\n",
       "        -8.38383838,  -8.18181818,  -7.97979798,  -7.77777778,\n",
       "        -7.57575758,  -7.37373737,  -7.17171717,  -6.96969697,\n",
       "        -6.76767677,  -6.56565657,  -6.36363636,  -6.16161616,\n",
       "        -5.95959596,  -5.75757576,  -5.55555556,  -5.35353535,\n",
       "        -5.15151515,  -4.94949495,  -4.74747475,  -4.54545455,\n",
       "        -4.34343434,  -4.14141414,  -3.93939394,  -3.73737374,\n",
       "        -3.53535354,  -3.33333333,  -3.13131313,  -2.92929293,\n",
       "        -2.72727273,  -2.52525253,  -2.32323232,  -2.12121212,\n",
       "        -1.91919192,  -1.71717172,  -1.51515152,  -1.31313131,\n",
       "        -1.11111111,  -0.90909091,  -0.70707071,  -0.50505051,\n",
       "        -0.3030303 ,  -0.1010101 ,   0.1010101 ,   0.3030303 ,\n",
       "         0.50505051,   0.70707071,   0.90909091,   1.11111111,\n",
       "         1.31313131,   1.51515152,   1.71717172,   1.91919192,\n",
       "         2.12121212,   2.32323232,   2.52525253,   2.72727273,\n",
       "         2.92929293,   3.13131313,   3.33333333,   3.53535354,\n",
       "         3.73737374,   3.93939394,   4.14141414,   4.34343434,\n",
       "         4.54545455,   4.74747475,   4.94949495,   5.15151515,\n",
       "         5.35353535,   5.55555556,   5.75757576,   5.95959596,\n",
       "         6.16161616,   6.36363636,   6.56565657,   6.76767677,\n",
       "         6.96969697,   7.17171717,   7.37373737,   7.57575758,\n",
       "         7.77777778,   7.97979798,   8.18181818,   8.38383838,\n",
       "         8.58585859,   8.78787879,   8.98989899,   9.19191919,\n",
       "         9.39393939,   9.5959596 ,   9.7979798 ,  10.        ])"
      ]
     },
     "execution_count": 334,
     "metadata": {},
     "output_type": "execute_result"
    }
   ],
   "source": [
    "y"
   ]
  },
  {
   "cell_type": "code",
   "execution_count": 336,
   "id": "6909d9b4-9302-42d8-bc5d-872ad05cf703",
   "metadata": {},
   "outputs": [
    {
     "data": {
      "text/plain": [
       "[<matplotlib.lines.Line2D at 0x26e0279b8d0>]"
      ]
     },
     "execution_count": 336,
     "metadata": {},
     "output_type": "execute_result"
    },
    {
     "data": {
      "image/png": "[encoded data removed]",
      "text/plain": [
       "<Figure size 640x480 with 1 Axes>"
      ]
     },
     "metadata": {},
     "output_type": "display_data"
    }
   ],
   "source": [
    "from matplotlib import pyplot as plt\n",
    "\n",
    "plt.plot(x,y)"
   ]
  },
  {
   "cell_type": "code",
   "execution_count": 340,
   "id": "0a002c12-ab28-4db4-bc2e-c4bda6218651",
   "metadata": {},
   "outputs": [
    {
     "data": {
      "image/png": "[encoded data removed]",
      "text/plain": [
       "<Figure size 640x480 with 1 Axes>"
      ]
     },
     "metadata": {},
     "output_type": "display_data"
    }
   ],
   "source": [
    "y = x**2\n",
    "\n",
    "x = np.linspace(-10,10,100)\n",
    "\n",
    "plt.plot(x,y)\n",
    "plt.show()"
   ]
  },
  {
   "cell_type": "code",
   "execution_count": 342,
   "id": "7f8468f3-82e9-4f9a-9117-1aab0803f277",
   "metadata": {},
   "outputs": [
    {
     "data": {
      "image/png": "[encoded data removed]",
      "text/plain": [
       "<Figure size 640x480 with 1 Axes>"
      ]
     },
     "metadata": {},
     "output_type": "display_data"
    }
   ],
   "source": [
    "# y = sin(x)\n",
    "\n",
    "x = np.linspace(-10,10,100)\n",
    "y = np.sin(x)\n",
    "\n",
    "plt.plot(x,y)\n",
    "plt.show()"
   ]
  },
  {
   "cell_type": "code",
   "execution_count": 344,
   "id": "7ac90def-91d0-4d7b-a809-a1dda729f6b2",
   "metadata": {},
   "outputs": [
    {
     "name": "stderr",
     "output_type": "stream",
     "text": [
      "C:\\Users\\sumit.DELL\\AppData\\Local\\Temp\\ipykernel_15772\\944190992.py:3: RuntimeWarning: invalid value encountered in log\n",
      "  y = x * np.log(x)\n"
     ]
    },
    {
     "data": {
      "image/png": "[encoded data removed]",
      "text/plain": [
       "<Figure size 640x480 with 1 Axes>"
      ]
     },
     "metadata": {},
     "output_type": "display_data"
    }
   ],
   "source": [
    "x = np.linspace(-10,10,100)\n",
    "\n",
    "y = x * np.log(x)\n",
    "\n",
    "plt.plot(x,y)\n",
    "\n",
    "plt.show()"
   ]
  },
  {
   "cell_type": "code",
   "execution_count": 354,
   "id": "7b72816b-5404-4ab0-9b52-ae96c83f2681",
   "metadata": {},
   "outputs": [
    {
     "data": {
      "text/plain": [
       "[<matplotlib.lines.Line2D at 0x26e058cbf50>]"
      ]
     },
     "execution_count": 354,
     "metadata": {},
     "output_type": "execute_result"
    },
    {
     "data": {
      "image/png": "[encoded data removed]",
      "text/plain": [
       "<Figure size 640x480 with 1 Axes>"
      ]
     },
     "metadata": {},
     "output_type": "display_data"
    }
   ],
   "source": [
    "# sigmoid\n",
    "\n",
    "x = np.linspace(-10,10,100)\n",
    "y = 1/(1+np.exp(-x))\n",
    "plt.plot(x,y)"
   ]
  },
  {
   "cell_type": "code",
   "execution_count": 356,
   "id": "6ea5ab41-d202-4f77-b792-483da2597725",
   "metadata": {},
   "outputs": [],
   "source": [
    "import numpy as np"
   ]
  },
  {
   "cell_type": "code",
   "execution_count": 358,
   "id": "a00df791-dfdd-4a0e-ab6a-55bb7a9a84d0",
   "metadata": {},
   "outputs": [],
   "source": [
    "import matplotlib.pyplot as plt"
   ]
  },
  {
   "cell_type": "markdown",
   "id": "3e48de52-3efe-4ea7-bbaa-07ad94ffe871",
   "metadata": {},
   "source": [
    "####  Meshgrid \n",
    "\n",
    "Meshgrid are a way to **create coordinate matrices from coordinate vectors**. In numpy\n",
    "\n",
    " * the meshgrid function is used to generate a coordinate grid given 1d coordinate arrays .it produces two 2d arrays representing the x and y coordinates of each point on the grid\n",
    "\n",
    "\n",
    "\n",
    "the np.meshgrid function is used primarily for \n",
    "\n",
    "* Creatig /plotting 2d functions f(x,y)\n",
    "* Generating combinations of 2 or more numbers\n",
    "\n",
    "Example: How tou might think to create a 2d function f(x,y)"
   ]
  },
  {
   "cell_type": "code",
   "execution_count": 366,
   "id": "6f4def28-323a-493b-a8e3-b48c190cbbf4",
   "metadata": {},
   "outputs": [],
   "source": [
    "x = np.linspace (0,10,100)\n",
    "y = np.linspace(0,10,100)"
   ]
  },
  {
   "cell_type": "markdown",
   "id": "bc9ee38b-af32-4adc-9a72-43c4b1d3fa96",
   "metadata": {},
   "source": [
    "Try to crate a 2d function"
   ]
  },
  {
   "cell_type": "code",
   "execution_count": 369,
   "id": "7e7d51cb-9d21-4305-873b-e94c74d3490a",
   "metadata": {},
   "outputs": [],
   "source": [
    "f = x**2 + y**2"
   ]
  },
  {
   "cell_type": "code",
   "execution_count": 371,
   "id": "122370ec-fcdc-489c-809d-7d7c89adcc29",
   "metadata": {},
   "outputs": [
    {
     "data": {
      "image/png": "[encoded data removed]",
      "text/plain": [
       "<Figure size 800x400 with 1 Axes>"
      ]
     },
     "metadata": {},
     "output_type": "display_data"
    }
   ],
   "source": [
    "plt.figure(figsize = (8,4))\n",
    "plt.plot(f)\n",
    "plt.show()"
   ]
  },
  {
   "cell_type": "markdown",
   "id": "3ca5db66-8b42-4ea2-a254-0e76fbbfedbd",
   "metadata": {},
   "source": [
    "but f is a 1 dimansional function ! how does one generate a surface plot?"
   ]
  },
  {
   "cell_type": "code",
   "execution_count": 374,
   "id": "5cc1080f-a1a7-4526-a20d-53282e10e35b",
   "metadata": {},
   "outputs": [],
   "source": [
    "x = np.arange (3)"
   ]
  },
  {
   "cell_type": "code",
   "execution_count": 376,
   "id": "a978d1aa-1c8d-4c36-94c2-d757ff4d3aaf",
   "metadata": {},
   "outputs": [
    {
     "name": "stdout",
     "output_type": "stream",
     "text": [
      "[0 1 2]\n",
      "[0 1 2]\n"
     ]
    }
   ],
   "source": [
    "y = np.arange(3)\n",
    "\n",
    "print(x)\n",
    "print(y)"
   ]
  },
  {
   "cell_type": "markdown",
   "id": "74fbbeaa-b9a5-4940-9989-e8e5f1d60b9f",
   "metadata": {},
   "source": [
    "#####  Generating a meshgrid:"
   ]
  },
  {
   "cell_type": "code",
   "execution_count": 379,
   "id": "4bd85ba9-3840-4d56-99fd-e13b1cc1cbb2",
   "metadata": {},
   "outputs": [],
   "source": [
    "xv , yv = np.meshgrid(x,y)\n"
   ]
  },
  {
   "cell_type": "code",
   "execution_count": 381,
   "id": "7b6321b0-4e09-4909-b169-dc00b98bfe00",
   "metadata": {},
   "outputs": [
    {
     "data": {
      "text/plain": [
       "array([[0, 1, 2],\n",
       "       [0, 1, 2],\n",
       "       [0, 1, 2]])"
      ]
     },
     "execution_count": 381,
     "metadata": {},
     "output_type": "execute_result"
    }
   ],
   "source": [
    "xv"
   ]
  },
  {
   "cell_type": "code",
   "execution_count": 383,
   "id": "42914874-94a8-4879-831b-e612f2526e0d",
   "metadata": {},
   "outputs": [
    {
     "data": {
      "text/plain": [
       "array([[0, 0, 0],\n",
       "       [1, 1, 1],\n",
       "       [2, 2, 2]])"
      ]
     },
     "execution_count": 383,
     "metadata": {},
     "output_type": "execute_result"
    }
   ],
   "source": [
    "yv"
   ]
  },
  {
   "cell_type": "code",
   "execution_count": 385,
   "id": "2cc18efc-6393-4582-ac90-9f22b30b41d2",
   "metadata": {},
   "outputs": [
    {
     "name": "stdout",
     "output_type": "stream",
     "text": [
      "[-4. -3. -2. -1.  0.  1.  2.  3.  4.]\n",
      "[-5. -4. -3. -2. -1.  0.  1.  2.  3.  4.  5.]\n"
     ]
    }
   ],
   "source": [
    "P = np.linspace(-4,4,9)\n",
    "V = np.linspace(-5,5,11)\n",
    "\n",
    "print(P)\n",
    "print(V)"
   ]
  },
  {
   "cell_type": "code",
   "execution_count": 387,
   "id": "04e24675-d463-429b-bf7a-5f1bfb86a598",
   "metadata": {},
   "outputs": [],
   "source": [
    "P_1 , V_1 = np.meshgrid(P,V)"
   ]
  },
  {
   "cell_type": "code",
   "execution_count": 389,
   "id": "f5d040e1-b0d6-4752-963f-bbf01b9ffb91",
   "metadata": {},
   "outputs": [
    {
     "name": "stdout",
     "output_type": "stream",
     "text": [
      "[[-4. -3. -2. -1.  0.  1.  2.  3.  4.]\n",
      " [-4. -3. -2. -1.  0.  1.  2.  3.  4.]\n",
      " [-4. -3. -2. -1.  0.  1.  2.  3.  4.]\n",
      " [-4. -3. -2. -1.  0.  1.  2.  3.  4.]\n",
      " [-4. -3. -2. -1.  0.  1.  2.  3.  4.]\n",
      " [-4. -3. -2. -1.  0.  1.  2.  3.  4.]\n",
      " [-4. -3. -2. -1.  0.  1.  2.  3.  4.]\n",
      " [-4. -3. -2. -1.  0.  1.  2.  3.  4.]\n",
      " [-4. -3. -2. -1.  0.  1.  2.  3.  4.]\n",
      " [-4. -3. -2. -1.  0.  1.  2.  3.  4.]\n",
      " [-4. -3. -2. -1.  0.  1.  2.  3.  4.]]\n"
     ]
    }
   ],
   "source": [
    "print(P_1)"
   ]
  },
  {
   "cell_type": "code",
   "execution_count": 391,
   "id": "590fc40d-afc2-4665-b405-c4e7b0305fa4",
   "metadata": {},
   "outputs": [
    {
     "name": "stdout",
     "output_type": "stream",
     "text": [
      "[[-5. -5. -5. -5. -5. -5. -5. -5. -5.]\n",
      " [-4. -4. -4. -4. -4. -4. -4. -4. -4.]\n",
      " [-3. -3. -3. -3. -3. -3. -3. -3. -3.]\n",
      " [-2. -2. -2. -2. -2. -2. -2. -2. -2.]\n",
      " [-1. -1. -1. -1. -1. -1. -1. -1. -1.]\n",
      " [ 0.  0.  0.  0.  0.  0.  0.  0.  0.]\n",
      " [ 1.  1.  1.  1.  1.  1.  1.  1.  1.]\n",
      " [ 2.  2.  2.  2.  2.  2.  2.  2.  2.]\n",
      " [ 3.  3.  3.  3.  3.  3.  3.  3.  3.]\n",
      " [ 4.  4.  4.  4.  4.  4.  4.  4.  4.]\n",
      " [ 5.  5.  5.  5.  5.  5.  5.  5.  5.]]\n"
     ]
    }
   ],
   "source": [
    "print(V_1)"
   ]
  },
  {
   "cell_type": "markdown",
   "id": "8eaf854b-818a-4f8e-b290-ec626c713133",
   "metadata": {},
   "source": [
    "#### Numpy Meshgrid Creates Coordinates for a Grid system\n",
    "\n",
    "\n",
    "\n",
    "these array , xv and yv each separately give the x and y coordinates on a 2d grid .you can do normal numpy operatios on these arrays :\n",
    "\n"
   ]
  },
  {
   "cell_type": "code",
   "execution_count": 394,
   "id": "16a2aa1f-73e3-4bb6-a30b-c873ba23b4d5",
   "metadata": {},
   "outputs": [
    {
     "data": {
      "text/plain": [
       "array([[0, 1, 4],\n",
       "       [1, 2, 5],\n",
       "       [4, 5, 8]])"
      ]
     },
     "execution_count": 394,
     "metadata": {},
     "output_type": "execute_result"
    }
   ],
   "source": [
    "xv**2 +yv **2"
   ]
  },
  {
   "cell_type": "markdown",
   "id": "3b7b752d-f77e-4ddc-815f-c172026425b3",
   "metadata": {},
   "source": [
    "this can be done on alarger scale to plot surface plots of 2d functions \n",
    "\n",
    "Generate functions f(x, y) = e−(x²+y²) for −2 ≤ x ≤ 2 and −1 ≤ y ≤1\n"
   ]
  },
  {
   "cell_type": "code",
   "execution_count": 397,
   "id": "f1cc0a67-8a9a-4646-8d24-07828538965e",
   "metadata": {},
   "outputs": [],
   "source": [
    "x = np.linspace(-2,2,100)\n",
    "y = np.linspace(-1,1,100)\n",
    "xv,yv = np.meshgrid(x,y)\n",
    "\n",
    "f = np.exp(-xv**2-yv**2)"
   ]
  },
  {
   "cell_type": "markdown",
   "id": "e72aeb28-383a-4e2a-bf4a-03df833eac35",
   "metadata": {},
   "source": [
    "Note: pcolormesh is typically the preferable function 2d plotting , as opposed to imshow or pcolor, which take longer)"
   ]
  },
  {
   "cell_type": "code",
   "execution_count": 406,
   "id": "95c7931c-dcf5-45a5-ac6a-390cce5ec980",
   "metadata": {},
   "outputs": [
    {
     "data": {
      "image/png": "[encoded data removed]",
      "text/plain": [
       "<Figure size 1000x800 with 2 Axes>"
      ]
     },
     "metadata": {},
     "output_type": "display_data"
    }
   ],
   "source": [
    "plt.figure(figsize=(10,8))\n",
    "\n",
    "plt.pcolormesh(xv,yv,f,shading = \"nearest\")\n",
    "\n",
    "plt.colorbar()\n",
    "\n",
    "plt.grid()\n",
    "plt.show()"
   ]
  },
  {
   "cell_type": "code",
   "execution_count": 408,
   "id": "d07de469-6a76-4dfe-aa5e-822554ea7631",
   "metadata": {},
   "outputs": [
    {
     "data": {
      "image/png": "[encoded data removed]",
      "text/plain": [
       "<Figure size 640x480 with 2 Axes>"
      ]
     },
     "metadata": {},
     "output_type": "display_data"
    }
   ],
   "source": [
    "import numpy as np\n",
    "\n",
    "import matplotlib.pyplot as plt\n",
    "\n",
    "def f (x,y):\n",
    "    return np.where((x**2 +y**2 < 1 ) , 1.0 ,0.0)\n",
    "\n",
    "x = np.linspace(-5,5,500)\n",
    "y = np.linspace(-5,5,500)\n",
    "\n",
    "xv,yv = np.meshgrid(x,y)\n",
    "\n",
    "rectangular_mask = f(xv,yv)\n",
    "\n",
    "plt.pcolormesh(xv,yv,rectangular_mask , shading = \"auto\")\n",
    "\n",
    "plt.colorbar()\n",
    "plt.grid()\n",
    "plt.show()"
   ]
  },
  {
   "cell_type": "code",
   "execution_count": 410,
   "id": "975e4422-0370-4cd6-bbc8-b133d22d050c",
   "metadata": {},
   "outputs": [],
   "source": [
    "# numpy .linspace creates an array of 9 linearly placed elements between -4 and 4,both inclusive\n",
    "\n",
    "x = np.linspace(-4,4,9)"
   ]
  },
  {
   "cell_type": "code",
   "execution_count": 412,
   "id": "0a3cd3b9-c454-4a04-9dae-956424b407aa",
   "metadata": {},
   "outputs": [],
   "source": [
    "y = np.linspace(-5,5,11)\n"
   ]
  },
  {
   "cell_type": "code",
   "execution_count": 414,
   "id": "137afbab-a55f-4c1e-9db9-7f0715311b9d",
   "metadata": {},
   "outputs": [],
   "source": [
    "x_1 ,y_1 = np.meshgrid(x,y)\n"
   ]
  },
  {
   "cell_type": "code",
   "execution_count": 418,
   "id": "e0b14f19-5c3b-472b-b1ec-3880ac0e3395",
   "metadata": {},
   "outputs": [
    {
     "data": {
      "image/png": "[encoded data removed]",
      "text/plain": [
       "<Figure size 640x480 with 2 Axes>"
      ]
     },
     "metadata": {},
     "output_type": "display_data"
    }
   ],
   "source": [
    "random_data = np.random.random((11,9))\n",
    "plt.contourf(x_1 , y_1,random_data ,cmap = \"jet\")\n",
    "\n",
    "plt.colorbar()\n",
    "\n",
    "plt.show()"
   ]
  },
  {
   "cell_type": "code",
   "execution_count": 420,
   "id": "6f135ba9-21bb-4e9d-b5c4-c50d8ae15894",
   "metadata": {},
   "outputs": [
    {
     "name": "stderr",
     "output_type": "stream",
     "text": [
      "C:\\Users\\sumit.DELL\\AppData\\Local\\Temp\\ipykernel_15772\\2718632641.py:1: RuntimeWarning: invalid value encountered in divide\n",
      "  sine  = (np.sin(x_1**2 + y_1**2))/ (x_1**2 + y_1**2)\n"
     ]
    },
    {
     "data": {
      "image/png": "[encoded data removed]",
      "text/plain": [
       "<Figure size 640x480 with 2 Axes>"
      ]
     },
     "metadata": {},
     "output_type": "display_data"
    }
   ],
   "source": [
    "sine  = (np.sin(x_1**2 + y_1**2))/ (x_1**2 + y_1**2)\n",
    "\n",
    "plt.contourf(x_1,y_1,sine ,cmap = \"jet\")\n",
    "\n",
    "plt.colororbar()\n",
    "\n",
    "plt.show()"
   ]
  },
  {
   "cell_type": "markdown",
   "id": "a6966bf6-5f12-4a56-8604-fd533e955828",
   "metadata": {},
   "source": [
    "We observe that x_1 is a row repeated matrix whereas y_1 is a column repeated matrix .one row of x_1 and one column of y_1 is enough to determine the positions of all the points as the other values will get repeated over and over."
   ]
  },
  {
   "cell_type": "code",
   "execution_count": 423,
   "id": "9e24760c-8312-40d9-aaf1-0f5232c5861d",
   "metadata": {},
   "outputs": [],
   "source": [
    "x_1 ,y_1 = np.meshgrid(x,y,sparse = True)"
   ]
  },
  {
   "cell_type": "code",
   "execution_count": 425,
   "id": "47e167a1-a633-48db-b0ef-5d901b1a09f8",
   "metadata": {},
   "outputs": [
    {
     "data": {
      "text/plain": [
       "array([[-4., -3., -2., -1.,  0.,  1.,  2.,  3.,  4.]])"
      ]
     },
     "execution_count": 425,
     "metadata": {},
     "output_type": "execute_result"
    }
   ],
   "source": [
    "x_1 "
   ]
  },
  {
   "cell_type": "code",
   "execution_count": 427,
   "id": "12c58054-146e-440d-9769-085f09d3f5f5",
   "metadata": {},
   "outputs": [
    {
     "data": {
      "text/plain": [
       "array([[-5.],\n",
       "       [-4.],\n",
       "       [-3.],\n",
       "       [-2.],\n",
       "       [-1.],\n",
       "       [ 0.],\n",
       "       [ 1.],\n",
       "       [ 2.],\n",
       "       [ 3.],\n",
       "       [ 4.],\n",
       "       [ 5.]])"
      ]
     },
     "execution_count": 427,
     "metadata": {},
     "output_type": "execute_result"
    }
   ],
   "source": [
    "y_1"
   ]
  },
  {
   "cell_type": "markdown",
   "id": "1eb3beb6-6179-42d3-bd6b-b1073fc951c3",
   "metadata": {},
   "source": [
    "The shape of x_1 changed from (11,9) to (1,9) and that of y_1 changed from (11,9) to (11,1) the indexing of matrix is however different . Actually it is the exact opposite of cartessian indexing."
   ]
  },
  {
   "cell_type": "markdown",
   "id": "6b29598f-e84d-42e7-b195-19dadee38bed",
   "metadata": {},
   "source": [
    "####  np.sort\n",
    "\n",
    "return a sorted copy of an array."
   ]
  },
  {
   "cell_type": "code",
   "execution_count": 431,
   "id": "0f17587b-b7ee-4d17-b8fa-003fe1b94a84",
   "metadata": {},
   "outputs": [
    {
     "data": {
      "text/plain": [
       "array([24, 83, 99, 35, 16, 75, 26, 31, 28, 79, 42, 34, 85, 66, 50])"
      ]
     },
     "execution_count": 431,
     "metadata": {},
     "output_type": "execute_result"
    }
   ],
   "source": [
    "a = np.random.randint(1,100,15)\n",
    "a"
   ]
  },
  {
   "cell_type": "code",
   "execution_count": 433,
   "id": "5f12e8f7-9a33-4946-9cc8-6e486a88432b",
   "metadata": {},
   "outputs": [
    {
     "data": {
      "text/plain": [
       "array([[72, 38, 97,  3],\n",
       "       [ 3, 62, 81, 81],\n",
       "       [24, 27, 92, 31],\n",
       "       [ 2, 78, 97, 74],\n",
       "       [29, 99, 16, 31],\n",
       "       [82,  8, 79, 45]])"
      ]
     },
     "execution_count": 433,
     "metadata": {},
     "output_type": "execute_result"
    }
   ],
   "source": [
    "b = np.random.randint(1,100,24).reshape(6,4)\n",
    "b"
   ]
  },
  {
   "cell_type": "code",
   "execution_count": 435,
   "id": "be20d9b9-9c70-475c-9b48-bbba4b170d63",
   "metadata": {},
   "outputs": [
    {
     "data": {
      "text/plain": [
       "array([16, 24, 26, 28, 31, 34, 35, 42, 50, 66, 75, 79, 83, 85, 99])"
      ]
     },
     "execution_count": 435,
     "metadata": {},
     "output_type": "execute_result"
    }
   ],
   "source": [
    "np.sort(a) # default its ascending"
   ]
  },
  {
   "cell_type": "code",
   "execution_count": 453,
   "id": "4d504b5d-6e6e-4533-b939-9b561e2da6f4",
   "metadata": {},
   "outputs": [
    {
     "data": {
      "text/plain": [
       "array([99, 85, 83, 79, 75, 66, 50, 42, 35, 34, 31, 28, 26, 24, 16])"
      ]
     },
     "execution_count": 453,
     "metadata": {},
     "output_type": "execute_result"
    }
   ],
   "source": [
    "np.sort(a)[::-1]"
   ]
  },
  {
   "cell_type": "code",
   "execution_count": 455,
   "id": "2025564c-cd41-4df4-8280-40c07b5ef170",
   "metadata": {},
   "outputs": [
    {
     "data": {
      "text/plain": [
       "array([[ 3, 38, 72, 97],\n",
       "       [ 3, 62, 81, 81],\n",
       "       [24, 27, 31, 92],\n",
       "       [ 2, 74, 78, 97],\n",
       "       [16, 29, 31, 99],\n",
       "       [ 8, 45, 79, 82]])"
      ]
     },
     "execution_count": 455,
     "metadata": {},
     "output_type": "execute_result"
    }
   ],
   "source": [
    "np.sort(b) # row wise sorting "
   ]
  },
  {
   "cell_type": "code",
   "execution_count": 457,
   "id": "7054f99e-d4cd-419a-9f06-bc8b134ac3e6",
   "metadata": {},
   "outputs": [
    {
     "data": {
      "text/plain": [
       "array([[ 2,  8, 16,  3],\n",
       "       [ 3, 27, 79, 31],\n",
       "       [24, 38, 81, 31],\n",
       "       [29, 62, 92, 45],\n",
       "       [72, 78, 97, 74],\n",
       "       [82, 99, 97, 81]])"
      ]
     },
     "execution_count": 457,
     "metadata": {},
     "output_type": "execute_result"
    }
   ],
   "source": [
    "np.sort(b,axis = 0) "
   ]
  },
  {
   "cell_type": "markdown",
   "id": "fb91de6a-75fb-48c7-9e49-2eeeacef8829",
   "metadata": {},
   "source": [
    "####  np.append \n",
    "\n",
    "the numpy.append() appends values along the mentioned axis at the end of the array"
   ]
  },
  {
   "cell_type": "code",
   "execution_count": 460,
   "id": "75a20e63-d616-4f11-b73c-3dc0be38966a",
   "metadata": {},
   "outputs": [
    {
     "data": {
      "text/plain": [
       "array([24, 83, 99, 35, 16, 75, 26, 31, 28, 79, 42, 34, 85, 66, 50])"
      ]
     },
     "execution_count": 460,
     "metadata": {},
     "output_type": "execute_result"
    }
   ],
   "source": [
    "a\n"
   ]
  },
  {
   "cell_type": "code",
   "execution_count": 462,
   "id": "48269d3d-9555-4b6d-9e1d-acece951087b",
   "metadata": {},
   "outputs": [
    {
     "data": {
      "text/plain": [
       "array([ 24,  83,  99,  35,  16,  75,  26,  31,  28,  79,  42,  34,  85,\n",
       "        66,  50, 200])"
      ]
     },
     "execution_count": 462,
     "metadata": {},
     "output_type": "execute_result"
    }
   ],
   "source": [
    "np.append(a,200)"
   ]
  },
  {
   "cell_type": "code",
   "execution_count": 464,
   "id": "8e4bc76c-4d7f-4941-a36a-75c427013542",
   "metadata": {},
   "outputs": [
    {
     "data": {
      "text/plain": [
       "array([[72, 38, 97,  3],\n",
       "       [ 3, 62, 81, 81],\n",
       "       [24, 27, 92, 31],\n",
       "       [ 2, 78, 97, 74],\n",
       "       [29, 99, 16, 31],\n",
       "       [82,  8, 79, 45]])"
      ]
     },
     "execution_count": 464,
     "metadata": {},
     "output_type": "execute_result"
    }
   ],
   "source": [
    "b "
   ]
  },
  {
   "cell_type": "code",
   "execution_count": 466,
   "id": "0fa4ecaa-b4da-4c7c-919d-85075f59e266",
   "metadata": {},
   "outputs": [
    {
     "data": {
      "text/plain": [
       "array([72., 38., 97.,  3.,  3., 62., 81., 81., 24., 27., 92., 31.,  2.,\n",
       "       78., 97., 74., 29., 99., 16., 31., 82.,  8., 79., 45.,  1.,  1.,\n",
       "        1.,  1.,  1.,  1.])"
      ]
     },
     "execution_count": 466,
     "metadata": {},
     "output_type": "execute_result"
    }
   ],
   "source": [
    "np.append(b,np.ones((b.shape[0],1)))"
   ]
  },
  {
   "cell_type": "code",
   "execution_count": 468,
   "id": "296513d0-84f2-49d1-81a7-7ee1e3bff0ca",
   "metadata": {},
   "outputs": [
    {
     "data": {
      "text/plain": [
       "array([[72., 38., 97.,  3.,  1.],\n",
       "       [ 3., 62., 81., 81.,  1.],\n",
       "       [24., 27., 92., 31.,  1.],\n",
       "       [ 2., 78., 97., 74.,  1.],\n",
       "       [29., 99., 16., 31.,  1.],\n",
       "       [82.,  8., 79., 45.,  1.]])"
      ]
     },
     "execution_count": 468,
     "metadata": {},
     "output_type": "execute_result"
    }
   ],
   "source": [
    "np.append(b,np.ones((b.shape[0],1)),axis = 1)"
   ]
  },
  {
   "cell_type": "code",
   "execution_count": 472,
   "id": "a9d391bc-c5e1-473c-9b33-488bd5177344",
   "metadata": {},
   "outputs": [
    {
     "data": {
      "text/plain": [
       "array([[72.        , 38.        , 97.        ,  3.        ,  0.48045465],\n",
       "       [ 3.        , 62.        , 81.        , 81.        ,  0.52846137],\n",
       "       [24.        , 27.        , 92.        , 31.        ,  0.79535047],\n",
       "       [ 2.        , 78.        , 97.        , 74.        ,  0.34142961],\n",
       "       [29.        , 99.        , 16.        , 31.        ,  0.58971223],\n",
       "       [82.        ,  8.        , 79.        , 45.        ,  0.48857017]])"
      ]
     },
     "execution_count": 472,
     "metadata": {},
     "output_type": "execute_result"
    }
   ],
   "source": [
    "# adding random numbers in new columns\n",
    "\n",
    "np.append(b,np.random.random((b.shape[0],1)),axis = 1)"
   ]
  },
  {
   "cell_type": "markdown",
   "id": "d15208e1-672b-4f0a-aa1f-eebf36509bc5",
   "metadata": {},
   "source": [
    "####  np.concatenate\n",
    "\n",
    "numpy.concatenate() function concatenate a sequence of arrays along an existing axis."
   ]
  },
  {
   "cell_type": "code",
   "execution_count": 475,
   "id": "baf79333-96dd-47cc-bd23-f21b7975dba3",
   "metadata": {},
   "outputs": [],
   "source": [
    "# code\n",
    "\n",
    "c = np.arange(6).reshape(2,3)\n",
    "d = np.arange(6,12).reshape(2,3)"
   ]
  },
  {
   "cell_type": "code",
   "execution_count": 477,
   "id": "a13187cc-c7bc-456a-a40d-cd07657cd60f",
   "metadata": {},
   "outputs": [
    {
     "data": {
      "text/plain": [
       "array([[0, 1, 2],\n",
       "       [3, 4, 5]])"
      ]
     },
     "execution_count": 477,
     "metadata": {},
     "output_type": "execute_result"
    }
   ],
   "source": [
    "c"
   ]
  },
  {
   "cell_type": "code",
   "execution_count": 479,
   "id": "9cf5f81c-7a05-4261-b342-974d0d4a29c6",
   "metadata": {},
   "outputs": [
    {
     "data": {
      "text/plain": [
       "array([[ 6,  7,  8],\n",
       "       [ 9, 10, 11]])"
      ]
     },
     "execution_count": 479,
     "metadata": {},
     "output_type": "execute_result"
    }
   ],
   "source": [
    "d"
   ]
  },
  {
   "cell_type": "markdown",
   "id": "e8d58d58-eb22-4228-8e16-ac38d889566a",
   "metadata": {},
   "source": [
    "we can use it replacement of vstack and hstaxk"
   ]
  },
  {
   "cell_type": "code",
   "execution_count": 482,
   "id": "82262d0c-2d2f-4527-97fc-322f53a2bc76",
   "metadata": {},
   "outputs": [
    {
     "data": {
      "text/plain": [
       "array([[ 0,  1,  2],\n",
       "       [ 3,  4,  5],\n",
       "       [ 6,  7,  8],\n",
       "       [ 9, 10, 11]])"
      ]
     },
     "execution_count": 482,
     "metadata": {},
     "output_type": "execute_result"
    }
   ],
   "source": [
    "np.concatenate((c,d))"
   ]
  },
  {
   "cell_type": "code",
   "execution_count": 488,
   "id": "9667b2eb-18a9-41b4-bd9e-0d83c94e41b8",
   "metadata": {},
   "outputs": [
    {
     "data": {
      "text/plain": [
       "array([[ 0,  1,  2,  6,  7,  8],\n",
       "       [ 3,  4,  5,  9, 10, 11]])"
      ]
     },
     "execution_count": 488,
     "metadata": {},
     "output_type": "execute_result"
    }
   ],
   "source": [
    "np.concatenate((c,d ), axis = 1)"
   ]
  },
  {
   "cell_type": "code",
   "execution_count": 490,
   "id": "51a55cda-d9f3-4c32-afc0-3307f08dca4d",
   "metadata": {},
   "outputs": [
    {
     "data": {
      "text/plain": [
       "array([[ 0,  1,  2,  6,  7,  8],\n",
       "       [ 3,  4,  5,  9, 10, 11]])"
      ]
     },
     "execution_count": 490,
     "metadata": {},
     "output_type": "execute_result"
    }
   ],
   "source": [
    "np.concatenate((c,d),axis =1) "
   ]
  },
  {
   "cell_type": "markdown",
   "id": "271d525a-eb5d-4284-9a40-c8da78bf8608",
   "metadata": {},
   "source": [
    "#### np.unique\n",
    "\n",
    "with the help of np.unique () method , we can get the unique values froma n array given as parameter in np.unique() method."
   ]
  },
  {
   "cell_type": "code",
   "execution_count": 494,
   "id": "d6ea1d04-e2ba-4b07-a3d8-1e51bd5b2d4a",
   "metadata": {},
   "outputs": [
    {
     "data": {
      "text/plain": [
       "array([1, 1, 2, 2, 3, 3, 4, 4, 5, 5, 6, 6])"
      ]
     },
     "execution_count": 494,
     "metadata": {},
     "output_type": "execute_result"
    }
   ],
   "source": [
    "e = np.array([1,1,2,2,3,3,4,4,5,5,6,6,])\n",
    "e"
   ]
  },
  {
   "cell_type": "code",
   "execution_count": 496,
   "id": "cd7e3e86-080f-47b3-a108-1f8574d29165",
   "metadata": {},
   "outputs": [
    {
     "data": {
      "text/plain": [
       "array([1, 2, 3, 4, 5, 6])"
      ]
     },
     "execution_count": 496,
     "metadata": {},
     "output_type": "execute_result"
    }
   ],
   "source": [
    "np.unique(e)"
   ]
  },
  {
   "cell_type": "markdown",
   "id": "1cdc9bee-7d6a-4501-86e4-62d652992ee9",
   "metadata": {},
   "source": [
    "#### np.expand_dims"
   ]
  },
  {
   "cell_type": "code",
   "execution_count": 499,
   "id": "fe31fbaf-a094-4951-989c-c4fe488c2aa6",
   "metadata": {},
   "outputs": [
    {
     "data": {
      "text/plain": [
       "array([24, 83, 99, 35, 16, 75, 26, 31, 28, 79, 42, 34, 85, 66, 50])"
      ]
     },
     "execution_count": 499,
     "metadata": {},
     "output_type": "execute_result"
    }
   ],
   "source": [
    "a"
   ]
  },
  {
   "cell_type": "code",
   "execution_count": 501,
   "id": "3e13ee02-ba0d-49cf-ae1c-41afacf43add",
   "metadata": {},
   "outputs": [
    {
     "data": {
      "text/plain": [
       "(15,)"
      ]
     },
     "execution_count": 501,
     "metadata": {},
     "output_type": "execute_result"
    }
   ],
   "source": [
    "a.shape"
   ]
  },
  {
   "cell_type": "code",
   "execution_count": 505,
   "id": "10bdb987-f88e-40bd-813c-c8a1605b285c",
   "metadata": {},
   "outputs": [
    {
     "data": {
      "text/plain": [
       "(1, 15)"
      ]
     },
     "execution_count": 505,
     "metadata": {},
     "output_type": "execute_result"
    }
   ],
   "source": [
    "np.expand_dims(a,axis = 0).shape"
   ]
  },
  {
   "cell_type": "code",
   "execution_count": 507,
   "id": "4e1cc947-5d6a-42e8-81f5-bfda77a12b3c",
   "metadata": {},
   "outputs": [
    {
     "data": {
      "text/plain": [
       "array([[24],\n",
       "       [83],\n",
       "       [99],\n",
       "       [35],\n",
       "       [16],\n",
       "       [75],\n",
       "       [26],\n",
       "       [31],\n",
       "       [28],\n",
       "       [79],\n",
       "       [42],\n",
       "       [34],\n",
       "       [85],\n",
       "       [66],\n",
       "       [50]])"
      ]
     },
     "execution_count": 507,
     "metadata": {},
     "output_type": "execute_result"
    }
   ],
   "source": [
    "np.expand_dims(a,axis = 1)"
   ]
  },
  {
   "cell_type": "markdown",
   "id": "6a14b8ac-28be-41a6-9e9e-13fdb2ffc7c5",
   "metadata": {},
   "source": [
    "we can use in row vector and column vector .\n",
    "\n",
    "expand_dims() is used to insert an addition dimension in input tensor "
   ]
  },
  {
   "cell_type": "code",
   "execution_count": 510,
   "id": "3e1d1fe6-7bd2-48a1-9544-592727c0e96f",
   "metadata": {},
   "outputs": [
    {
     "data": {
      "text/plain": [
       "(15, 1)"
      ]
     },
     "execution_count": 510,
     "metadata": {},
     "output_type": "execute_result"
    }
   ],
   "source": [
    "np.expand_dims(a,axis = 1 ) .shape"
   ]
  },
  {
   "cell_type": "markdown",
   "id": "add9d777-1e4d-47ed-b0bc-167fe2b4def2",
   "metadata": {},
   "source": [
    "#### np.where\n",
    "\n",
    "the numpy.where() function returns the indices of elements in an input array where the given condition is satisfied"
   ]
  },
  {
   "cell_type": "code",
   "execution_count": 513,
   "id": "02bd0d53-5b70-468f-bad9-4f99bb8eb7ed",
   "metadata": {},
   "outputs": [
    {
     "data": {
      "text/plain": [
       "array([24, 83, 99, 35, 16, 75, 26, 31, 28, 79, 42, 34, 85, 66, 50])"
      ]
     },
     "execution_count": 513,
     "metadata": {},
     "output_type": "execute_result"
    }
   ],
   "source": [
    "a"
   ]
  },
  {
   "cell_type": "code",
   "execution_count": 515,
   "id": "67ab8c37-b2b5-47d1-a0cb-6bba622e2def",
   "metadata": {},
   "outputs": [
    {
     "data": {
      "text/plain": [
       "(array([ 1,  2,  5,  9, 12, 13], dtype=int64),)"
      ]
     },
     "execution_count": 515,
     "metadata": {},
     "output_type": "execute_result"
    }
   ],
   "source": [
    "np.where(a>50)"
   ]
  },
  {
   "cell_type": "code",
   "execution_count": 521,
   "id": "8c5b66ce-76d8-42e6-b553-35114a951da4",
   "metadata": {},
   "outputs": [
    {
     "data": {
      "text/plain": [
       "array([24,  0,  0, 35, 16,  0, 26, 31, 28,  0, 42, 34,  0,  0, 50])"
      ]
     },
     "execution_count": 521,
     "metadata": {},
     "output_type": "execute_result"
    }
   ],
   "source": [
    "np.where(a>50,0,a)# replace all values > 50 with zero"
   ]
  },
  {
   "cell_type": "code",
   "execution_count": 523,
   "id": "80619e35-927f-4c61-8c8e-d89bf1838000",
   "metadata": {},
   "outputs": [
    {
     "data": {
      "text/plain": [
       "array([ 0, 83, 99, 35,  0, 75,  0, 31,  0, 79,  0,  0, 85,  0,  0])"
      ]
     },
     "execution_count": 523,
     "metadata": {},
     "output_type": "execute_result"
    }
   ],
   "source": [
    "# print and replace all even numbers to 0\n",
    "\n",
    "np.where(a%2 == 0,0,a)"
   ]
  },
  {
   "cell_type": "markdown",
   "id": "4d8d1572-7945-4097-bcb6-c22c04432b1a",
   "metadata": {},
   "source": [
    "#### np.argmax \n",
    "\n",
    "the numpy.argmax() function returns indices of the max element of the array in a particular axis\n",
    "\n",
    "arg = argument"
   ]
  },
  {
   "cell_type": "code",
   "execution_count": 526,
   "id": "71d3c242-42e5-4c6c-903c-df8588b5d9a2",
   "metadata": {},
   "outputs": [
    {
     "data": {
      "text/plain": [
       "array([24, 83, 99, 35, 16, 75, 26, 31, 28, 79, 42, 34, 85, 66, 50])"
      ]
     },
     "execution_count": 526,
     "metadata": {},
     "output_type": "execute_result"
    }
   ],
   "source": [
    "a"
   ]
  },
  {
   "cell_type": "code",
   "execution_count": 530,
   "id": "f588e9c7-5df5-48c3-b35a-937f2af36c19",
   "metadata": {},
   "outputs": [
    {
     "data": {
      "text/plain": [
       "2"
      ]
     },
     "execution_count": 530,
     "metadata": {},
     "output_type": "execute_result"
    }
   ],
   "source": [
    "np.argmax(a) # biggest number : index number"
   ]
  },
  {
   "cell_type": "code",
   "execution_count": 532,
   "id": "fb950680-8383-49ad-802b-0cd6bb287ba6",
   "metadata": {},
   "outputs": [
    {
     "data": {
      "text/plain": [
       "array([[72, 38, 97,  3],\n",
       "       [ 3, 62, 81, 81],\n",
       "       [24, 27, 92, 31],\n",
       "       [ 2, 78, 97, 74],\n",
       "       [29, 99, 16, 31],\n",
       "       [82,  8, 79, 45]])"
      ]
     },
     "execution_count": 532,
     "metadata": {},
     "output_type": "execute_result"
    }
   ],
   "source": [
    "b # on 2d\n"
   ]
  },
  {
   "cell_type": "code",
   "execution_count": 534,
   "id": "242389d9-b1d9-4af7-afd8-51734d94db19",
   "metadata": {},
   "outputs": [
    {
     "data": {
      "text/plain": [
       "array([2, 2, 2, 2, 1, 0], dtype=int64)"
      ]
     },
     "execution_count": 534,
     "metadata": {},
     "output_type": "execute_result"
    }
   ],
   "source": [
    "np.argmax(b,axis =1 ) # row wise biggest number : index "
   ]
  },
  {
   "cell_type": "code",
   "execution_count": 538,
   "id": "a7329e99-ab33-4ee0-b292-027af55fad93",
   "metadata": {},
   "outputs": [
    {
     "data": {
      "text/plain": [
       "array([5, 4, 0, 1], dtype=int64)"
      ]
     },
     "execution_count": 538,
     "metadata": {},
     "output_type": "execute_result"
    }
   ],
   "source": [
    "np.argmax(b,axis = 0) #\"column wise\""
   ]
  },
  {
   "cell_type": "code",
   "execution_count": 540,
   "id": "8ba25c0e-fb0d-4b5f-bee0-cd92bd12d544",
   "metadata": {},
   "outputs": [
    {
     "data": {
      "text/plain": [
       "array([24, 83, 99, 35, 16, 75, 26, 31, 28, 79, 42, 34, 85, 66, 50])"
      ]
     },
     "execution_count": 540,
     "metadata": {},
     "output_type": "execute_result"
    }
   ],
   "source": [
    "a"
   ]
  },
  {
   "cell_type": "code",
   "execution_count": 542,
   "id": "134a59d6-4616-492a-aae7-f66658d2576d",
   "metadata": {},
   "outputs": [
    {
     "data": {
      "text/plain": [
       "4"
      ]
     },
     "execution_count": 542,
     "metadata": {},
     "output_type": "execute_result"
    }
   ],
   "source": [
    "np.argmin(a)"
   ]
  },
  {
   "cell_type": "markdown",
   "id": "798a55db-2742-424c-ba58-03503293abf8",
   "metadata": {},
   "source": [
    "#### On Statistics :\n",
    "\n",
    "##### np.cumsum\n",
    "\n",
    "numpy.cumsum() function is used when we want to compute the cumulative sum of array elements over a given axis."
   ]
  },
  {
   "cell_type": "code",
   "execution_count": 545,
   "id": "91619633-acf5-4cdd-96aa-7067148cce07",
   "metadata": {},
   "outputs": [
    {
     "data": {
      "text/plain": [
       "array([24, 83, 99, 35, 16, 75, 26, 31, 28, 79, 42, 34, 85, 66, 50])"
      ]
     },
     "execution_count": 545,
     "metadata": {},
     "output_type": "execute_result"
    }
   ],
   "source": [
    "a "
   ]
  },
  {
   "cell_type": "code",
   "execution_count": 547,
   "id": "ad1fa9f2-9a8f-41fb-bba3-279bdb97f211",
   "metadata": {},
   "outputs": [
    {
     "data": {
      "text/plain": [
       "array([ 24, 107, 206, 241, 257, 332, 358, 389, 417, 496, 538, 572, 657,\n",
       "       723, 773])"
      ]
     },
     "execution_count": 547,
     "metadata": {},
     "output_type": "execute_result"
    }
   ],
   "source": [
    " np.cumsum(a)"
   ]
  },
  {
   "cell_type": "code",
   "execution_count": 549,
   "id": "b28b247a-06eb-4f7c-87ca-24aea04e486a",
   "metadata": {},
   "outputs": [
    {
     "data": {
      "text/plain": [
       "array([[72, 38, 97,  3],\n",
       "       [ 3, 62, 81, 81],\n",
       "       [24, 27, 92, 31],\n",
       "       [ 2, 78, 97, 74],\n",
       "       [29, 99, 16, 31],\n",
       "       [82,  8, 79, 45]])"
      ]
     },
     "execution_count": 549,
     "metadata": {},
     "output_type": "execute_result"
    }
   ],
   "source": [
    "b"
   ]
  },
  {
   "cell_type": "code",
   "execution_count": 551,
   "id": "38912a46-c388-4bf8-b069-e3f3db103e31",
   "metadata": {},
   "outputs": [
    {
     "data": {
      "text/plain": [
       "array([[ 72, 110, 207, 210],\n",
       "       [  3,  65, 146, 227],\n",
       "       [ 24,  51, 143, 174],\n",
       "       [  2,  80, 177, 251],\n",
       "       [ 29, 128, 144, 175],\n",
       "       [ 82,  90, 169, 214]])"
      ]
     },
     "execution_count": 551,
     "metadata": {},
     "output_type": "execute_result"
    }
   ],
   "source": [
    "np.cumsum(b,axis = 1) # row wise calculation or cumulative sum"
   ]
  },
  {
   "cell_type": "code",
   "execution_count": 553,
   "id": "ffd98672-7296-453d-bcb4-2f6f63c06fba",
   "metadata": {},
   "outputs": [
    {
     "data": {
      "text/plain": [
       "array([[ 72,  38,  97,   3],\n",
       "       [ 75, 100, 178,  84],\n",
       "       [ 99, 127, 270, 115],\n",
       "       [101, 205, 367, 189],\n",
       "       [130, 304, 383, 220],\n",
       "       [212, 312, 462, 265]])"
      ]
     },
     "execution_count": 553,
     "metadata": {},
     "output_type": "execute_result"
    }
   ],
   "source": [
    "np.cumsum(b,axis = 0) # column wise calculation or cumulative sum"
   ]
  },
  {
   "cell_type": "code",
   "execution_count": 555,
   "id": "5424146f-51a4-4ba0-9cf9-116835c73fff",
   "metadata": {},
   "outputs": [
    {
     "data": {
      "text/plain": [
       "array([24, 83, 99, 35, 16, 75, 26, 31, 28, 79, 42, 34, 85, 66, 50])"
      ]
     },
     "execution_count": 555,
     "metadata": {},
     "output_type": "execute_result"
    }
   ],
   "source": [
    "# np.cumprod ---> multiply\n",
    "\n",
    "a"
   ]
  },
  {
   "cell_type": "code",
   "execution_count": 557,
   "id": "c5bfd5fd-b474-4ca2-9e73-ee06a182ffb4",
   "metadata": {},
   "outputs": [
    {
     "data": {
      "text/plain": [
       "array([         24,        1992,      197208,     6902280,   110436480,\n",
       "        -307198592,   602771200,  1506038016,  -780608512, -1538530304,\n",
       "        -193763328,  2001981440, -1630269440,  -223600640,  1704869888])"
      ]
     },
     "execution_count": 557,
     "metadata": {},
     "output_type": "execute_result"
    }
   ],
   "source": [
    "np.cumprod(a)"
   ]
  },
  {
   "cell_type": "code",
   "execution_count": 559,
   "id": "6c2449d5-1630-43e9-9527-f8cf391e6987",
   "metadata": {},
   "outputs": [
    {
     "data": {
      "text/plain": [
       "99.0"
      ]
     },
     "execution_count": 559,
     "metadata": {},
     "output_type": "execute_result"
    }
   ],
   "source": [
    "np.percentile(a,100) # max"
   ]
  },
  {
   "cell_type": "code",
   "execution_count": 561,
   "id": "6cc335a8-1fad-4b64-8295-c9df4de9998c",
   "metadata": {},
   "outputs": [
    {
     "data": {
      "text/plain": [
       "16.0"
      ]
     },
     "execution_count": 561,
     "metadata": {},
     "output_type": "execute_result"
    }
   ],
   "source": [
    "np.percentile(a,0)"
   ]
  },
  {
   "cell_type": "markdown",
   "id": "07598ed9-5c91-4a01-bbeb-8684b9fa2c60",
   "metadata": {},
   "source": [
    "#### np.percentile \n",
    "\n",
    "numpy.percentile() function useed to compute the nth percentile ot hte given data (array elements ) along the specified axis."
   ]
  },
  {
   "cell_type": "code",
   "execution_count": 564,
   "id": "ac8f9708-5933-4ff8-b3cb-deb54740ba8e",
   "metadata": {},
   "outputs": [
    {
     "data": {
      "text/plain": [
       "42.0"
      ]
     },
     "execution_count": 564,
     "metadata": {},
     "output_type": "execute_result"
    }
   ],
   "source": [
    "np.percentile(a,50)"
   ]
  },
  {
   "cell_type": "code",
   "execution_count": 566,
   "id": "2b78c31b-3397-489d-a45d-bd85448034ff",
   "metadata": {},
   "outputs": [
    {
     "data": {
      "text/plain": [
       "array([24, 83, 99, 35, 16, 75, 26, 31, 28, 79, 42, 34, 85, 66, 50])"
      ]
     },
     "execution_count": 566,
     "metadata": {},
     "output_type": "execute_result"
    }
   ],
   "source": [
    "a"
   ]
  },
  {
   "cell_type": "code",
   "execution_count": 570,
   "id": "7db41390-d838-41b6-be58-8ce5b88d1bd6",
   "metadata": {},
   "outputs": [
    {
     "data": {
      "text/plain": [
       "array([12. , 41.5, 49.5, 17.5,  8. , 37.5, 13. , 15.5, 14. , 39.5, 21. ,\n",
       "       17. , 42.5, 33. , 25. ])"
      ]
     },
     "execution_count": 570,
     "metadata": {},
     "output_type": "execute_result"
    }
   ],
   "source": [
    "(a*50) / 100"
   ]
  },
  {
   "cell_type": "code",
   "execution_count": 578,
   "id": "9d03beda-ef34-46d8-885a-22a96ac83ebf",
   "metadata": {},
   "outputs": [],
   "source": [
    "k = (a*50) / 100"
   ]
  },
  {
   "cell_type": "code",
   "execution_count": 580,
   "id": "70b24d51-b2a9-4b31-9bb4-913f2c51e29a",
   "metadata": {},
   "outputs": [
    {
     "data": {
      "text/plain": [
       "array([12. , 41.5, 49.5, 17.5,  8. , 37.5, 13. , 15.5, 14. , 39.5, 21. ,\n",
       "       17. , 42.5, 33. , 25. ])"
      ]
     },
     "execution_count": 580,
     "metadata": {},
     "output_type": "execute_result"
    }
   ],
   "source": [
    "k"
   ]
  },
  {
   "cell_type": "code",
   "execution_count": 586,
   "id": "7895d52b-043a-4e66-8588-dd81c89f7571",
   "metadata": {},
   "outputs": [
    {
     "data": {
      "text/plain": [
       "42.0"
      ]
     },
     "execution_count": 586,
     "metadata": {},
     "output_type": "execute_result"
    }
   ],
   "source": [
    "np.median(a)"
   ]
  },
  {
   "cell_type": "markdown",
   "id": "cf86ca38-a4a2-4bb5-9ea3-19fa0ed66701",
   "metadata": {},
   "source": [
    "#### np.histogram\n",
    "\n",
    "Numpy has a built in numpy.histogram() function which represents the **frequency of data**\n",
    "distribution in the graphical form"
   ]
  },
  {
   "cell_type": "code",
   "execution_count": 589,
   "id": "c1749a27-e781-4e50-b2da-82881c311d66",
   "metadata": {},
   "outputs": [
    {
     "data": {
      "text/plain": [
       "array([24, 83, 99, 35, 16, 75, 26, 31, 28, 79, 42, 34, 85, 66, 50])"
      ]
     },
     "execution_count": 589,
     "metadata": {},
     "output_type": "execute_result"
    }
   ],
   "source": [
    "a \n"
   ]
  },
  {
   "cell_type": "code",
   "execution_count": 591,
   "id": "4c3c7283-3a24-4714-acf4-eab0fb7a95ae",
   "metadata": {},
   "outputs": [
    {
     "data": {
      "text/plain": [
       "(array([1, 3, 3, 1, 1, 1, 2, 2, 1], dtype=int64),\n",
       " array([ 10,  20,  30,  40,  50,  60,  70,  80,  90, 100]))"
      ]
     },
     "execution_count": 591,
     "metadata": {},
     "output_type": "execute_result"
    }
   ],
   "source": [
    "np.histogram(a,bins = [10,20,30,40,50,60,70,80,90,100])\n"
   ]
  },
  {
   "cell_type": "code",
   "execution_count": 593,
   "id": "fdba36d2-6ec1-45e9-b498-69ed7f4fd469",
   "metadata": {},
   "outputs": [
    {
     "data": {
      "text/plain": [
       "(array([8, 7], dtype=int64), array([  0,  50, 100]))"
      ]
     },
     "execution_count": 593,
     "metadata": {},
     "output_type": "execute_result"
    }
   ],
   "source": [
    "np.histogram(a,bins = [0,50,100])"
   ]
  },
  {
   "cell_type": "markdown",
   "id": "305c4dbd-41b8-4b97-8d94-44607e26c7a1",
   "metadata": {},
   "source": [
    "#### np.corrcoef\n",
    "\n",
    "return pearson product moment correlation coefficients.\n",
    "\n"
   ]
  },
  {
   "cell_type": "code",
   "execution_count": 600,
   "id": "0dfcb3ab-8016-4c36-b088-7fcb6a08ffa3",
   "metadata": {},
   "outputs": [],
   "source": [
    "salary = np.array([20000,40000,25000,35000,60000])\n",
    "experience = np.array([1,3,2,4,2])"
   ]
  },
  {
   "cell_type": "code",
   "execution_count": 602,
   "id": "f33f5f58-65f1-4a5d-8588-7786c8f903db",
   "metadata": {},
   "outputs": [
    {
     "data": {
      "text/plain": [
       "array([20000, 40000, 25000, 35000, 60000])"
      ]
     },
     "execution_count": 602,
     "metadata": {},
     "output_type": "execute_result"
    }
   ],
   "source": [
    "salary"
   ]
  },
  {
   "cell_type": "code",
   "execution_count": 604,
   "id": "231843d8-e936-4140-8874-dbb8e2d33c06",
   "metadata": {},
   "outputs": [
    {
     "data": {
      "text/plain": [
       "array([1, 3, 2, 4, 2])"
      ]
     },
     "execution_count": 604,
     "metadata": {},
     "output_type": "execute_result"
    }
   ],
   "source": [
    "experience"
   ]
  },
  {
   "cell_type": "code",
   "execution_count": 606,
   "id": "4b20f64c-0004-4399-836e-d681ce99548c",
   "metadata": {},
   "outputs": [
    {
     "data": {
      "text/plain": [
       "array([[1.        , 0.25344572],\n",
       "       [0.25344572, 1.        ]])"
      ]
     },
     "execution_count": 606,
     "metadata": {},
     "output_type": "execute_result"
    }
   ],
   "source": [
    "np.corrcoef(salary,experience) # correlation coeficient"
   ]
  },
  {
   "cell_type": "markdown",
   "id": "d5d7c5f9-442a-4dae-a41f-b640fcb74ddd",
   "metadata": {},
   "source": [
    "#### Utility functions\n",
    "\n",
    "##### np.isin\n",
    "\n",
    "with the help of numpy.isin method we can see that one array having values are checked in a different numpy array having different elements with different sizes.\n"
   ]
  },
  {
   "cell_type": "code",
   "execution_count": 609,
   "id": "829cfe89-986c-4c52-a44f-3ee3a3376114",
   "metadata": {},
   "outputs": [
    {
     "data": {
      "text/plain": [
       "array([24, 83, 99, 35, 16, 75, 26, 31, 28, 79, 42, 34, 85, 66, 50])"
      ]
     },
     "execution_count": 609,
     "metadata": {},
     "output_type": "execute_result"
    }
   ],
   "source": [
    "a"
   ]
  },
  {
   "cell_type": "code",
   "execution_count": 611,
   "id": "0c48aa03-c309-4385-90f1-a10e5fd9b0f0",
   "metadata": {},
   "outputs": [
    {
     "data": {
      "text/plain": [
       "array([False, False, False, False, False, False, False, False, False,\n",
       "       False, False, False, False, False,  True])"
      ]
     },
     "execution_count": 611,
     "metadata": {},
     "output_type": "execute_result"
    }
   ],
   "source": [
    "items = [10,20,30,40,50,60,70,80,90,100]\n",
    "\n",
    "np.isin(a,items)"
   ]
  },
  {
   "cell_type": "code",
   "execution_count": 613,
   "id": "50ddb972-22f9-4acc-9ecd-95c066d042e0",
   "metadata": {},
   "outputs": [
    {
     "data": {
      "text/plain": [
       "array([50])"
      ]
     },
     "execution_count": 613,
     "metadata": {},
     "output_type": "execute_result"
    }
   ],
   "source": [
    "a[np.isin(a,items)]"
   ]
  },
  {
   "cell_type": "markdown",
   "id": "bb53f809-79df-49ae-98f5-43a33fba713c",
   "metadata": {},
   "source": [
    "#### np.flip\n",
    "\n",
    "the numpy.flip() function reverses the order of array elements along the specified axis preserving the shape of the array.\n"
   ]
  },
  {
   "cell_type": "code",
   "execution_count": 616,
   "id": "b14d7cd4-77e0-437e-8f90-cdddbc4dd202",
   "metadata": {},
   "outputs": [
    {
     "data": {
      "text/plain": [
       "array([24, 83, 99, 35, 16, 75, 26, 31, 28, 79, 42, 34, 85, 66, 50])"
      ]
     },
     "execution_count": 616,
     "metadata": {},
     "output_type": "execute_result"
    }
   ],
   "source": [
    "a "
   ]
  },
  {
   "cell_type": "code",
   "execution_count": 618,
   "id": "4cffb1f8-bc61-4c34-a111-e7f6665b4a14",
   "metadata": {},
   "outputs": [
    {
     "data": {
      "text/plain": [
       "array([50, 66, 85, 34, 42, 79, 28, 31, 26, 75, 16, 35, 99, 83, 24])"
      ]
     },
     "execution_count": 618,
     "metadata": {},
     "output_type": "execute_result"
    }
   ],
   "source": [
    "np.flip(a)"
   ]
  },
  {
   "cell_type": "code",
   "execution_count": 620,
   "id": "125445d4-5448-497f-accb-8bcef1aa0e1a",
   "metadata": {},
   "outputs": [
    {
     "data": {
      "text/plain": [
       "array([[72, 38, 97,  3],\n",
       "       [ 3, 62, 81, 81],\n",
       "       [24, 27, 92, 31],\n",
       "       [ 2, 78, 97, 74],\n",
       "       [29, 99, 16, 31],\n",
       "       [82,  8, 79, 45]])"
      ]
     },
     "execution_count": 620,
     "metadata": {},
     "output_type": "execute_result"
    }
   ],
   "source": [
    "b"
   ]
  },
  {
   "cell_type": "code",
   "execution_count": 622,
   "id": "e87961c4-b56e-4ef3-8c88-90ba4a980ba1",
   "metadata": {},
   "outputs": [
    {
     "data": {
      "text/plain": [
       "array([[45, 79,  8, 82],\n",
       "       [31, 16, 99, 29],\n",
       "       [74, 97, 78,  2],\n",
       "       [31, 92, 27, 24],\n",
       "       [81, 81, 62,  3],\n",
       "       [ 3, 97, 38, 72]])"
      ]
     },
     "execution_count": 622,
     "metadata": {},
     "output_type": "execute_result"
    }
   ],
   "source": [
    "np.flip(b)"
   ]
  },
  {
   "cell_type": "code",
   "execution_count": 624,
   "id": "a96d25d5-7b25-46ca-8850-4bc92e7bd817",
   "metadata": {},
   "outputs": [
    {
     "data": {
      "text/plain": [
       "array([[ 3, 97, 38, 72],\n",
       "       [81, 81, 62,  3],\n",
       "       [31, 92, 27, 24],\n",
       "       [74, 97, 78,  2],\n",
       "       [31, 16, 99, 29],\n",
       "       [45, 79,  8, 82]])"
      ]
     },
     "execution_count": 624,
     "metadata": {},
     "output_type": "execute_result"
    }
   ],
   "source": [
    "np.flip(b,axis =1)"
   ]
  },
  {
   "cell_type": "code",
   "execution_count": 626,
   "id": "1c585b77-df10-4d2b-a160-0f147621e988",
   "metadata": {},
   "outputs": [
    {
     "data": {
      "text/plain": [
       "array([[82,  8, 79, 45],\n",
       "       [29, 99, 16, 31],\n",
       "       [ 2, 78, 97, 74],\n",
       "       [24, 27, 92, 31],\n",
       "       [ 3, 62, 81, 81],\n",
       "       [72, 38, 97,  3]])"
      ]
     },
     "execution_count": 626,
     "metadata": {},
     "output_type": "execute_result"
    }
   ],
   "source": [
    "np.flip(b,axis = 0)"
   ]
  },
  {
   "cell_type": "markdown",
   "id": "4de22d24-fa46-4eaf-ad5d-f053777407b3",
   "metadata": {},
   "source": [
    "#### np.put\n",
    "\n",
    "the numpy.put() function replaces specific elements of an array with given values of p_array . array indexed works on flattened array."
   ]
  },
  {
   "cell_type": "code",
   "execution_count": 630,
   "id": "ab017014-f03f-4750-99fa-9d608e949858",
   "metadata": {},
   "outputs": [
    {
     "data": {
      "text/plain": [
       "array([24, 83, 99, 35, 16, 75, 26, 31, 28, 79, 42, 34, 85, 66, 50])"
      ]
     },
     "execution_count": 630,
     "metadata": {},
     "output_type": "execute_result"
    }
   ],
   "source": [
    "a"
   ]
  },
  {
   "cell_type": "code",
   "execution_count": 634,
   "id": "032263c5-1a6a-4665-89cb-55bcf85eb1eb",
   "metadata": {},
   "outputs": [],
   "source": [
    "np.put(a,[0,1],[110,530]) # permanent changes"
   ]
  },
  {
   "cell_type": "code",
   "execution_count": 637,
   "id": "3013bb96-6c26-42f6-b7b7-953245cd29f3",
   "metadata": {},
   "outputs": [
    {
     "data": {
      "text/plain": [
       "array([110, 530,  99,  35,  16,  75,  26,  31,  28,  79,  42,  34,  85,\n",
       "        66,  50])"
      ]
     },
     "execution_count": 637,
     "metadata": {},
     "output_type": "execute_result"
    }
   ],
   "source": [
    "a"
   ]
  },
  {
   "cell_type": "markdown",
   "id": "2b3393cf-b390-4876-9e72-382bfeb919b6",
   "metadata": {},
   "source": [
    "####  np.delete\n",
    "\n",
    "the numpy .delete()  function returns a new array with the deletion of sub arrays along with the mentioned axis"
   ]
  },
  {
   "cell_type": "code",
   "execution_count": 640,
   "id": "8d20f8f1-2f15-4256-adea-0811e22aeaa5",
   "metadata": {},
   "outputs": [
    {
     "data": {
      "text/plain": [
       "array([110, 530,  99,  35,  16,  75,  26,  31,  28,  79,  42,  34,  85,\n",
       "        66,  50])"
      ]
     },
     "execution_count": 640,
     "metadata": {},
     "output_type": "execute_result"
    }
   ],
   "source": [
    "a\n"
   ]
  },
  {
   "cell_type": "code",
   "execution_count": 642,
   "id": "0c7d2db0-20bf-437a-a45d-509fd05f0548",
   "metadata": {},
   "outputs": [
    {
     "data": {
      "text/plain": [
       "array([530,  99,  35,  16,  75,  26,  31,  28,  79,  42,  34,  85,  66,\n",
       "        50])"
      ]
     },
     "execution_count": 642,
     "metadata": {},
     "output_type": "execute_result"
    }
   ],
   "source": [
    "np.delete(a,0)# deleted 0 index item"
   ]
  },
  {
   "cell_type": "code",
   "execution_count": 644,
   "id": "a9daaab3-c1f8-4a01-b25e-9ba7c3e6881c",
   "metadata": {},
   "outputs": [
    {
     "data": {
      "text/plain": [
       "array([110, 530,  99,  35,  16,  75,  26,  31,  28,  79,  42,  34,  85,\n",
       "        66,  50])"
      ]
     },
     "execution_count": 644,
     "metadata": {},
     "output_type": "execute_result"
    }
   ],
   "source": [
    "a"
   ]
  },
  {
   "cell_type": "code",
   "execution_count": 648,
   "id": "18368428-5719-4320-8d46-d720b64016fa",
   "metadata": {},
   "outputs": [
    {
     "data": {
      "text/plain": [
       "array([530,  35,  75,  26,  31,  28,  79,  42,  34,  85,  66,  50])"
      ]
     },
     "execution_count": 648,
     "metadata": {},
     "output_type": "execute_result"
    }
   ],
   "source": [
    "np.delete(a,[0,2,4] )# deleted 0,2,4 index items"
   ]
  },
  {
   "cell_type": "markdown",
   "id": "8cec67b7-16c2-4379-99b2-3a95d1f3ef78",
   "metadata": {},
   "source": [
    "####  set functions \n",
    "\n",
    "\n",
    "* np.union1d\n",
    "* np.intersect1d\n",
    "* np.setdiff1d\n",
    "* np.setxor1d\n",
    "* np.in1d"
   ]
  },
  {
   "cell_type": "code",
   "execution_count": 651,
   "id": "c5305e71-0a39-4b37-ba4c-1fe92dd2fd32",
   "metadata": {},
   "outputs": [],
   "source": [
    "m = np.array([1,2,3,4,5])\n",
    "n = np.array([3,4,5,6,7])\n",
    "\n"
   ]
  },
  {
   "cell_type": "code",
   "execution_count": 653,
   "id": "6c33f52e-bd8a-466e-9dd4-8d29a31ede77",
   "metadata": {},
   "outputs": [
    {
     "data": {
      "text/plain": [
       "array([1, 2, 3, 4, 5, 6, 7])"
      ]
     },
     "execution_count": 653,
     "metadata": {},
     "output_type": "execute_result"
    }
   ],
   "source": [
    "np.union1d(m,n)"
   ]
  },
  {
   "cell_type": "code",
   "execution_count": 655,
   "id": "bf43c041-d7c2-4d88-9af9-056901325c7c",
   "metadata": {},
   "outputs": [
    {
     "data": {
      "text/plain": [
       "array([3, 4, 5])"
      ]
     },
     "execution_count": 655,
     "metadata": {},
     "output_type": "execute_result"
    }
   ],
   "source": [
    "np.intersect1d(m,n)"
   ]
  },
  {
   "cell_type": "code",
   "execution_count": 657,
   "id": "783ff291-a85a-4006-b507-01d9dd1742cb",
   "metadata": {},
   "outputs": [
    {
     "data": {
      "text/plain": [
       "array([1, 2])"
      ]
     },
     "execution_count": 657,
     "metadata": {},
     "output_type": "execute_result"
    }
   ],
   "source": [
    "np.setdiff1d(m,n)"
   ]
  },
  {
   "cell_type": "code",
   "execution_count": 659,
   "id": "0039dc55-b53e-4563-8f0b-71dbce7094b3",
   "metadata": {},
   "outputs": [
    {
     "data": {
      "text/plain": [
       "array([6, 7])"
      ]
     },
     "execution_count": 659,
     "metadata": {},
     "output_type": "execute_result"
    }
   ],
   "source": [
    "np.setdiff1d(n,m)"
   ]
  },
  {
   "cell_type": "code",
   "execution_count": 661,
   "id": "b54b625d-5deb-4722-a555-ecdfba3684aa",
   "metadata": {},
   "outputs": [
    {
     "data": {
      "text/plain": [
       "array([1, 2, 6, 7])"
      ]
     },
     "execution_count": 661,
     "metadata": {},
     "output_type": "execute_result"
    }
   ],
   "source": [
    "np.setxor1d(m,n)"
   ]
  },
  {
   "cell_type": "code",
   "execution_count": 663,
   "id": "2490734b-ea54-42ba-9b75-3084dbab7ef7",
   "metadata": {},
   "outputs": [
    {
     "data": {
      "text/plain": [
       "array([1])"
      ]
     },
     "execution_count": 663,
     "metadata": {},
     "output_type": "execute_result"
    }
   ],
   "source": [
    "m[np.in1d(m,1)]"
   ]
  },
  {
   "cell_type": "code",
   "execution_count": 665,
   "id": "aeb02688-b3af-4d59-888b-2b5ab613ca07",
   "metadata": {},
   "outputs": [
    {
     "data": {
      "text/plain": [
       "array([False, False, False, False, False])"
      ]
     },
     "execution_count": 665,
     "metadata": {},
     "output_type": "execute_result"
    }
   ],
   "source": [
    "np.in1d(m,10)"
   ]
  },
  {
   "cell_type": "markdown",
   "id": "6dbe510a-1969-484e-9af0-830b21d20dea",
   "metadata": {},
   "source": [
    "#### np.clip\n",
    "numpy.clip() function is used to clip limit the values in an array."
   ]
  },
  {
   "cell_type": "code",
   "execution_count": 668,
   "id": "03c587a2-0b9f-4072-975c-17b2407495a1",
   "metadata": {},
   "outputs": [
    {
     "data": {
      "text/plain": [
       "array([110, 530,  99,  35,  16,  75,  26,  31,  28,  79,  42,  34,  85,\n",
       "        66,  50])"
      ]
     },
     "execution_count": 668,
     "metadata": {},
     "output_type": "execute_result"
    }
   ],
   "source": [
    "a"
   ]
  },
  {
   "cell_type": "code",
   "execution_count": 670,
   "id": "e94f68a6-eaa1-4ffe-859b-e2ae70c71d74",
   "metadata": {},
   "outputs": [
    {
     "data": {
      "text/plain": [
       "array([50, 50, 50, 35, 16, 50, 26, 31, 28, 50, 42, 34, 50, 50, 50])"
      ]
     },
     "execution_count": 670,
     "metadata": {},
     "output_type": "execute_result"
    }
   ],
   "source": [
    "np.clip(a,a_min = 15,a_max =50)"
   ]
  },
  {
   "cell_type": "markdown",
   "id": "5fc697c1-b523-421e-983a-3b444272756f",
   "metadata": {},
   "source": [
    "###### it clips the minimum data to 15 and replaces everything below data to 15 and maximum to 50\n",
    "\n",
    "#### np.swapaxes \n",
    "\n",
    "numpy.swapaxes() function interchange two axes of an arrray.\n"
   ]
  },
  {
   "cell_type": "code",
   "execution_count": 677,
   "id": "a2136363-12b7-40c0-a5ab-9c03dd1948f9",
   "metadata": {},
   "outputs": [],
   "source": [
    "arr = np.array([[1,2,3],[4,5,6]])\n",
    "swapped_arr = np.swapaxes(arr,0,1)\n"
   ]
  },
  {
   "cell_type": "code",
   "execution_count": 679,
   "id": "f61750a0-f080-4cf6-b17e-fe24bb2a24ef",
   "metadata": {},
   "outputs": [
    {
     "data": {
      "text/plain": [
       "array([[1, 2, 3],\n",
       "       [4, 5, 6]])"
      ]
     },
     "execution_count": 679,
     "metadata": {},
     "output_type": "execute_result"
    }
   ],
   "source": [
    "arr"
   ]
  },
  {
   "cell_type": "code",
   "execution_count": 681,
   "id": "0a0521e9-82e8-4485-a3bd-c9e5a2618be6",
   "metadata": {},
   "outputs": [
    {
     "data": {
      "text/plain": [
       "array([[1, 4],\n",
       "       [2, 5],\n",
       "       [3, 6]])"
      ]
     },
     "execution_count": 681,
     "metadata": {},
     "output_type": "execute_result"
    }
   ],
   "source": [
    "swapped_arr"
   ]
  },
  {
   "cell_type": "code",
   "execution_count": 683,
   "id": "6326f23a-2e1a-4650-95c9-8edf9c69252e",
   "metadata": {},
   "outputs": [
    {
     "name": "stdout",
     "output_type": "stream",
     "text": [
      "Original array:\n",
      "[[1 2 3]\n",
      " [4 5 6]]\n"
     ]
    }
   ],
   "source": [
    "print(\"Original array:\")\n",
    "print(arr)"
   ]
  },
  {
   "cell_type": "code",
   "execution_count": 685,
   "id": "1071378f-b148-4ba1-ad3b-ed594e367797",
   "metadata": {},
   "outputs": [
    {
     "name": "stdout",
     "output_type": "stream",
     "text": [
      "swapped array:\n",
      "[[1 4]\n",
      " [2 5]\n",
      " [3 6]]\n"
     ]
    }
   ],
   "source": [
    "print(\"swapped array:\")\n",
    "print(swapped_arr)"
   ]
  },
  {
   "cell_type": "markdown",
   "id": "9d1c3ae4-6b3e-4048-85ed-9a76b282e764",
   "metadata": {},
   "source": [
    "******************************************************************************************"
   ]
  },
  {
   "cell_type": "code",
   "execution_count": null,
   "id": "bed4e526-bef8-442b-9fad-d2469f2528b7",
   "metadata": {},
   "outputs": [],
   "source": []
  }
 ],
 "metadata": {
  "kernelspec": {
   "display_name": "Python 3 (ipykernel)",
   "language": "python",
   "name": "python3"
  },
  "language_info": {
   "codemirror_mode": {
    "name": "ipython",
    "version": 3
   },
   "file_extension": ".py",
   "mimetype": "text/x-python",
   "name": "python",
   "nbconvert_exporter": "python",
   "pygments_lexer": "ipython3",
   "version": "3.11.7"
  }
 },
 "nbformat": 4,
 "nbformat_minor": 5
}
